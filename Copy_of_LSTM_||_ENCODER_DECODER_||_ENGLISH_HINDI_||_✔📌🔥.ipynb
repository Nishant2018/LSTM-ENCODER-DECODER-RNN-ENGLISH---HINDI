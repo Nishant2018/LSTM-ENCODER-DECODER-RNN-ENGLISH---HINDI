{
  "metadata": {
    "kaggle": {
      "accelerator": "nvidiaTeslaT4",
      "dataSources": [
        {
          "sourceId": 4246862,
          "sourceType": "datasetVersion",
          "datasetId": 2502545
        },
        {
          "sourceId": 7758028,
          "sourceType": "datasetVersion",
          "datasetId": 4536739
        }
      ],
      "dockerImageVersionId": 30664,
      "isInternetEnabled": true,
      "language": "python",
      "sourceType": "notebook",
      "isGpuEnabled": true
    },
    "kernelspec": {
      "display_name": "Python 3",
      "name": "python3"
    },
    "language_info": {
      "codemirror_mode": {
        "name": "ipython",
        "version": 3
      },
      "file_extension": ".py",
      "mimetype": "text/x-python",
      "name": "python",
      "nbconvert_exporter": "python",
      "pygments_lexer": "ipython3",
      "version": "3.10.13"
    },
    "papermill": {
      "default_parameters": {},
      "duration": 16944.18278,
      "end_time": "2024-03-05T00:44:55.373661",
      "environment_variables": {},
      "exception": true,
      "input_path": "__notebook__.ipynb",
      "output_path": "__notebook__.ipynb",
      "parameters": {},
      "start_time": "2024-03-04T20:02:31.190881",
      "version": "2.5.0"
    },
    "colab": {
      "provenance": [],
      "gpuType": "T4",
      "include_colab_link": true
    },
    "accelerator": "GPU"
  },
  "nbformat_minor": 5,
  "nbformat": 4,
  "cells": [
    {
      "cell_type": "markdown",
      "metadata": {
        "id": "view-in-github",
        "colab_type": "text"
      },
      "source": [
        "<a href=\"https://colab.research.google.com/github/Nishant2018/LSTM-ENCODER-DECODER-RNN-ENGLISH---HINDI/blob/main/Copy_of_LSTM_%7C%7C_ENCODER_DECODER_%7C%7C_ENGLISH_HINDI_%7C%7C_%E2%9C%94%F0%9F%93%8C%F0%9F%94%A5.ipynb\" target=\"_parent\"><img src=\"https://colab.research.google.com/assets/colab-badge.svg\" alt=\"Open In Colab\"/></a>"
      ]
    },
    {
      "source": [
        "# IMPORTANT: RUN THIS CELL IN ORDER TO IMPORT YOUR KAGGLE DATA SOURCES\n",
        "# TO THE CORRECT LOCATION (/kaggle/input) IN YOUR NOTEBOOK,\n",
        "# THEN FEEL FREE TO DELETE THIS CELL.\n",
        "# NOTE: THIS NOTEBOOK ENVIRONMENT DIFFERS FROM KAGGLE'S PYTHON\n",
        "# ENVIRONMENT SO THERE MAY BE MISSING LIBRARIES USED BY YOUR\n",
        "# NOTEBOOK.\n",
        "\n",
        "import os\n",
        "import sys\n",
        "from tempfile import NamedTemporaryFile\n",
        "from urllib.request import urlopen\n",
        "from urllib.parse import unquote, urlparse\n",
        "from urllib.error import HTTPError\n",
        "from zipfile import ZipFile\n",
        "import tarfile\n",
        "import shutil\n",
        "\n",
        "CHUNK_SIZE = 40960\n",
        "DATA_SOURCE_MAPPING = 'english-hindi-dataset:https%3A%2F%2Fstorage.googleapis.com%2Fkaggle-data-sets%2F2502545%2F4246862%2Fbundle%2Farchive.zip%3FX-Goog-Algorithm%3DGOOG4-RSA-SHA256%26X-Goog-Credential%3Dgcp-kaggle-com%2540kaggle-161607.iam.gserviceaccount.com%252F20240306%252Fauto%252Fstorage%252Fgoog4_request%26X-Goog-Date%3D20240306T071504Z%26X-Goog-Expires%3D259200%26X-Goog-SignedHeaders%3Dhost%26X-Goog-Signature%3D82998c0957cd91796349a17eed31ca9944cc70fca65b3d4d4cba7c006171a58cf6741e8f69591afb0365f2ede361a610e50b26644eec1e8d05f6659d0b614c3ee0cec0f07cee24c551ec3e87f4327f31bb6043e8ec910cd66e550ddaa405079a59dea3d3a1c93c41c5ea0378fae9be13a4624472bbc4d5931735abc593720efe498720decd489ebcf0d762dfb25815ea3723724f897263facf6bb150720a5e35807bcce4b4d132111919867dd2085e2471f1249d7b726901150971412dae74b4efd70d4f701b3dc47bfa975db1c47974451e59e748c6740885f2af9ecf0631172357076337f0119fbf1491f33e4fe0a211e003d4f95e408a2c2b28754cc1174a,ttf-file:https%3A%2F%2Fstorage.googleapis.com%2Fkaggle-data-sets%2F4536739%2F7758028%2Fbundle%2Farchive.zip%3FX-Goog-Algorithm%3DGOOG4-RSA-SHA256%26X-Goog-Credential%3Dgcp-kaggle-com%2540kaggle-161607.iam.gserviceaccount.com%252F20240306%252Fauto%252Fstorage%252Fgoog4_request%26X-Goog-Date%3D20240306T071504Z%26X-Goog-Expires%3D259200%26X-Goog-SignedHeaders%3Dhost%26X-Goog-Signature%3Da6211bf1884c7f6517ff0f31a59b6100f8fd5a8e12fed19602a54c165b9df623443b61f8812c320e983b4985d0874ee0c0973400e95459427b8a0c3231fdf1fc79028a76ee8690bca08ec11d8dfc1cf9dd13b237bc572b23f3bdab447fb49bccf1f76d346c22d9d841a321122ceb81779fa589ec6d07672711d4d6bb63478ca27970b8a2a45de1743d57442455b72bb525d71959e59fad0b4e2dfbf3eff96c615872d65c8593adf91c079bcce81db152c8a6eaa243f8f8cb74de6eb4c3ab7a1eb1aa40c0696fc3734f5a4625d2a1aabb3be2f85bb433eea031918248eeba368021500e9f55aace1ef28dd00328f89bfb53addac42ad2b4d9833ba015953d4c22'\n",
        "\n",
        "KAGGLE_INPUT_PATH='/kaggle/input'\n",
        "KAGGLE_WORKING_PATH='/kaggle/working'\n",
        "KAGGLE_SYMLINK='kaggle'\n",
        "\n",
        "!umount /kaggle/input/ 2> /dev/null\n",
        "shutil.rmtree('/kaggle/input', ignore_errors=True)\n",
        "os.makedirs(KAGGLE_INPUT_PATH, 0o777, exist_ok=True)\n",
        "os.makedirs(KAGGLE_WORKING_PATH, 0o777, exist_ok=True)\n",
        "\n",
        "try:\n",
        "  os.symlink(KAGGLE_INPUT_PATH, os.path.join(\"..\", 'input'), target_is_directory=True)\n",
        "except FileExistsError:\n",
        "  pass\n",
        "try:\n",
        "  os.symlink(KAGGLE_WORKING_PATH, os.path.join(\"..\", 'working'), target_is_directory=True)\n",
        "except FileExistsError:\n",
        "  pass\n",
        "\n",
        "for data_source_mapping in DATA_SOURCE_MAPPING.split(','):\n",
        "    directory, download_url_encoded = data_source_mapping.split(':')\n",
        "    download_url = unquote(download_url_encoded)\n",
        "    filename = urlparse(download_url).path\n",
        "    destination_path = os.path.join(KAGGLE_INPUT_PATH, directory)\n",
        "    try:\n",
        "        with urlopen(download_url) as fileres, NamedTemporaryFile() as tfile:\n",
        "            total_length = fileres.headers['content-length']\n",
        "            print(f'Downloading {directory}, {total_length} bytes compressed')\n",
        "            dl = 0\n",
        "            data = fileres.read(CHUNK_SIZE)\n",
        "            while len(data) > 0:\n",
        "                dl += len(data)\n",
        "                tfile.write(data)\n",
        "                done = int(50 * dl / int(total_length))\n",
        "                sys.stdout.write(f\"\\r[{'=' * done}{' ' * (50-done)}] {dl} bytes downloaded\")\n",
        "                sys.stdout.flush()\n",
        "                data = fileres.read(CHUNK_SIZE)\n",
        "            if filename.endswith('.zip'):\n",
        "              with ZipFile(tfile) as zfile:\n",
        "                zfile.extractall(destination_path)\n",
        "            else:\n",
        "              with tarfile.open(tfile.name) as tarfile:\n",
        "                tarfile.extractall(destination_path)\n",
        "            print(f'\\nDownloaded and uncompressed: {directory}')\n",
        "    except HTTPError as e:\n",
        "        print(f'Failed to load (likely expired) {download_url} to path {destination_path}')\n",
        "        continue\n",
        "    except OSError as e:\n",
        "        print(f'Failed to load {download_url} to path {destination_path}')\n",
        "        continue\n",
        "\n",
        "print('Data source import complete.')"
      ],
      "metadata": {
        "id": "wF_2rSsxnbu4",
        "colab": {
          "base_uri": "https://localhost:8080/"
        },
        "outputId": "bb583bc4-5790-44d4-b3b0-67fac989c81c"
      },
      "cell_type": "code",
      "outputs": [
        {
          "output_type": "stream",
          "name": "stdout",
          "text": [
            "Downloading english-hindi-dataset, 14525612 bytes compressed\n",
            "[==================================================] 14525612 bytes downloaded\n",
            "Downloaded and uncompressed: english-hindi-dataset\n",
            "Downloading ttf-file, 30971 bytes compressed\n",
            "[==================================================] 30971 bytes downloaded\n",
            "Downloaded and uncompressed: ttf-file\n",
            "Data source import complete.\n"
          ]
        }
      ],
      "execution_count": null,
      "id": "wF_2rSsxnbu4"
    },
    {
      "cell_type": "markdown",
      "source": [
        "\n",
        "<div style=\"color:white; background-color:#5642C5; padding: 10px; border-radius: 15px; font-size: 150%; font-family: Verdana; text-align:center; -webkit-text-stroke-width: 1px; -webkit-text-stroke-color: black; text-shadow: 2px 2px 4px rgba(0, 0, 0, 0.7);\">\n",
        "     English To Hindi (LSTM || Encoder Decoder)\n",
        "</div>"
      ],
      "metadata": {
        "papermill": {
          "duration": 0.022095,
          "end_time": "2024-03-04T20:02:34.225668",
          "exception": false,
          "start_time": "2024-03-04T20:02:34.203573",
          "status": "completed"
        },
        "tags": [],
        "id": "FhPnIu4znbu8"
      },
      "id": "FhPnIu4znbu8"
    },
    {
      "cell_type": "markdown",
      "source": [
        "![](https://miro.medium.com/v2/resize:fit:1400/1*4OqZzRMNB7F5ixe3PDgB-Q.jpeg)"
      ],
      "metadata": {
        "papermill": {
          "duration": 0.01995,
          "end_time": "2024-03-04T20:02:34.266311",
          "exception": false,
          "start_time": "2024-03-04T20:02:34.246361",
          "status": "completed"
        },
        "tags": [],
        "id": "hhc9dgoynbu-"
      },
      "id": "hhc9dgoynbu-"
    },
    {
      "cell_type": "markdown",
      "source": [
        "\n",
        "<div style=\"color:white; background-color:#5642C5; padding: 10px; border-radius: 15px; font-size: 150%; font-family: Verdana; text-align:center; -webkit-text-stroke-width: 1px; -webkit-text-stroke-color: black; text-shadow: 2px 2px 4px rgba(0, 0, 0, 0.7);\">\n",
        "     Ecoder Decoder Model Sample\n",
        "</div>"
      ],
      "metadata": {
        "papermill": {
          "duration": 0.019791,
          "end_time": "2024-03-04T20:02:34.307042",
          "exception": false,
          "start_time": "2024-03-04T20:02:34.287251",
          "status": "completed"
        },
        "tags": [],
        "id": "IbwO58yCnbu_"
      },
      "id": "IbwO58yCnbu_"
    },
    {
      "cell_type": "markdown",
      "source": [
        "![Encoder](https://substackcdn.com/image/fetch/f_auto,q_auto:good,fl_progressive:steep/https%3A%2F%2Fsubstack-post-media.s3.amazonaws.com%2Fpublic%2Fimages%2Fe35687cc-a0b6-4838-ae2d-ced30f8416e0_2826x1272.png)"
      ],
      "metadata": {
        "papermill": {
          "duration": 0.019772,
          "end_time": "2024-03-04T20:02:34.347036",
          "exception": false,
          "start_time": "2024-03-04T20:02:34.327264",
          "status": "completed"
        },
        "tags": [],
        "id": "7nqPYPzHnbu_"
      },
      "id": "7nqPYPzHnbu_"
    },
    {
      "cell_type": "markdown",
      "source": [
        "\n",
        "### Encoder-Decoder Architecture in RNNs:\n",
        "- **Architecture**:\n",
        "  - Comprises two RNNs: an Encoder and a Decoder.\n",
        "  - Encoder processes the input sequence and converts it into a fixed-size context vector.\n",
        "  - Decoder takes this context vector and generates the output sequence step by step.\n",
        "\n",
        "- **Encoder**:\n",
        "  - Takes input sequence one token at a time.\n",
        "  - Outputs a context vector summarizing the input sequence.\n",
        "  - Can use various RNN variants like LSTM or GRU.\n",
        "\n",
        "- **Decoder**:\n",
        "  - Takes the context vector from the Encoder and generates the output sequence.\n",
        "  - Processes the output sequence step by step, incorporating information from the context vector.\n",
        "  - Can have a different architecture from the Encoder, but typically uses the same RNN variant.\n",
        "\n",
        "- **Training**:\n",
        "  - During training, both Encoder and Decoder are jointly trained using teacher forcing.\n",
        "  - Teacher forcing involves providing the correct previous target token as input to the Decoder at each step.\n",
        "\n",
        "- **Inference**:\n",
        "  - During inference, the Encoder processes the input sequence to obtain the context vector.\n",
        "  - The Decoder generates the output sequence one token at a time based on the context vector and previously generated tokens.\n"
      ],
      "metadata": {
        "papermill": {
          "duration": 0.019822,
          "end_time": "2024-03-04T20:02:34.386861",
          "exception": false,
          "start_time": "2024-03-04T20:02:34.367039",
          "status": "completed"
        },
        "tags": [],
        "id": "s-Sj-8Ocnbu_"
      },
      "id": "s-Sj-8Ocnbu_"
    },
    {
      "cell_type": "markdown",
      "source": [
        "\n",
        "<div style=\"color:white; background-color:#5642C5; padding: 10px; border-radius: 15px; font-size: 150%; font-family: Verdana; text-align:center; -webkit-text-stroke-width: 1px; -webkit-text-stroke-color: black; text-shadow: 2px 2px 4px rgba(0, 0, 0, 0.7);\">\n",
        "     Seq2Seq\n",
        "</div>"
      ],
      "metadata": {
        "papermill": {
          "duration": 0.016978,
          "end_time": "2024-03-04T20:02:34.422559",
          "exception": false,
          "start_time": "2024-03-04T20:02:34.405581",
          "status": "completed"
        },
        "tags": [],
        "id": "DMGWobnanbvA"
      },
      "id": "DMGWobnanbvA"
    },
    {
      "cell_type": "markdown",
      "source": [
        "![Seq2Seq](https://classic.d2l.ai/_images/seq2seq.svg)"
      ],
      "metadata": {
        "papermill": {
          "duration": 0.0168,
          "end_time": "2024-03-04T20:02:34.457032",
          "exception": false,
          "start_time": "2024-03-04T20:02:34.440232",
          "status": "completed"
        },
        "tags": [],
        "id": "Q-f72jS8nbvA"
      },
      "id": "Q-f72jS8nbvA"
    },
    {
      "cell_type": "markdown",
      "source": [
        "### Sequence-to-Sequence (seq2seq) Models:\n",
        "- **Objective**:\n",
        "  - Designed for tasks involving variable-length input and output sequences.\n",
        "  - Examples include machine translation, text summarization, and question answering.\n",
        "\n",
        "- **Input-Output Mapping**:\n",
        "  - Maps an input sequence to an output sequence.\n",
        "  - Both input and output sequences can have varying lengths.\n",
        "\n",
        "- **Flexibility**:\n",
        "  - Allows handling tasks where the length of the input sequence is different from the length of the output sequence.\n",
        "\n",
        "- **Encoder-Decoder Paradigm**:\n",
        "  - seq2seq models typically employ an Encoder-Decoder architecture.\n",
        "  - Encoder processes the input sequence, capturing its meaning.\n",
        "  - Decoder generates the output sequence based on the context provided by the Encoder.\n",
        "\n",
        "- **Applications**:\n",
        "  - Used in various natural language processing tasks such as machine translation, text summarization, and dialogue generation.\n",
        "  - Also applicable in tasks like time series prediction and speech recognition.\n",
        "\n",
        "- **Attention Mechanism**:\n",
        "  - Often enhanced with attention mechanisms to improve performance.\n",
        "  - Attention allows the model to focus on different parts of the input sequence dynamically while generating the output sequence.\n",
        "\n",
        "- **Training**:\n",
        "  - Trained end-to-end using backpropagation with teacher forcing during training.\n",
        "  - Parameters are optimized to minimize a suitable loss function such as cross-entropy loss.\n",
        "\n",
        "- **Evaluation**:\n",
        "  - Evaluated based on metrics specific to the task, such as BLEU score for machine translation or ROUGE score for text summarization.\n"
      ],
      "metadata": {
        "papermill": {
          "duration": 0.016583,
          "end_time": "2024-03-04T20:02:34.490553",
          "exception": false,
          "start_time": "2024-03-04T20:02:34.47397",
          "status": "completed"
        },
        "tags": [],
        "id": "TJwwQckBnbvB"
      },
      "id": "TJwwQckBnbvB"
    },
    {
      "cell_type": "markdown",
      "source": [
        "\n",
        "<div style=\"color:white; background-color:#5642C5; padding: 10px; border-radius: 15px; font-size: 150%; font-family: Verdana; text-align:center; -webkit-text-stroke-width: 1px; -webkit-text-stroke-color: black; text-shadow: 2px 2px 4px rgba(0, 0, 0, 0.7);\">\n",
        "     Steps (Preprocessing -> Model Creation)\n",
        "</div>"
      ],
      "metadata": {
        "papermill": {
          "duration": 0.016712,
          "end_time": "2024-03-04T20:02:34.524097",
          "exception": false,
          "start_time": "2024-03-04T20:02:34.507385",
          "status": "completed"
        },
        "tags": [],
        "id": "W8P7GIuEnbvB"
      },
      "id": "W8P7GIuEnbvB"
    },
    {
      "cell_type": "markdown",
      "source": [
        "Certainly! Here are the steps for English to Hindi conversion using encoder-decoder in RNN:\n",
        "\n",
        "1. **Data Collection**:\n",
        "   - Gather parallel text data consisting of English sentences paired with their corresponding Hindi translations. Sources can include translated literature, bilingual websites, language corpora, or user-generated content.\n",
        "\n",
        "2. **Data Preprocessing**:\n",
        "   - **Text Cleaning**:\n",
        "     - Remove noise such as special characters, punctuation, HTML tags, and URLs from both English and Hindi text data.\n",
        "   - **Tokenization**:\n",
        "     - Split the text into individual words or tokens for both English and Hindi sentences.\n",
        "   - **Lowercasing**:\n",
        "     - Convert all text to lowercase for both languages to ensure consistency.\n",
        "   - **Handling Special Characters**:\n",
        "     - Handle special characters unique to Hindi script, such as consonant-vowel combinations.\n",
        "   - **Padding**:\n",
        "     - Ensure that all sequences have the same length by padding shorter sequences with a special token.\n",
        "\n",
        "3. **Feature Extraction**:\n",
        "   - **Word Embeddings**:\n",
        "     - Convert words in both English and Hindi sentences into dense vector representations using pre-trained word embeddings like Word2Vec or GloVe.\n",
        "   - **Sequence Representation**:\n",
        "     - Represent each sequence of words in both English and Hindi sentences as numerical vectors.\n",
        "\n",
        "4. **Model Architecture**:\n",
        "   - **Encoder-Decoder Architecture**:\n",
        "     - Implement an encoder-decoder architecture using Recurrent Neural Networks (RNNs) or Long Short-Term Memory (LSTM) networks.\n",
        "     - The encoder processes the input English sentence and encodes its meaning into a fixed-length context vector.\n",
        "     - The decoder then uses this context vector to generate the corresponding Hindi translation word by word.\n",
        "\n",
        "5. **Training the Model**:\n",
        "   - **Data Splitting**:\n",
        "     - Split the parallel text data into training, validation, and test sets.\n",
        "   - **Loss Function**:\n",
        "     - Define a suitable loss function such as categorical cross-entropy to measure the difference between the predicted and actual Hindi translations.\n",
        "   - **Optimizer**:\n",
        "     - Select an optimizer like Adam or RMSprop to minimize the loss during training.\n",
        "   - **Training**:\n",
        "     - Train the encoder-decoder model on the training data, adjusting the model's parameters to minimize the loss on the validation set.\n",
        "\n",
        "6. **Model Evaluation**:\n",
        "   - **Performance Metrics**:\n",
        "     - Evaluate the model's performance on the test set using metrics such as BLEU score, accuracy, or perplexity.\n",
        "     - BLEU score measures the similarity between the predicted and reference Hindi translations.\n",
        "\n",
        "7. **Inference**:\n",
        "   - **Prediction**:\n",
        "     - Use the trained encoder-decoder model to translate English sentences into Hindi by feeding them through the encoder and decoding the output using the decoder.\n",
        "\n",
        "8. **Post-Processing**:\n",
        "   - **Decoding**:\n",
        "     - Decode the numerical representations of Hindi words back into their textual form.\n",
        "   - **Visualization**:\n",
        "     - Visualize the translated Hindi sentences alongside their original English counterparts for inspection and validation.\n",
        "\n",
        "9. **Model Fine-Tuning (Optional)**:\n",
        "   - Fine-tune the encoder-decoder model based on feedback or additional data to improve translation accuracy.\n",
        "\n",
        "10. **Deployment**:\n",
        "   - Deploy the trained English to Hindi translation model for use in applications requiring real-time or batch translation services.\n",
        "\n",
        "11. **Monitoring and Maintenance**:\n",
        "   - Monitor the model's performance in production and update it as needed to adapt to changing language patterns or requirements."
      ],
      "metadata": {
        "papermill": {
          "duration": 0.017869,
          "end_time": "2024-03-04T20:02:34.558722",
          "exception": false,
          "start_time": "2024-03-04T20:02:34.540853",
          "status": "completed"
        },
        "tags": [],
        "id": "XiaQeyuNnbvB"
      },
      "id": "XiaQeyuNnbvB"
    },
    {
      "cell_type": "markdown",
      "source": [
        "\n",
        "<div style=\"color:white; background-color:#5642C5; padding: 10px; border-radius: 15px; font-size: 150%; font-family: Verdana; text-align:center; -webkit-text-stroke-width: 1px; -webkit-text-stroke-color: black; text-shadow: 2px 2px 4px rgba(0, 0, 0, 0.7);\">\n",
        "    Importing Libraries\n",
        "</div>"
      ],
      "metadata": {
        "papermill": {
          "duration": 0.017659,
          "end_time": "2024-03-04T20:02:34.595444",
          "exception": false,
          "start_time": "2024-03-04T20:02:34.577785",
          "status": "completed"
        },
        "tags": [],
        "id": "xLh4nEvBnbvB"
      },
      "id": "xLh4nEvBnbvB"
    },
    {
      "cell_type": "code",
      "source": [
        "!pip install contractions"
      ],
      "metadata": {
        "papermill": {
          "duration": 15.053008,
          "end_time": "2024-03-04T20:02:49.666259",
          "exception": false,
          "start_time": "2024-03-04T20:02:34.613251",
          "status": "completed"
        },
        "tags": [],
        "execution": {
          "iopub.status.busy": "2024-03-06T05:31:27.046896Z",
          "iopub.execute_input": "2024-03-06T05:31:27.0479Z",
          "iopub.status.idle": "2024-03-06T05:31:41.562482Z",
          "shell.execute_reply.started": "2024-03-06T05:31:27.047864Z",
          "shell.execute_reply": "2024-03-06T05:31:41.561397Z"
        },
        "trusted": true,
        "id": "7WGBndJ-nbvC",
        "colab": {
          "base_uri": "https://localhost:8080/"
        },
        "outputId": "53b05b28-0f5b-409e-bd6f-2a5dc4a3a3a1"
      },
      "execution_count": null,
      "outputs": [
        {
          "output_type": "stream",
          "name": "stdout",
          "text": [
            "Collecting contractions\n",
            "  Downloading contractions-0.1.73-py2.py3-none-any.whl (8.7 kB)\n",
            "Collecting textsearch>=0.0.21 (from contractions)\n",
            "  Downloading textsearch-0.0.24-py2.py3-none-any.whl (7.6 kB)\n",
            "Collecting anyascii (from textsearch>=0.0.21->contractions)\n",
            "  Downloading anyascii-0.3.2-py3-none-any.whl (289 kB)\n",
            "\u001b[2K     \u001b[90m━━━━━━━━━━━━━━━━━━━━━━━━━━━━━━━━━━━━━━━━\u001b[0m \u001b[32m289.9/289.9 kB\u001b[0m \u001b[31m4.0 MB/s\u001b[0m eta \u001b[36m0:00:00\u001b[0m\n",
            "\u001b[?25hCollecting pyahocorasick (from textsearch>=0.0.21->contractions)\n",
            "  Downloading pyahocorasick-2.0.0-cp310-cp310-manylinux_2_5_x86_64.manylinux1_x86_64.manylinux_2_12_x86_64.manylinux2010_x86_64.whl (110 kB)\n",
            "\u001b[2K     \u001b[90m━━━━━━━━━━━━━━━━━━━━━━━━━━━━━━━━━━━━━━━━\u001b[0m \u001b[32m110.8/110.8 kB\u001b[0m \u001b[31m4.3 MB/s\u001b[0m eta \u001b[36m0:00:00\u001b[0m\n",
            "\u001b[?25hInstalling collected packages: pyahocorasick, anyascii, textsearch, contractions\n",
            "Successfully installed anyascii-0.3.2 contractions-0.1.73 pyahocorasick-2.0.0 textsearch-0.0.24\n"
          ]
        }
      ],
      "id": "7WGBndJ-nbvC"
    },
    {
      "cell_type": "code",
      "source": [
        "# This Python 3 environment comes with many helpful analytics libraries installed\n",
        "# It is defined by the kaggle/python Docker image: https://github.com/kaggle/docker-python\n",
        "# For example, here's several helpful packages to load\n",
        "import re\n",
        "import nltk\n",
        "from nltk.tokenize import word_tokenize,sent_tokenize\n",
        "from nltk.corpus import indian\n",
        "from nltk.stem.porter import PorterStemmer\n",
        "from wordcloud import WordCloud\n",
        "import matplotlib.pyplot as plt\n",
        "import unicodedata\n",
        "from keras.models import Sequential,Model\n",
        "from keras.layers import Input,Embedding, LSTM, Dense\n",
        "from tensorflow.keras.preprocessing.text import Tokenizer\n",
        "from sklearn.model_selection import train_test_split\n",
        "from tensorflow.keras.preprocessing.sequence import pad_sequences\n",
        "import string\n",
        "import spacy\n",
        "import contractions\n",
        "from nltk.corpus import stopwords\n",
        "import numpy as np # linear algebra\n",
        "import pandas as pd # data processing, CSV file I/O (e.g. pd.read_csv)\n",
        "\n",
        "# Input data files are available in the read-only \"../input/\" directory\n",
        "# For example, running this (by clicking run or pressing Shift+Enter) will list all files under the input directory\n",
        "\n",
        "import os\n",
        "for dirname, _, filenames in os.walk('/kaggle/input'):\n",
        "    for filename in filenames:\n",
        "        print(os.path.join(dirname, filename))\n",
        "\n",
        "# You can write up to 20GB to the current directory (/kaggle/working/) that gets preserved as output when you create a version using \"Save & Run All\"\n",
        "# You can also write temporary files to /kaggle/temp/, but they won't be saved outside of the current session"
      ],
      "metadata": {
        "_cell_guid": "b1076dfc-b9ad-4769-8c92-a6c4dae69d19",
        "_uuid": "8f2839f25d086af736a60e9eeb907d3b93b6e0e5",
        "papermill": {
          "duration": 24.496541,
          "end_time": "2024-03-04T20:03:14.181884",
          "exception": false,
          "start_time": "2024-03-04T20:02:49.685343",
          "status": "completed"
        },
        "tags": [],
        "execution": {
          "iopub.status.busy": "2024-03-06T05:31:45.653434Z",
          "iopub.execute_input": "2024-03-06T05:31:45.654253Z",
          "iopub.status.idle": "2024-03-06T05:31:45.694381Z",
          "shell.execute_reply.started": "2024-03-06T05:31:45.65422Z",
          "shell.execute_reply": "2024-03-06T05:31:45.693514Z"
        },
        "trusted": true,
        "id": "VM0Mg0MFnbvC"
      },
      "execution_count": null,
      "outputs": [],
      "id": "VM0Mg0MFnbvC"
    },
    {
      "cell_type": "markdown",
      "source": [
        "\n",
        "<div style=\"color:white; background-color:#5642C5; padding: 10px; border-radius: 15px; font-size: 150%; font-family: Verdana; text-align:center; -webkit-text-stroke-width: 1px; -webkit-text-stroke-color: black; text-shadow: 2px 2px 4px rgba(0, 0, 0, 0.7);\">\n",
        "    Reading the Data\n",
        "</div>"
      ],
      "metadata": {
        "papermill": {
          "duration": 0.018552,
          "end_time": "2024-03-04T20:03:14.219272",
          "exception": false,
          "start_time": "2024-03-04T20:03:14.20072",
          "status": "completed"
        },
        "tags": [],
        "id": "04ooLfddnbvC"
      },
      "id": "04ooLfddnbvC"
    },
    {
      "cell_type": "code",
      "source": [
        "data = pd.read_csv('/kaggle/input/english-hindi-dataset/Dataset_English_Hindi.csv')"
      ],
      "metadata": {
        "papermill": {
          "duration": 1.126467,
          "end_time": "2024-03-04T20:03:15.364438",
          "exception": false,
          "start_time": "2024-03-04T20:03:14.237971",
          "status": "completed"
        },
        "tags": [],
        "execution": {
          "iopub.status.busy": "2024-03-06T05:31:48.070407Z",
          "iopub.execute_input": "2024-03-06T05:31:48.071363Z",
          "iopub.status.idle": "2024-03-06T05:31:49.369764Z",
          "shell.execute_reply.started": "2024-03-06T05:31:48.071327Z",
          "shell.execute_reply": "2024-03-06T05:31:49.36893Z"
        },
        "trusted": true,
        "id": "DTGhIJdVnbvD"
      },
      "execution_count": null,
      "outputs": [],
      "id": "DTGhIJdVnbvD"
    },
    {
      "cell_type": "markdown",
      "source": [
        "\n",
        "<div style=\"color:white; background-color:#5642C5; padding: 10px; border-radius: 15px; font-size: 150%; font-family: Verdana; text-align:center; -webkit-text-stroke-width: 1px; -webkit-text-stroke-color: black; text-shadow: 2px 2px 4px rgba(0, 0, 0, 0.7);\">\n",
        "    English-Hindi Sample Data\n",
        "</div>"
      ],
      "metadata": {
        "papermill": {
          "duration": 0.020196,
          "end_time": "2024-03-04T20:03:15.405563",
          "exception": false,
          "start_time": "2024-03-04T20:03:15.385367",
          "status": "completed"
        },
        "tags": [],
        "id": "G8W8hgEWnbvD"
      },
      "id": "G8W8hgEWnbvD"
    },
    {
      "cell_type": "code",
      "source": [
        "data.sample(5)"
      ],
      "metadata": {
        "papermill": {
          "duration": 0.044897,
          "end_time": "2024-03-04T20:03:15.470076",
          "exception": false,
          "start_time": "2024-03-04T20:03:15.425179",
          "status": "completed"
        },
        "tags": [],
        "execution": {
          "iopub.status.busy": "2024-03-06T05:31:49.371306Z",
          "iopub.execute_input": "2024-03-06T05:31:49.371646Z",
          "iopub.status.idle": "2024-03-06T05:31:49.399084Z",
          "shell.execute_reply.started": "2024-03-06T05:31:49.371619Z",
          "shell.execute_reply": "2024-03-06T05:31:49.397974Z"
        },
        "trusted": true,
        "id": "WjQ8TNHvnbvD",
        "colab": {
          "base_uri": "https://localhost:8080/",
          "height": 206
        },
        "outputId": "8f0bcdef-d8d5-4a8e-d30b-b63eef93aa39"
      },
      "execution_count": null,
      "outputs": [
        {
          "output_type": "execute_result",
          "data": {
            "text/plain": [
              "                                                 English  \\\n",
              "19177  Sheikh was identified as the person under whos...   \n",
              "49200  Sows , after farrowing , come into heat betwee...   \n",
              "69373  Premchand was a revolutionary writer, he for t...   \n",
              "67762  These are adorned with golden leaves and preci...   \n",
              "40308  However as soon as he collided with the table,...   \n",
              "\n",
              "                                                   Hindi  \n",
              "19177  शेख की पहचान उस शस के रूप में की गई जिसके निर्...  \n",
              "49200  बच्चे पैदा करने के बाद बच्चों का दूध छुड़वाने ...  \n",
              "69373  प्रेमचंद एक क्रांतिकारी रचनाकार थे उन्होंने न ...  \n",
              "67762  इनमें सुवर्ण पर्त भी मढी है तथा बहुमूल्य रत्न ...  \n",
              "40308  हालांकि जैसे ही ये मेज की ओर कूदे तब मेज का को...  "
            ],
            "text/html": [
              "\n",
              "  <div id=\"df-ec4ca2c2-68e0-495b-ae75-67c71a125f1e\" class=\"colab-df-container\">\n",
              "    <div>\n",
              "<style scoped>\n",
              "    .dataframe tbody tr th:only-of-type {\n",
              "        vertical-align: middle;\n",
              "    }\n",
              "\n",
              "    .dataframe tbody tr th {\n",
              "        vertical-align: top;\n",
              "    }\n",
              "\n",
              "    .dataframe thead th {\n",
              "        text-align: right;\n",
              "    }\n",
              "</style>\n",
              "<table border=\"1\" class=\"dataframe\">\n",
              "  <thead>\n",
              "    <tr style=\"text-align: right;\">\n",
              "      <th></th>\n",
              "      <th>English</th>\n",
              "      <th>Hindi</th>\n",
              "    </tr>\n",
              "  </thead>\n",
              "  <tbody>\n",
              "    <tr>\n",
              "      <th>19177</th>\n",
              "      <td>Sheikh was identified as the person under whos...</td>\n",
              "      <td>शेख की पहचान उस शस के रूप में की गई जिसके निर्...</td>\n",
              "    </tr>\n",
              "    <tr>\n",
              "      <th>49200</th>\n",
              "      <td>Sows , after farrowing , come into heat betwee...</td>\n",
              "      <td>बच्चे पैदा करने के बाद बच्चों का दूध छुड़वाने ...</td>\n",
              "    </tr>\n",
              "    <tr>\n",
              "      <th>69373</th>\n",
              "      <td>Premchand was a revolutionary writer, he for t...</td>\n",
              "      <td>प्रेमचंद एक क्रांतिकारी रचनाकार थे उन्होंने न ...</td>\n",
              "    </tr>\n",
              "    <tr>\n",
              "      <th>67762</th>\n",
              "      <td>These are adorned with golden leaves and preci...</td>\n",
              "      <td>इनमें सुवर्ण पर्त भी मढी है तथा बहुमूल्य रत्न ...</td>\n",
              "    </tr>\n",
              "    <tr>\n",
              "      <th>40308</th>\n",
              "      <td>However as soon as he collided with the table,...</td>\n",
              "      <td>हालांकि जैसे ही ये मेज की ओर कूदे तब मेज का को...</td>\n",
              "    </tr>\n",
              "  </tbody>\n",
              "</table>\n",
              "</div>\n",
              "    <div class=\"colab-df-buttons\">\n",
              "\n",
              "  <div class=\"colab-df-container\">\n",
              "    <button class=\"colab-df-convert\" onclick=\"convertToInteractive('df-ec4ca2c2-68e0-495b-ae75-67c71a125f1e')\"\n",
              "            title=\"Convert this dataframe to an interactive table.\"\n",
              "            style=\"display:none;\">\n",
              "\n",
              "  <svg xmlns=\"http://www.w3.org/2000/svg\" height=\"24px\" viewBox=\"0 -960 960 960\">\n",
              "    <path d=\"M120-120v-720h720v720H120Zm60-500h600v-160H180v160Zm220 220h160v-160H400v160Zm0 220h160v-160H400v160ZM180-400h160v-160H180v160Zm440 0h160v-160H620v160ZM180-180h160v-160H180v160Zm440 0h160v-160H620v160Z\"/>\n",
              "  </svg>\n",
              "    </button>\n",
              "\n",
              "  <style>\n",
              "    .colab-df-container {\n",
              "      display:flex;\n",
              "      gap: 12px;\n",
              "    }\n",
              "\n",
              "    .colab-df-convert {\n",
              "      background-color: #E8F0FE;\n",
              "      border: none;\n",
              "      border-radius: 50%;\n",
              "      cursor: pointer;\n",
              "      display: none;\n",
              "      fill: #1967D2;\n",
              "      height: 32px;\n",
              "      padding: 0 0 0 0;\n",
              "      width: 32px;\n",
              "    }\n",
              "\n",
              "    .colab-df-convert:hover {\n",
              "      background-color: #E2EBFA;\n",
              "      box-shadow: 0px 1px 2px rgba(60, 64, 67, 0.3), 0px 1px 3px 1px rgba(60, 64, 67, 0.15);\n",
              "      fill: #174EA6;\n",
              "    }\n",
              "\n",
              "    .colab-df-buttons div {\n",
              "      margin-bottom: 4px;\n",
              "    }\n",
              "\n",
              "    [theme=dark] .colab-df-convert {\n",
              "      background-color: #3B4455;\n",
              "      fill: #D2E3FC;\n",
              "    }\n",
              "\n",
              "    [theme=dark] .colab-df-convert:hover {\n",
              "      background-color: #434B5C;\n",
              "      box-shadow: 0px 1px 3px 1px rgba(0, 0, 0, 0.15);\n",
              "      filter: drop-shadow(0px 1px 2px rgba(0, 0, 0, 0.3));\n",
              "      fill: #FFFFFF;\n",
              "    }\n",
              "  </style>\n",
              "\n",
              "    <script>\n",
              "      const buttonEl =\n",
              "        document.querySelector('#df-ec4ca2c2-68e0-495b-ae75-67c71a125f1e button.colab-df-convert');\n",
              "      buttonEl.style.display =\n",
              "        google.colab.kernel.accessAllowed ? 'block' : 'none';\n",
              "\n",
              "      async function convertToInteractive(key) {\n",
              "        const element = document.querySelector('#df-ec4ca2c2-68e0-495b-ae75-67c71a125f1e');\n",
              "        const dataTable =\n",
              "          await google.colab.kernel.invokeFunction('convertToInteractive',\n",
              "                                                    [key], {});\n",
              "        if (!dataTable) return;\n",
              "\n",
              "        const docLinkHtml = 'Like what you see? Visit the ' +\n",
              "          '<a target=\"_blank\" href=https://colab.research.google.com/notebooks/data_table.ipynb>data table notebook</a>'\n",
              "          + ' to learn more about interactive tables.';\n",
              "        element.innerHTML = '';\n",
              "        dataTable['output_type'] = 'display_data';\n",
              "        await google.colab.output.renderOutput(dataTable, element);\n",
              "        const docLink = document.createElement('div');\n",
              "        docLink.innerHTML = docLinkHtml;\n",
              "        element.appendChild(docLink);\n",
              "      }\n",
              "    </script>\n",
              "  </div>\n",
              "\n",
              "\n",
              "<div id=\"df-05f8a5a9-1ce9-49ba-b0cf-2af79bc7e86e\">\n",
              "  <button class=\"colab-df-quickchart\" onclick=\"quickchart('df-05f8a5a9-1ce9-49ba-b0cf-2af79bc7e86e')\"\n",
              "            title=\"Suggest charts\"\n",
              "            style=\"display:none;\">\n",
              "\n",
              "<svg xmlns=\"http://www.w3.org/2000/svg\" height=\"24px\"viewBox=\"0 0 24 24\"\n",
              "     width=\"24px\">\n",
              "    <g>\n",
              "        <path d=\"M19 3H5c-1.1 0-2 .9-2 2v14c0 1.1.9 2 2 2h14c1.1 0 2-.9 2-2V5c0-1.1-.9-2-2-2zM9 17H7v-7h2v7zm4 0h-2V7h2v10zm4 0h-2v-4h2v4z\"/>\n",
              "    </g>\n",
              "</svg>\n",
              "  </button>\n",
              "\n",
              "<style>\n",
              "  .colab-df-quickchart {\n",
              "      --bg-color: #E8F0FE;\n",
              "      --fill-color: #1967D2;\n",
              "      --hover-bg-color: #E2EBFA;\n",
              "      --hover-fill-color: #174EA6;\n",
              "      --disabled-fill-color: #AAA;\n",
              "      --disabled-bg-color: #DDD;\n",
              "  }\n",
              "\n",
              "  [theme=dark] .colab-df-quickchart {\n",
              "      --bg-color: #3B4455;\n",
              "      --fill-color: #D2E3FC;\n",
              "      --hover-bg-color: #434B5C;\n",
              "      --hover-fill-color: #FFFFFF;\n",
              "      --disabled-bg-color: #3B4455;\n",
              "      --disabled-fill-color: #666;\n",
              "  }\n",
              "\n",
              "  .colab-df-quickchart {\n",
              "    background-color: var(--bg-color);\n",
              "    border: none;\n",
              "    border-radius: 50%;\n",
              "    cursor: pointer;\n",
              "    display: none;\n",
              "    fill: var(--fill-color);\n",
              "    height: 32px;\n",
              "    padding: 0;\n",
              "    width: 32px;\n",
              "  }\n",
              "\n",
              "  .colab-df-quickchart:hover {\n",
              "    background-color: var(--hover-bg-color);\n",
              "    box-shadow: 0 1px 2px rgba(60, 64, 67, 0.3), 0 1px 3px 1px rgba(60, 64, 67, 0.15);\n",
              "    fill: var(--button-hover-fill-color);\n",
              "  }\n",
              "\n",
              "  .colab-df-quickchart-complete:disabled,\n",
              "  .colab-df-quickchart-complete:disabled:hover {\n",
              "    background-color: var(--disabled-bg-color);\n",
              "    fill: var(--disabled-fill-color);\n",
              "    box-shadow: none;\n",
              "  }\n",
              "\n",
              "  .colab-df-spinner {\n",
              "    border: 2px solid var(--fill-color);\n",
              "    border-color: transparent;\n",
              "    border-bottom-color: var(--fill-color);\n",
              "    animation:\n",
              "      spin 1s steps(1) infinite;\n",
              "  }\n",
              "\n",
              "  @keyframes spin {\n",
              "    0% {\n",
              "      border-color: transparent;\n",
              "      border-bottom-color: var(--fill-color);\n",
              "      border-left-color: var(--fill-color);\n",
              "    }\n",
              "    20% {\n",
              "      border-color: transparent;\n",
              "      border-left-color: var(--fill-color);\n",
              "      border-top-color: var(--fill-color);\n",
              "    }\n",
              "    30% {\n",
              "      border-color: transparent;\n",
              "      border-left-color: var(--fill-color);\n",
              "      border-top-color: var(--fill-color);\n",
              "      border-right-color: var(--fill-color);\n",
              "    }\n",
              "    40% {\n",
              "      border-color: transparent;\n",
              "      border-right-color: var(--fill-color);\n",
              "      border-top-color: var(--fill-color);\n",
              "    }\n",
              "    60% {\n",
              "      border-color: transparent;\n",
              "      border-right-color: var(--fill-color);\n",
              "    }\n",
              "    80% {\n",
              "      border-color: transparent;\n",
              "      border-right-color: var(--fill-color);\n",
              "      border-bottom-color: var(--fill-color);\n",
              "    }\n",
              "    90% {\n",
              "      border-color: transparent;\n",
              "      border-bottom-color: var(--fill-color);\n",
              "    }\n",
              "  }\n",
              "</style>\n",
              "\n",
              "  <script>\n",
              "    async function quickchart(key) {\n",
              "      const quickchartButtonEl =\n",
              "        document.querySelector('#' + key + ' button');\n",
              "      quickchartButtonEl.disabled = true;  // To prevent multiple clicks.\n",
              "      quickchartButtonEl.classList.add('colab-df-spinner');\n",
              "      try {\n",
              "        const charts = await google.colab.kernel.invokeFunction(\n",
              "            'suggestCharts', [key], {});\n",
              "      } catch (error) {\n",
              "        console.error('Error during call to suggestCharts:', error);\n",
              "      }\n",
              "      quickchartButtonEl.classList.remove('colab-df-spinner');\n",
              "      quickchartButtonEl.classList.add('colab-df-quickchart-complete');\n",
              "    }\n",
              "    (() => {\n",
              "      let quickchartButtonEl =\n",
              "        document.querySelector('#df-05f8a5a9-1ce9-49ba-b0cf-2af79bc7e86e button');\n",
              "      quickchartButtonEl.style.display =\n",
              "        google.colab.kernel.accessAllowed ? 'block' : 'none';\n",
              "    })();\n",
              "  </script>\n",
              "</div>\n",
              "\n",
              "    </div>\n",
              "  </div>\n"
            ],
            "application/vnd.google.colaboratory.intrinsic+json": {
              "type": "dataframe",
              "summary": "{\n  \"name\": \"data\",\n  \"rows\": 5,\n  \"fields\": [\n    {\n      \"column\": \"English\",\n      \"properties\": {\n        \"dtype\": \"string\",\n        \"num_unique_values\": 5,\n        \"samples\": [\n          \"Sows , after farrowing , come into heat between five to seven days after the litter is weaned .\",\n          \"However as soon as he collided with the table, he got struck with its corner and was bleeding and wounded on his intestine.\",\n          \"Premchand was a revolutionary writer, he for the first time presented not just his patriotism but also his outlook towards the various social evils in front of the people.\"\n        ],\n        \"semantic_type\": \"\",\n        \"description\": \"\"\n      }\n    },\n    {\n      \"column\": \"Hindi\",\n      \"properties\": {\n        \"dtype\": \"string\",\n        \"num_unique_values\": 5,\n        \"samples\": [\n          \"\\u092c\\u091a\\u094d\\u091a\\u0947 \\u092a\\u0948\\u0926\\u093e \\u0915\\u0930\\u0928\\u0947 \\u0915\\u0947 \\u092c\\u093e\\u0926 \\u092c\\u091a\\u094d\\u091a\\u094b\\u0902 \\u0915\\u093e \\u0926\\u0942\\u0927 \\u091b\\u0941\\u0921\\u093c\\u0935\\u093e\\u0928\\u0947 \\u0915\\u0947 5 \\u0938\\u0947 7 \\u0926\\u093f\\u0928 \\u092c\\u093e\\u0926 \\u0938\\u0942\\u0905\\u0930\\u0940 Z\\u092b\\u093f\\u0930 \\u0917\\u0930\\u094d\\u092e\\u0940 \\u092e\\u0947\\u0902 \\u0906\\u0924\\u0940 \\u0939\\u0948 .\",\n          \"\\u0939\\u093e\\u0932\\u093e\\u0902\\u0915\\u093f \\u091c\\u0948\\u0938\\u0947 \\u0939\\u0940 \\u092f\\u0947 \\u092e\\u0947\\u091c \\u0915\\u0940 \\u0913\\u0930 \\u0915\\u0942\\u0926\\u0947 \\u0924\\u092c \\u092e\\u0947\\u091c \\u0915\\u093e \\u0915\\u094b\\u0928\\u093e \\u0907\\u0928\\u0915\\u0947 \\u092a\\u0947\\u091f \\u0938\\u0947 \\u091f\\u0915\\u0930\\u093e\\u092f\\u093e \\u091c\\u093f\\u0938\\u0938\\u0947 \\u0907\\u0928\\u0915\\u0947 \\u0906\\u0902\\u0924\\u094b\\u0902 \\u0915\\u094b \\u091a\\u094b\\u091f \\u092a\\u0939\\u0941\\u0902\\u091a\\u0940 \\u0914\\u0930 \\u0907\\u0928\\u0915\\u0947 \\u0936\\u0930\\u0940\\u0930 \\u0938\\u0947 \\u0915\\u093e\\u092b\\u0940 \\u0916\\u0942\\u0928 \\u092c\\u0939 \\u0928\\u093f\\u0915\\u0932\\u093e \\u0925\\u093e\\u0964\",\n          \"\\u092a\\u094d\\u0930\\u0947\\u092e\\u091a\\u0902\\u0926 \\u090f\\u0915 \\u0915\\u094d\\u0930\\u093e\\u0902\\u0924\\u093f\\u0915\\u093e\\u0930\\u0940 \\u0930\\u091a\\u0928\\u093e\\u0915\\u093e\\u0930 \\u0925\\u0947 \\u0909\\u0928\\u094d\\u0939\\u094b\\u0902\\u0928\\u0947 \\u0928 \\u0915\\u0947\\u0935\\u0932 \\u0926\\u0947\\u0936\\u092d\\u0915\\u094d\\u0924\\u093f \\u092c\\u0932\\u094d\\u0915\\u093f \\u0938\\u092e\\u093e\\u091c \\u092e\\u0947\\u0902 \\u0935\\u094d\\u092f\\u093e\\u092a\\u094d\\u0924 \\u0905\\u0928\\u0947\\u0915 \\u0915\\u0941\\u0930\\u0940\\u0924\\u093f\\u092f\\u094b\\u0902 \\u0915\\u094b \\u0926\\u0947\\u0916\\u093e \\u0914\\u0930 \\u0909\\u0928\\u0915\\u094b \\u0915\\u0939\\u093e\\u0928\\u0940 \\u0915\\u0947 \\u092e\\u093e\\u0927\\u094d\\u092f\\u092e \\u0938\\u0947 \\u092a\\u0939\\u0932\\u0940 \\u092c\\u093e\\u0930 \\u0932\\u094b\\u0917\\u094b\\u0902 \\u0915\\u0947 \\u0938\\u092e\\u0915\\u094d\\u0937 \\u0930\\u0916\\u093e\\u0964\"\n        ],\n        \"semantic_type\": \"\",\n        \"description\": \"\"\n      }\n    }\n  ]\n}"
            }
          },
          "metadata": {},
          "execution_count": 6
        }
      ],
      "id": "WjQ8TNHvnbvD"
    },
    {
      "cell_type": "markdown",
      "source": [
        "\n",
        "<div style=\"color:white; background-color:#5642C5; padding: 10px; border-radius: 15px; font-size: 150%; font-family: Verdana; text-align:center; -webkit-text-stroke-width: 1px; -webkit-text-stroke-color: black; text-shadow: 2px 2px 4px rgba(0, 0, 0, 0.7);\">\n",
        "    Data Preprocessing\n",
        "</div>"
      ],
      "metadata": {
        "papermill": {
          "duration": 0.019863,
          "end_time": "2024-03-04T20:03:15.511373",
          "exception": false,
          "start_time": "2024-03-04T20:03:15.49151",
          "status": "completed"
        },
        "tags": [],
        "id": "IgA3xP9wnbvD"
      },
      "id": "IgA3xP9wnbvD"
    },
    {
      "cell_type": "markdown",
      "source": [
        "* Null Value Checking and Removing"
      ],
      "metadata": {
        "papermill": {
          "duration": 0.019985,
          "end_time": "2024-03-04T20:03:15.551747",
          "exception": false,
          "start_time": "2024-03-04T20:03:15.531762",
          "status": "completed"
        },
        "tags": [],
        "id": "aYvlBkibnbvD"
      },
      "id": "aYvlBkibnbvD"
    },
    {
      "cell_type": "code",
      "source": [
        "data.isnull().sum()"
      ],
      "metadata": {
        "papermill": {
          "duration": 0.061267,
          "end_time": "2024-03-04T20:03:15.633071",
          "exception": false,
          "start_time": "2024-03-04T20:03:15.571804",
          "status": "completed"
        },
        "tags": [],
        "execution": {
          "iopub.status.busy": "2024-03-06T05:31:49.401949Z",
          "iopub.execute_input": "2024-03-06T05:31:49.402395Z",
          "iopub.status.idle": "2024-03-06T05:31:49.439102Z",
          "shell.execute_reply.started": "2024-03-06T05:31:49.402371Z",
          "shell.execute_reply": "2024-03-06T05:31:49.438177Z"
        },
        "trusted": true,
        "id": "TJfko7GNnbvD",
        "colab": {
          "base_uri": "https://localhost:8080/"
        },
        "outputId": "ff4a8e18-d2a0-4a21-a5e2-4f88665900c8"
      },
      "execution_count": null,
      "outputs": [
        {
          "output_type": "execute_result",
          "data": {
            "text/plain": [
              "English      2\n",
              "Hindi      312\n",
              "dtype: int64"
            ]
          },
          "metadata": {},
          "execution_count": 7
        }
      ],
      "id": "TJfko7GNnbvD"
    },
    {
      "cell_type": "code",
      "source": [
        "data.dropna(inplace = True )"
      ],
      "metadata": {
        "papermill": {
          "duration": 0.066336,
          "end_time": "2024-03-04T20:03:15.75768",
          "exception": false,
          "start_time": "2024-03-04T20:03:15.691344",
          "status": "completed"
        },
        "tags": [],
        "execution": {
          "iopub.status.busy": "2024-03-06T05:31:49.441254Z",
          "iopub.execute_input": "2024-03-06T05:31:49.441874Z",
          "iopub.status.idle": "2024-03-06T05:31:49.487771Z",
          "shell.execute_reply.started": "2024-03-06T05:31:49.441839Z",
          "shell.execute_reply": "2024-03-06T05:31:49.487001Z"
        },
        "trusted": true,
        "id": "Hhz4g97bnbvD"
      },
      "execution_count": null,
      "outputs": [],
      "id": "Hhz4g97bnbvD"
    },
    {
      "cell_type": "markdown",
      "source": [
        "* LOWERCASING"
      ],
      "metadata": {
        "papermill": {
          "duration": 0.019018,
          "end_time": "2024-03-04T20:03:15.7961",
          "exception": false,
          "start_time": "2024-03-04T20:03:15.777082",
          "status": "completed"
        },
        "tags": [],
        "id": "PZAQ1FhtnbvD"
      },
      "id": "PZAQ1FhtnbvD"
    },
    {
      "cell_type": "code",
      "source": [
        "data['English'] = data['English'].str.lower()"
      ],
      "metadata": {
        "papermill": {
          "duration": 0.085106,
          "end_time": "2024-03-04T20:03:15.900567",
          "exception": false,
          "start_time": "2024-03-04T20:03:15.815461",
          "status": "completed"
        },
        "tags": [],
        "execution": {
          "iopub.status.busy": "2024-03-06T05:31:49.867723Z",
          "iopub.execute_input": "2024-03-06T05:31:49.868515Z",
          "iopub.status.idle": "2024-03-06T05:31:49.937192Z",
          "shell.execute_reply.started": "2024-03-06T05:31:49.868485Z",
          "shell.execute_reply": "2024-03-06T05:31:49.936184Z"
        },
        "trusted": true,
        "id": "ZqtDqiRYnbvE"
      },
      "execution_count": null,
      "outputs": [],
      "id": "ZqtDqiRYnbvE"
    },
    {
      "cell_type": "markdown",
      "source": [
        "* Removing HTML Tags"
      ],
      "metadata": {
        "papermill": {
          "duration": 0.019336,
          "end_time": "2024-03-04T20:03:15.940454",
          "exception": false,
          "start_time": "2024-03-04T20:03:15.921118",
          "status": "completed"
        },
        "tags": [],
        "id": "IRv3tjqknbvE"
      },
      "id": "IRv3tjqknbvE"
    },
    {
      "cell_type": "code",
      "source": [
        "def remove_html(text):\n",
        "    if isinstance(text,str):\n",
        "\n",
        "        pattern = re.compile('<.*?>')\n",
        "        return pattern.sub(r'',text)\n",
        "    else:\n",
        "        return text\n",
        "\n",
        "data['English'] = data['English'].apply(remove_html)\n",
        "data['Hindi'] = data['Hindi'].apply(remove_html)"
      ],
      "metadata": {
        "papermill": {
          "duration": 0.435722,
          "end_time": "2024-03-04T20:03:16.395792",
          "exception": false,
          "start_time": "2024-03-04T20:03:15.96007",
          "status": "completed"
        },
        "tags": [],
        "execution": {
          "iopub.status.busy": "2024-03-06T05:31:50.239772Z",
          "iopub.execute_input": "2024-03-06T05:31:50.240502Z",
          "iopub.status.idle": "2024-03-06T05:31:50.656262Z",
          "shell.execute_reply.started": "2024-03-06T05:31:50.24047Z",
          "shell.execute_reply": "2024-03-06T05:31:50.655216Z"
        },
        "trusted": true,
        "id": "cF569DcdnbvE"
      },
      "execution_count": null,
      "outputs": [],
      "id": "cF569DcdnbvE"
    },
    {
      "cell_type": "markdown",
      "source": [
        "* Removing URL's"
      ],
      "metadata": {
        "papermill": {
          "duration": 0.019715,
          "end_time": "2024-03-04T20:03:16.435159",
          "exception": false,
          "start_time": "2024-03-04T20:03:16.415444",
          "status": "completed"
        },
        "tags": [],
        "id": "oovp3KVDnbvE"
      },
      "id": "oovp3KVDnbvE"
    },
    {
      "cell_type": "code",
      "source": [
        "def remove_url(text):\n",
        "    if isinstance(text,str):\n",
        "        pattern = re.compile(r'https?://\\S+|www\\.\\S+')\n",
        "        return pattern.sub(r'',text)\n",
        "    else:\n",
        "        return\n",
        "data['English'] = data['English'].apply(remove_url)\n",
        "data['Hindi'] = data['Hindi'].apply(remove_url)"
      ],
      "metadata": {
        "papermill": {
          "duration": 0.889988,
          "end_time": "2024-03-04T20:03:17.344263",
          "exception": false,
          "start_time": "2024-03-04T20:03:16.454275",
          "status": "completed"
        },
        "tags": [],
        "execution": {
          "iopub.status.busy": "2024-03-06T05:31:50.658415Z",
          "iopub.execute_input": "2024-03-06T05:31:50.658731Z",
          "iopub.status.idle": "2024-03-06T05:31:51.511823Z",
          "shell.execute_reply.started": "2024-03-06T05:31:50.658704Z",
          "shell.execute_reply": "2024-03-06T05:31:51.511037Z"
        },
        "trusted": true,
        "id": "azTVOX6mnbvE"
      },
      "execution_count": null,
      "outputs": [],
      "id": "azTVOX6mnbvE"
    },
    {
      "cell_type": "markdown",
      "source": [
        "* Remove Non-Hindi and Alphanumeric characters"
      ],
      "metadata": {
        "papermill": {
          "duration": 0.025111,
          "end_time": "2024-03-04T20:03:17.390288",
          "exception": false,
          "start_time": "2024-03-04T20:03:17.365177",
          "status": "completed"
        },
        "tags": [],
        "id": "D5Q6DSz9nbvE"
      },
      "id": "D5Q6DSz9nbvE"
    },
    {
      "cell_type": "code",
      "source": [
        "def preprocess_text(text, language='english'):\n",
        "    if not isinstance(text, str):\n",
        "        return text\n",
        "\n",
        "    if language == 'english':\n",
        "        pattern = re.compile(r'[^a-zA-Z0-9\\s]')\n",
        "        return pattern.sub(r'', text)\n",
        "    elif language == 'hindi':\n",
        "        pattern = re.compile(r'[^\\u0900-\\u097F\\s]')\n",
        "        return pattern.sub(r'', text)\n",
        "    else:\n",
        "        raise ValueError(\"Unsupported Language, Supported languages are 'english' and 'hindi'\")\n",
        "\n",
        "data['English'] = data['English'].apply(lambda x: preprocess_text(x, language='english'))\n",
        "data['Hindi'] = data['Hindi'].apply(lambda x: preprocess_text(x, language='hindi'))"
      ],
      "metadata": {
        "papermill": {
          "duration": 1.243457,
          "end_time": "2024-03-04T20:03:18.658923",
          "exception": false,
          "start_time": "2024-03-04T20:03:17.415466",
          "status": "completed"
        },
        "tags": [],
        "execution": {
          "iopub.status.busy": "2024-03-06T05:31:51.513404Z",
          "iopub.execute_input": "2024-03-06T05:31:51.513749Z",
          "iopub.status.idle": "2024-03-06T05:31:52.774523Z",
          "shell.execute_reply.started": "2024-03-06T05:31:51.513709Z",
          "shell.execute_reply": "2024-03-06T05:31:52.773677Z"
        },
        "trusted": true,
        "id": "BXIYxTP9nbvE"
      },
      "execution_count": null,
      "outputs": [],
      "id": "BXIYxTP9nbvE"
    },
    {
      "cell_type": "markdown",
      "source": [
        "* Removing Punctuations"
      ],
      "metadata": {
        "papermill": {
          "duration": 0.018825,
          "end_time": "2024-03-04T20:03:18.697222",
          "exception": false,
          "start_time": "2024-03-04T20:03:18.678397",
          "status": "completed"
        },
        "tags": [],
        "id": "2GnNn9WjnbvE"
      },
      "id": "2GnNn9WjnbvE"
    },
    {
      "cell_type": "code",
      "source": [
        "#English Punctuations...........\n",
        "string.punctuation"
      ],
      "metadata": {
        "papermill": {
          "duration": 0.028857,
          "end_time": "2024-03-04T20:03:18.74539",
          "exception": false,
          "start_time": "2024-03-04T20:03:18.716533",
          "status": "completed"
        },
        "tags": [],
        "execution": {
          "iopub.status.busy": "2024-03-06T05:31:52.775917Z",
          "iopub.execute_input": "2024-03-06T05:31:52.776228Z",
          "iopub.status.idle": "2024-03-06T05:31:52.782309Z",
          "shell.execute_reply.started": "2024-03-06T05:31:52.776191Z",
          "shell.execute_reply": "2024-03-06T05:31:52.781286Z"
        },
        "trusted": true,
        "id": "SNmLD5wXnbvF",
        "colab": {
          "base_uri": "https://localhost:8080/",
          "height": 36
        },
        "outputId": "41b2b3f6-7f15-42ea-fd5e-34742f3357ad"
      },
      "execution_count": null,
      "outputs": [
        {
          "output_type": "execute_result",
          "data": {
            "text/plain": [
              "'!\"#$%&\\'()*+,-./:;<=>?@[\\\\]^_`{|}~'"
            ],
            "application/vnd.google.colaboratory.intrinsic+json": {
              "type": "string"
            }
          },
          "metadata": {},
          "execution_count": 13
        }
      ],
      "id": "SNmLD5wXnbvF"
    },
    {
      "cell_type": "code",
      "source": [
        "def get_hindi_punctuations():\n",
        "    hindi_punctuations = []\n",
        "    for i in range(0x2000, 0x206f + 1):\n",
        "        char = chr(i)\n",
        "        if unicodedata.category(char) == 'Po':\n",
        "            hindi_punctuations.append(char)\n",
        "    return ''.join(hindi_punctuations)\n",
        "\n",
        "# Get Hindi punctuation characters\n",
        "hindi_punctuation = get_hindi_punctuations()\n",
        "\n",
        "# Print Hindi punctuation characters\n",
        "print('Hindi Punctuation: ', hindi_punctuation)"
      ],
      "metadata": {
        "papermill": {
          "duration": 0.028426,
          "end_time": "2024-03-04T20:03:18.793726",
          "exception": false,
          "start_time": "2024-03-04T20:03:18.7653",
          "status": "completed"
        },
        "tags": [],
        "execution": {
          "iopub.status.busy": "2024-03-06T05:31:52.784728Z",
          "iopub.execute_input": "2024-03-06T05:31:52.785168Z",
          "iopub.status.idle": "2024-03-06T05:31:52.792779Z",
          "shell.execute_reply.started": "2024-03-06T05:31:52.785139Z",
          "shell.execute_reply": "2024-03-06T05:31:52.79192Z"
        },
        "trusted": true,
        "id": "C8N-rchQnbvF",
        "colab": {
          "base_uri": "https://localhost:8080/"
        },
        "outputId": "b64b527f-4752-432b-9ad6-8c97c0bf9062"
      },
      "execution_count": null,
      "outputs": [
        {
          "output_type": "stream",
          "name": "stdout",
          "text": [
            "Hindi Punctuation:  ‖‗†‡•‣․‥…‧‰‱′″‴‵‶‷‸※‼‽‾⁁⁂⁃⁇⁈⁉⁊⁋⁌⁍⁎⁏⁐⁑⁓⁕⁖⁗⁘⁙⁚⁛⁜⁝⁞\n"
          ]
        }
      ],
      "id": "C8N-rchQnbvF"
    },
    {
      "cell_type": "code",
      "source": [
        "def remove_punctuation(text, language = 'English'):\n",
        "    if language == 'English':\n",
        "        exclude_english = set(string.punctuation)\n",
        "        return ''.join(char for char in text if char not in exclude_english)\n",
        "    elif language == 'Hindi':\n",
        "        return ''.join(char for char in text if char not in hindi_punctuation)\n",
        "\n",
        "    else:\n",
        "        raise ValueError(\"Unsupported Language, Supported languages are 'english' and 'hindi'\")\n",
        "\n",
        "\n",
        "data['English'] = data['English'].apply(lambda x: remove_punctuation(x,language = 'English'))\n",
        "data['Hindi'] = data['Hindi'].apply(lambda x: remove_punctuation(x,language = 'Hindi'))"
      ],
      "metadata": {
        "papermill": {
          "duration": 3.901185,
          "end_time": "2024-03-04T20:03:22.714251",
          "exception": false,
          "start_time": "2024-03-04T20:03:18.813066",
          "status": "completed"
        },
        "tags": [],
        "execution": {
          "iopub.status.busy": "2024-03-06T05:31:52.793692Z",
          "iopub.execute_input": "2024-03-06T05:31:52.793946Z",
          "iopub.status.idle": "2024-03-06T05:31:56.81487Z",
          "shell.execute_reply.started": "2024-03-06T05:31:52.793923Z",
          "shell.execute_reply": "2024-03-06T05:31:56.814075Z"
        },
        "trusted": true,
        "id": "zsGn1t18nbvF"
      },
      "execution_count": null,
      "outputs": [],
      "id": "zsGn1t18nbvF"
    },
    {
      "cell_type": "markdown",
      "source": [
        "* Removing contractions"
      ],
      "metadata": {
        "papermill": {
          "duration": 0.020446,
          "end_time": "2024-03-04T20:03:22.755912",
          "exception": false,
          "start_time": "2024-03-04T20:03:22.735466",
          "status": "completed"
        },
        "tags": [],
        "id": "UZfHO8kNnbvF"
      },
      "id": "UZfHO8kNnbvF"
    },
    {
      "cell_type": "code",
      "source": [
        "def expand_contractions(text):\n",
        "    expanded_text = contractions.fix(text)\n",
        "    return expanded_text\n",
        "\n",
        "data['English'] = data['English'].apply(expand_contractions)"
      ],
      "metadata": {
        "papermill": {
          "duration": 1.557116,
          "end_time": "2024-03-04T20:03:24.333652",
          "exception": false,
          "start_time": "2024-03-04T20:03:22.776536",
          "status": "completed"
        },
        "tags": [],
        "execution": {
          "iopub.status.busy": "2024-03-06T05:31:56.816089Z",
          "iopub.execute_input": "2024-03-06T05:31:56.816384Z",
          "iopub.status.idle": "2024-03-06T05:31:58.346974Z",
          "shell.execute_reply.started": "2024-03-06T05:31:56.816359Z",
          "shell.execute_reply": "2024-03-06T05:31:58.346112Z"
        },
        "trusted": true,
        "id": "F3jYYZVinbvF"
      },
      "execution_count": null,
      "outputs": [],
      "id": "F3jYYZVinbvF"
    },
    {
      "cell_type": "markdown",
      "source": [
        "* Tokenize the text"
      ],
      "metadata": {
        "papermill": {
          "duration": 0.019886,
          "end_time": "2024-03-04T20:03:24.374571",
          "exception": false,
          "start_time": "2024-03-04T20:03:24.354685",
          "status": "completed"
        },
        "tags": [],
        "id": "8gVx0F7qnbvF"
      },
      "id": "8gVx0F7qnbvF"
    },
    {
      "cell_type": "code",
      "source": [
        "nltk.download('punkt')"
      ],
      "metadata": {
        "id": "tSlVpK3zo_sB",
        "colab": {
          "base_uri": "https://localhost:8080/"
        },
        "outputId": "bf629c59-4fd5-4901-92c5-fa2e88ec4ba3"
      },
      "id": "tSlVpK3zo_sB",
      "execution_count": null,
      "outputs": [
        {
          "output_type": "stream",
          "name": "stderr",
          "text": [
            "[nltk_data] Downloading package punkt to /root/nltk_data...\n",
            "[nltk_data]   Unzipping tokenizers/punkt.zip.\n"
          ]
        },
        {
          "output_type": "execute_result",
          "data": {
            "text/plain": [
              "True"
            ]
          },
          "metadata": {},
          "execution_count": 17
        }
      ]
    },
    {
      "cell_type": "code",
      "source": [
        "def do_tokenization(text):\n",
        "    token_words = word_tokenize(text)\n",
        "    return token_words\n",
        "\n",
        "data['English'] = data['English'].apply(do_tokenization)\n",
        "data['Hindi'] = data['Hindi'].apply(do_tokenization)"
      ],
      "metadata": {
        "papermill": {
          "duration": 52.674127,
          "end_time": "2024-03-04T20:04:17.068696",
          "exception": false,
          "start_time": "2024-03-04T20:03:24.394569",
          "status": "completed"
        },
        "tags": [],
        "execution": {
          "iopub.status.busy": "2024-03-06T05:31:58.348333Z",
          "iopub.execute_input": "2024-03-06T05:31:58.348711Z",
          "iopub.status.idle": "2024-03-06T05:32:50.256398Z",
          "shell.execute_reply.started": "2024-03-06T05:31:58.348676Z",
          "shell.execute_reply": "2024-03-06T05:32:50.255428Z"
        },
        "trusted": true,
        "id": "TUmQBbHhnbvF"
      },
      "execution_count": null,
      "outputs": [],
      "id": "TUmQBbHhnbvF"
    },
    {
      "cell_type": "code",
      "source": [
        "data.sample(5)"
      ],
      "metadata": {
        "papermill": {
          "duration": 0.045352,
          "end_time": "2024-03-04T20:04:17.134008",
          "exception": false,
          "start_time": "2024-03-04T20:04:17.088656",
          "status": "completed"
        },
        "tags": [],
        "execution": {
          "iopub.status.busy": "2024-03-06T05:32:50.257631Z",
          "iopub.execute_input": "2024-03-06T05:32:50.257921Z",
          "iopub.status.idle": "2024-03-06T05:32:50.277933Z",
          "shell.execute_reply.started": "2024-03-06T05:32:50.257896Z",
          "shell.execute_reply": "2024-03-06T05:32:50.276912Z"
        },
        "trusted": true,
        "id": "4r83tI6jnbvF",
        "colab": {
          "base_uri": "https://localhost:8080/",
          "height": 206
        },
        "outputId": "82fe6f93-cae6-4bcf-ac6b-2058ee76825a"
      },
      "execution_count": null,
      "outputs": [
        {
          "output_type": "execute_result",
          "data": {
            "text/plain": [
              "                                                  English  \\\n",
              "2653    [you, will, be, all, right, again, in, a, coup...   \n",
              "112078  [when, roy, reached, mexico, general, venustia...   \n",
              "82859   [and, they, said, can, we, touch, iti, said, i...   \n",
              "103847  [after, reading, you, should, follow, koran, t...   \n",
              "120309        [that, i, have, lost, for, so, many, years]   \n",
              "\n",
              "                                                    Hindi  \n",
              "2653    [तुम, दो, तीन, दिनों, में, फिरसे, ठीक, हो, जाओ...  \n",
              "112078  [जब, राय, मैक़्सिको, पहुंचे, जनरल, वानुस्त्यार...  \n",
              "82859   [और, उन्होंने, कहा, हम, उसे, छू, सकते, हैं, मै...  \n",
              "103847  [पढ़, कर, कुरान, पर, विचार, करना, उसके, पीछे, ...  \n",
              "120309              [मैंने, इतने, वर्षो, में, खो, दी, थी]  "
            ],
            "text/html": [
              "\n",
              "  <div id=\"df-332e0550-3eab-4288-aca8-5a10dfd273d6\" class=\"colab-df-container\">\n",
              "    <div>\n",
              "<style scoped>\n",
              "    .dataframe tbody tr th:only-of-type {\n",
              "        vertical-align: middle;\n",
              "    }\n",
              "\n",
              "    .dataframe tbody tr th {\n",
              "        vertical-align: top;\n",
              "    }\n",
              "\n",
              "    .dataframe thead th {\n",
              "        text-align: right;\n",
              "    }\n",
              "</style>\n",
              "<table border=\"1\" class=\"dataframe\">\n",
              "  <thead>\n",
              "    <tr style=\"text-align: right;\">\n",
              "      <th></th>\n",
              "      <th>English</th>\n",
              "      <th>Hindi</th>\n",
              "    </tr>\n",
              "  </thead>\n",
              "  <tbody>\n",
              "    <tr>\n",
              "      <th>2653</th>\n",
              "      <td>[you, will, be, all, right, again, in, a, coup...</td>\n",
              "      <td>[तुम, दो, तीन, दिनों, में, फिरसे, ठीक, हो, जाओ...</td>\n",
              "    </tr>\n",
              "    <tr>\n",
              "      <th>112078</th>\n",
              "      <td>[when, roy, reached, mexico, general, venustia...</td>\n",
              "      <td>[जब, राय, मैक़्सिको, पहुंचे, जनरल, वानुस्त्यार...</td>\n",
              "    </tr>\n",
              "    <tr>\n",
              "      <th>82859</th>\n",
              "      <td>[and, they, said, can, we, touch, iti, said, i...</td>\n",
              "      <td>[और, उन्होंने, कहा, हम, उसे, छू, सकते, हैं, मै...</td>\n",
              "    </tr>\n",
              "    <tr>\n",
              "      <th>103847</th>\n",
              "      <td>[after, reading, you, should, follow, koran, t...</td>\n",
              "      <td>[पढ़, कर, कुरान, पर, विचार, करना, उसके, पीछे, ...</td>\n",
              "    </tr>\n",
              "    <tr>\n",
              "      <th>120309</th>\n",
              "      <td>[that, i, have, lost, for, so, many, years]</td>\n",
              "      <td>[मैंने, इतने, वर्षो, में, खो, दी, थी]</td>\n",
              "    </tr>\n",
              "  </tbody>\n",
              "</table>\n",
              "</div>\n",
              "    <div class=\"colab-df-buttons\">\n",
              "\n",
              "  <div class=\"colab-df-container\">\n",
              "    <button class=\"colab-df-convert\" onclick=\"convertToInteractive('df-332e0550-3eab-4288-aca8-5a10dfd273d6')\"\n",
              "            title=\"Convert this dataframe to an interactive table.\"\n",
              "            style=\"display:none;\">\n",
              "\n",
              "  <svg xmlns=\"http://www.w3.org/2000/svg\" height=\"24px\" viewBox=\"0 -960 960 960\">\n",
              "    <path d=\"M120-120v-720h720v720H120Zm60-500h600v-160H180v160Zm220 220h160v-160H400v160Zm0 220h160v-160H400v160ZM180-400h160v-160H180v160Zm440 0h160v-160H620v160ZM180-180h160v-160H180v160Zm440 0h160v-160H620v160Z\"/>\n",
              "  </svg>\n",
              "    </button>\n",
              "\n",
              "  <style>\n",
              "    .colab-df-container {\n",
              "      display:flex;\n",
              "      gap: 12px;\n",
              "    }\n",
              "\n",
              "    .colab-df-convert {\n",
              "      background-color: #E8F0FE;\n",
              "      border: none;\n",
              "      border-radius: 50%;\n",
              "      cursor: pointer;\n",
              "      display: none;\n",
              "      fill: #1967D2;\n",
              "      height: 32px;\n",
              "      padding: 0 0 0 0;\n",
              "      width: 32px;\n",
              "    }\n",
              "\n",
              "    .colab-df-convert:hover {\n",
              "      background-color: #E2EBFA;\n",
              "      box-shadow: 0px 1px 2px rgba(60, 64, 67, 0.3), 0px 1px 3px 1px rgba(60, 64, 67, 0.15);\n",
              "      fill: #174EA6;\n",
              "    }\n",
              "\n",
              "    .colab-df-buttons div {\n",
              "      margin-bottom: 4px;\n",
              "    }\n",
              "\n",
              "    [theme=dark] .colab-df-convert {\n",
              "      background-color: #3B4455;\n",
              "      fill: #D2E3FC;\n",
              "    }\n",
              "\n",
              "    [theme=dark] .colab-df-convert:hover {\n",
              "      background-color: #434B5C;\n",
              "      box-shadow: 0px 1px 3px 1px rgba(0, 0, 0, 0.15);\n",
              "      filter: drop-shadow(0px 1px 2px rgba(0, 0, 0, 0.3));\n",
              "      fill: #FFFFFF;\n",
              "    }\n",
              "  </style>\n",
              "\n",
              "    <script>\n",
              "      const buttonEl =\n",
              "        document.querySelector('#df-332e0550-3eab-4288-aca8-5a10dfd273d6 button.colab-df-convert');\n",
              "      buttonEl.style.display =\n",
              "        google.colab.kernel.accessAllowed ? 'block' : 'none';\n",
              "\n",
              "      async function convertToInteractive(key) {\n",
              "        const element = document.querySelector('#df-332e0550-3eab-4288-aca8-5a10dfd273d6');\n",
              "        const dataTable =\n",
              "          await google.colab.kernel.invokeFunction('convertToInteractive',\n",
              "                                                    [key], {});\n",
              "        if (!dataTable) return;\n",
              "\n",
              "        const docLinkHtml = 'Like what you see? Visit the ' +\n",
              "          '<a target=\"_blank\" href=https://colab.research.google.com/notebooks/data_table.ipynb>data table notebook</a>'\n",
              "          + ' to learn more about interactive tables.';\n",
              "        element.innerHTML = '';\n",
              "        dataTable['output_type'] = 'display_data';\n",
              "        await google.colab.output.renderOutput(dataTable, element);\n",
              "        const docLink = document.createElement('div');\n",
              "        docLink.innerHTML = docLinkHtml;\n",
              "        element.appendChild(docLink);\n",
              "      }\n",
              "    </script>\n",
              "  </div>\n",
              "\n",
              "\n",
              "<div id=\"df-06398f44-3341-4d5b-a709-88b25e7ce5b9\">\n",
              "  <button class=\"colab-df-quickchart\" onclick=\"quickchart('df-06398f44-3341-4d5b-a709-88b25e7ce5b9')\"\n",
              "            title=\"Suggest charts\"\n",
              "            style=\"display:none;\">\n",
              "\n",
              "<svg xmlns=\"http://www.w3.org/2000/svg\" height=\"24px\"viewBox=\"0 0 24 24\"\n",
              "     width=\"24px\">\n",
              "    <g>\n",
              "        <path d=\"M19 3H5c-1.1 0-2 .9-2 2v14c0 1.1.9 2 2 2h14c1.1 0 2-.9 2-2V5c0-1.1-.9-2-2-2zM9 17H7v-7h2v7zm4 0h-2V7h2v10zm4 0h-2v-4h2v4z\"/>\n",
              "    </g>\n",
              "</svg>\n",
              "  </button>\n",
              "\n",
              "<style>\n",
              "  .colab-df-quickchart {\n",
              "      --bg-color: #E8F0FE;\n",
              "      --fill-color: #1967D2;\n",
              "      --hover-bg-color: #E2EBFA;\n",
              "      --hover-fill-color: #174EA6;\n",
              "      --disabled-fill-color: #AAA;\n",
              "      --disabled-bg-color: #DDD;\n",
              "  }\n",
              "\n",
              "  [theme=dark] .colab-df-quickchart {\n",
              "      --bg-color: #3B4455;\n",
              "      --fill-color: #D2E3FC;\n",
              "      --hover-bg-color: #434B5C;\n",
              "      --hover-fill-color: #FFFFFF;\n",
              "      --disabled-bg-color: #3B4455;\n",
              "      --disabled-fill-color: #666;\n",
              "  }\n",
              "\n",
              "  .colab-df-quickchart {\n",
              "    background-color: var(--bg-color);\n",
              "    border: none;\n",
              "    border-radius: 50%;\n",
              "    cursor: pointer;\n",
              "    display: none;\n",
              "    fill: var(--fill-color);\n",
              "    height: 32px;\n",
              "    padding: 0;\n",
              "    width: 32px;\n",
              "  }\n",
              "\n",
              "  .colab-df-quickchart:hover {\n",
              "    background-color: var(--hover-bg-color);\n",
              "    box-shadow: 0 1px 2px rgba(60, 64, 67, 0.3), 0 1px 3px 1px rgba(60, 64, 67, 0.15);\n",
              "    fill: var(--button-hover-fill-color);\n",
              "  }\n",
              "\n",
              "  .colab-df-quickchart-complete:disabled,\n",
              "  .colab-df-quickchart-complete:disabled:hover {\n",
              "    background-color: var(--disabled-bg-color);\n",
              "    fill: var(--disabled-fill-color);\n",
              "    box-shadow: none;\n",
              "  }\n",
              "\n",
              "  .colab-df-spinner {\n",
              "    border: 2px solid var(--fill-color);\n",
              "    border-color: transparent;\n",
              "    border-bottom-color: var(--fill-color);\n",
              "    animation:\n",
              "      spin 1s steps(1) infinite;\n",
              "  }\n",
              "\n",
              "  @keyframes spin {\n",
              "    0% {\n",
              "      border-color: transparent;\n",
              "      border-bottom-color: var(--fill-color);\n",
              "      border-left-color: var(--fill-color);\n",
              "    }\n",
              "    20% {\n",
              "      border-color: transparent;\n",
              "      border-left-color: var(--fill-color);\n",
              "      border-top-color: var(--fill-color);\n",
              "    }\n",
              "    30% {\n",
              "      border-color: transparent;\n",
              "      border-left-color: var(--fill-color);\n",
              "      border-top-color: var(--fill-color);\n",
              "      border-right-color: var(--fill-color);\n",
              "    }\n",
              "    40% {\n",
              "      border-color: transparent;\n",
              "      border-right-color: var(--fill-color);\n",
              "      border-top-color: var(--fill-color);\n",
              "    }\n",
              "    60% {\n",
              "      border-color: transparent;\n",
              "      border-right-color: var(--fill-color);\n",
              "    }\n",
              "    80% {\n",
              "      border-color: transparent;\n",
              "      border-right-color: var(--fill-color);\n",
              "      border-bottom-color: var(--fill-color);\n",
              "    }\n",
              "    90% {\n",
              "      border-color: transparent;\n",
              "      border-bottom-color: var(--fill-color);\n",
              "    }\n",
              "  }\n",
              "</style>\n",
              "\n",
              "  <script>\n",
              "    async function quickchart(key) {\n",
              "      const quickchartButtonEl =\n",
              "        document.querySelector('#' + key + ' button');\n",
              "      quickchartButtonEl.disabled = true;  // To prevent multiple clicks.\n",
              "      quickchartButtonEl.classList.add('colab-df-spinner');\n",
              "      try {\n",
              "        const charts = await google.colab.kernel.invokeFunction(\n",
              "            'suggestCharts', [key], {});\n",
              "      } catch (error) {\n",
              "        console.error('Error during call to suggestCharts:', error);\n",
              "      }\n",
              "      quickchartButtonEl.classList.remove('colab-df-spinner');\n",
              "      quickchartButtonEl.classList.add('colab-df-quickchart-complete');\n",
              "    }\n",
              "    (() => {\n",
              "      let quickchartButtonEl =\n",
              "        document.querySelector('#df-06398f44-3341-4d5b-a709-88b25e7ce5b9 button');\n",
              "      quickchartButtonEl.style.display =\n",
              "        google.colab.kernel.accessAllowed ? 'block' : 'none';\n",
              "    })();\n",
              "  </script>\n",
              "</div>\n",
              "\n",
              "    </div>\n",
              "  </div>\n"
            ],
            "application/vnd.google.colaboratory.intrinsic+json": {
              "type": "dataframe",
              "summary": "{\n  \"name\": \"data\",\n  \"rows\": 5,\n  \"fields\": [\n    {\n      \"column\": \"English\",\n      \"properties\": {\n        \"dtype\": \"object\",\n        \"semantic_type\": \"\",\n        \"description\": \"\"\n      }\n    },\n    {\n      \"column\": \"Hindi\",\n      \"properties\": {\n        \"dtype\": \"object\",\n        \"semantic_type\": \"\",\n        \"description\": \"\"\n      }\n    }\n  ]\n}"
            }
          },
          "metadata": {},
          "execution_count": 19
        }
      ],
      "id": "4r83tI6jnbvF"
    },
    {
      "cell_type": "markdown",
      "source": [
        "* Removing Stop Words"
      ],
      "metadata": {
        "papermill": {
          "duration": 0.019178,
          "end_time": "2024-03-04T20:04:17.17443",
          "exception": false,
          "start_time": "2024-03-04T20:04:17.155252",
          "status": "completed"
        },
        "tags": [],
        "id": "dZsowSKcnbvJ"
      },
      "id": "dZsowSKcnbvJ"
    },
    {
      "cell_type": "code",
      "source": [
        "nltk.download('stopwords')"
      ],
      "metadata": {
        "papermill": {
          "duration": 0.028792,
          "end_time": "2024-03-04T20:04:17.22276",
          "exception": false,
          "start_time": "2024-03-04T20:04:17.193968",
          "status": "completed"
        },
        "tags": [],
        "execution": {
          "iopub.status.busy": "2024-03-06T05:32:50.281976Z",
          "iopub.execute_input": "2024-03-06T05:32:50.282318Z",
          "iopub.status.idle": "2024-03-06T05:32:50.288288Z",
          "shell.execute_reply.started": "2024-03-06T05:32:50.282293Z",
          "shell.execute_reply": "2024-03-06T05:32:50.28759Z"
        },
        "trusted": true,
        "id": "4XMqRYounbvK",
        "colab": {
          "base_uri": "https://localhost:8080/"
        },
        "outputId": "fa261995-7ff1-46c5-ddd4-14aaf95c9e7b"
      },
      "execution_count": null,
      "outputs": [
        {
          "output_type": "stream",
          "name": "stderr",
          "text": [
            "[nltk_data] Downloading package stopwords to /root/nltk_data...\n",
            "[nltk_data]   Unzipping corpora/stopwords.zip.\n"
          ]
        },
        {
          "output_type": "execute_result",
          "data": {
            "text/plain": [
              "True"
            ]
          },
          "metadata": {},
          "execution_count": 20
        }
      ],
      "id": "4XMqRYounbvK"
    },
    {
      "cell_type": "code",
      "source": [
        "nltk.download('indian')"
      ],
      "metadata": {
        "id": "otMk6Wuhpa8b",
        "colab": {
          "base_uri": "https://localhost:8080/"
        },
        "outputId": "97364e55-08d9-4d98-b31b-fd41000dabe5"
      },
      "id": "otMk6Wuhpa8b",
      "execution_count": null,
      "outputs": [
        {
          "output_type": "stream",
          "name": "stderr",
          "text": [
            "[nltk_data] Downloading package indian to /root/nltk_data...\n",
            "[nltk_data]   Unzipping corpora/indian.zip.\n"
          ]
        },
        {
          "output_type": "execute_result",
          "data": {
            "text/plain": [
              "True"
            ]
          },
          "metadata": {},
          "execution_count": 21
        }
      ]
    },
    {
      "cell_type": "code",
      "source": [
        "len(nltk.corpus.indian.words('hindi.pos'))"
      ],
      "metadata": {
        "papermill": {
          "duration": 0.099832,
          "end_time": "2024-03-04T20:04:17.341951",
          "exception": false,
          "start_time": "2024-03-04T20:04:17.242119",
          "status": "completed"
        },
        "tags": [],
        "execution": {
          "iopub.status.busy": "2024-03-06T05:32:50.28935Z",
          "iopub.execute_input": "2024-03-06T05:32:50.289699Z",
          "iopub.status.idle": "2024-03-06T05:32:50.38236Z",
          "shell.execute_reply.started": "2024-03-06T05:32:50.28966Z",
          "shell.execute_reply": "2024-03-06T05:32:50.3815Z"
        },
        "trusted": true,
        "id": "AK5nx0G5nbvK",
        "colab": {
          "base_uri": "https://localhost:8080/"
        },
        "outputId": "7461a6bd-59ca-4186-e977-9611f600914c"
      },
      "execution_count": null,
      "outputs": [
        {
          "output_type": "execute_result",
          "data": {
            "text/plain": [
              "9408"
            ]
          },
          "metadata": {},
          "execution_count": 22
        }
      ],
      "id": "AK5nx0G5nbvK"
    },
    {
      "cell_type": "code",
      "source": [
        "stop_words_english = set(stopwords.words('english'))\n",
        "stop_words_hindi = set(nltk.corpus.indian.words('hindi.pos'))"
      ],
      "metadata": {
        "papermill": {
          "duration": 0.113037,
          "end_time": "2024-03-04T20:04:17.474797",
          "exception": false,
          "start_time": "2024-03-04T20:04:17.36176",
          "status": "completed"
        },
        "tags": [],
        "execution": {
          "iopub.status.busy": "2024-03-06T05:32:50.383231Z",
          "iopub.execute_input": "2024-03-06T05:32:50.383501Z",
          "iopub.status.idle": "2024-03-06T05:32:50.457196Z",
          "shell.execute_reply.started": "2024-03-06T05:32:50.383478Z",
          "shell.execute_reply": "2024-03-06T05:32:50.456424Z"
        },
        "trusted": true,
        "id": "uggFbT6BnbvK"
      },
      "execution_count": null,
      "outputs": [],
      "id": "uggFbT6BnbvK"
    },
    {
      "cell_type": "code",
      "source": [
        "def remove_stopwords(text,language = 'english'):\n",
        "    if language == 'english':\n",
        "        filtered_words_english = [word for word in text if word.lower() not in stop_words_english]\n",
        "        return ' '.join(filtered_words_english)\n",
        "    elif language == 'hindi':\n",
        "        filterd_words_hindi = [word for word in text if word not in stop_words_hindi]\n",
        "        return ' '.join(filterd_words_hindi)\n",
        "    else:\n",
        "        return ValueError(\"Unsupported Language, Supported languages are 'english' and 'hindi'\")\n",
        "\n",
        "data['English'] = data['English'].apply(lambda x :remove_stopwords(x,language = 'english'))\n",
        "data['Hindi'] = data['Hindi'].apply(lambda x :remove_stopwords(x,language = 'hindi'))"
      ],
      "metadata": {
        "papermill": {
          "duration": 1.065403,
          "end_time": "2024-03-04T20:04:18.560796",
          "exception": false,
          "start_time": "2024-03-04T20:04:17.495393",
          "status": "completed"
        },
        "tags": [],
        "execution": {
          "iopub.status.busy": "2024-03-06T05:32:50.458133Z",
          "iopub.execute_input": "2024-03-06T05:32:50.458384Z",
          "iopub.status.idle": "2024-03-06T05:32:51.521313Z",
          "shell.execute_reply.started": "2024-03-06T05:32:50.458362Z",
          "shell.execute_reply": "2024-03-06T05:32:51.520506Z"
        },
        "trusted": true,
        "id": "Pm_J0sDZnbvK"
      },
      "execution_count": null,
      "outputs": [],
      "id": "Pm_J0sDZnbvK"
    },
    {
      "cell_type": "code",
      "source": [
        "data.sample(5)"
      ],
      "metadata": {
        "papermill": {
          "duration": 0.035715,
          "end_time": "2024-03-04T20:04:18.616595",
          "exception": false,
          "start_time": "2024-03-04T20:04:18.58088",
          "status": "completed"
        },
        "tags": [],
        "execution": {
          "iopub.status.busy": "2024-03-06T05:32:51.522536Z",
          "iopub.execute_input": "2024-03-06T05:32:51.52283Z",
          "iopub.status.idle": "2024-03-06T05:32:51.535328Z",
          "shell.execute_reply.started": "2024-03-06T05:32:51.522805Z",
          "shell.execute_reply": "2024-03-06T05:32:51.53435Z"
        },
        "trusted": true,
        "id": "LfIghCRMnbvK",
        "colab": {
          "base_uri": "https://localhost:8080/",
          "height": 206
        },
        "outputId": "452b1360-61b8-4ff9-f2e7-6f393cebdb96"
      },
      "execution_count": null,
      "outputs": [
        {
          "output_type": "execute_result",
          "data": {
            "text/plain": [
              "                                                  English  \\\n",
              "72069                          submerge beautiful statues   \n",
              "48762   however adjustments facial appearance traumati...   \n",
              "42323                             muslim population world   \n",
              "68955                                        matters mind   \n",
              "117393  17th december 1928 bhagat singh two close asso...   \n",
              "\n",
              "                                                    Hindi  \n",
              "72069                          सुन्दर प्रतिमाओं डुबा लेता  \n",
              "48762   चूँकि कोमल उम्र बच्चों मानसिक कोमल बच्चों करके...  \n",
              "42323                                           जनसंख्या।  \n",
              "68955                                    आत्मीय विषयों मे  \n",
              "117393  दिसंबर भगत करीबी साथियों राजगुरू आजाद अधीक्षक ...  "
            ],
            "text/html": [
              "\n",
              "  <div id=\"df-15d1cf7f-99b2-4f4b-ae25-2056bc889c18\" class=\"colab-df-container\">\n",
              "    <div>\n",
              "<style scoped>\n",
              "    .dataframe tbody tr th:only-of-type {\n",
              "        vertical-align: middle;\n",
              "    }\n",
              "\n",
              "    .dataframe tbody tr th {\n",
              "        vertical-align: top;\n",
              "    }\n",
              "\n",
              "    .dataframe thead th {\n",
              "        text-align: right;\n",
              "    }\n",
              "</style>\n",
              "<table border=\"1\" class=\"dataframe\">\n",
              "  <thead>\n",
              "    <tr style=\"text-align: right;\">\n",
              "      <th></th>\n",
              "      <th>English</th>\n",
              "      <th>Hindi</th>\n",
              "    </tr>\n",
              "  </thead>\n",
              "  <tbody>\n",
              "    <tr>\n",
              "      <th>72069</th>\n",
              "      <td>submerge beautiful statues</td>\n",
              "      <td>सुन्दर प्रतिमाओं डुबा लेता</td>\n",
              "    </tr>\n",
              "    <tr>\n",
              "      <th>48762</th>\n",
              "      <td>however adjustments facial appearance traumati...</td>\n",
              "      <td>चूँकि कोमल उम्र बच्चों मानसिक कोमल बच्चों करके...</td>\n",
              "    </tr>\n",
              "    <tr>\n",
              "      <th>42323</th>\n",
              "      <td>muslim population world</td>\n",
              "      <td>जनसंख्या।</td>\n",
              "    </tr>\n",
              "    <tr>\n",
              "      <th>68955</th>\n",
              "      <td>matters mind</td>\n",
              "      <td>आत्मीय विषयों मे</td>\n",
              "    </tr>\n",
              "    <tr>\n",
              "      <th>117393</th>\n",
              "      <td>17th december 1928 bhagat singh two close asso...</td>\n",
              "      <td>दिसंबर भगत करीबी साथियों राजगुरू आजाद अधीक्षक ...</td>\n",
              "    </tr>\n",
              "  </tbody>\n",
              "</table>\n",
              "</div>\n",
              "    <div class=\"colab-df-buttons\">\n",
              "\n",
              "  <div class=\"colab-df-container\">\n",
              "    <button class=\"colab-df-convert\" onclick=\"convertToInteractive('df-15d1cf7f-99b2-4f4b-ae25-2056bc889c18')\"\n",
              "            title=\"Convert this dataframe to an interactive table.\"\n",
              "            style=\"display:none;\">\n",
              "\n",
              "  <svg xmlns=\"http://www.w3.org/2000/svg\" height=\"24px\" viewBox=\"0 -960 960 960\">\n",
              "    <path d=\"M120-120v-720h720v720H120Zm60-500h600v-160H180v160Zm220 220h160v-160H400v160Zm0 220h160v-160H400v160ZM180-400h160v-160H180v160Zm440 0h160v-160H620v160ZM180-180h160v-160H180v160Zm440 0h160v-160H620v160Z\"/>\n",
              "  </svg>\n",
              "    </button>\n",
              "\n",
              "  <style>\n",
              "    .colab-df-container {\n",
              "      display:flex;\n",
              "      gap: 12px;\n",
              "    }\n",
              "\n",
              "    .colab-df-convert {\n",
              "      background-color: #E8F0FE;\n",
              "      border: none;\n",
              "      border-radius: 50%;\n",
              "      cursor: pointer;\n",
              "      display: none;\n",
              "      fill: #1967D2;\n",
              "      height: 32px;\n",
              "      padding: 0 0 0 0;\n",
              "      width: 32px;\n",
              "    }\n",
              "\n",
              "    .colab-df-convert:hover {\n",
              "      background-color: #E2EBFA;\n",
              "      box-shadow: 0px 1px 2px rgba(60, 64, 67, 0.3), 0px 1px 3px 1px rgba(60, 64, 67, 0.15);\n",
              "      fill: #174EA6;\n",
              "    }\n",
              "\n",
              "    .colab-df-buttons div {\n",
              "      margin-bottom: 4px;\n",
              "    }\n",
              "\n",
              "    [theme=dark] .colab-df-convert {\n",
              "      background-color: #3B4455;\n",
              "      fill: #D2E3FC;\n",
              "    }\n",
              "\n",
              "    [theme=dark] .colab-df-convert:hover {\n",
              "      background-color: #434B5C;\n",
              "      box-shadow: 0px 1px 3px 1px rgba(0, 0, 0, 0.15);\n",
              "      filter: drop-shadow(0px 1px 2px rgba(0, 0, 0, 0.3));\n",
              "      fill: #FFFFFF;\n",
              "    }\n",
              "  </style>\n",
              "\n",
              "    <script>\n",
              "      const buttonEl =\n",
              "        document.querySelector('#df-15d1cf7f-99b2-4f4b-ae25-2056bc889c18 button.colab-df-convert');\n",
              "      buttonEl.style.display =\n",
              "        google.colab.kernel.accessAllowed ? 'block' : 'none';\n",
              "\n",
              "      async function convertToInteractive(key) {\n",
              "        const element = document.querySelector('#df-15d1cf7f-99b2-4f4b-ae25-2056bc889c18');\n",
              "        const dataTable =\n",
              "          await google.colab.kernel.invokeFunction('convertToInteractive',\n",
              "                                                    [key], {});\n",
              "        if (!dataTable) return;\n",
              "\n",
              "        const docLinkHtml = 'Like what you see? Visit the ' +\n",
              "          '<a target=\"_blank\" href=https://colab.research.google.com/notebooks/data_table.ipynb>data table notebook</a>'\n",
              "          + ' to learn more about interactive tables.';\n",
              "        element.innerHTML = '';\n",
              "        dataTable['output_type'] = 'display_data';\n",
              "        await google.colab.output.renderOutput(dataTable, element);\n",
              "        const docLink = document.createElement('div');\n",
              "        docLink.innerHTML = docLinkHtml;\n",
              "        element.appendChild(docLink);\n",
              "      }\n",
              "    </script>\n",
              "  </div>\n",
              "\n",
              "\n",
              "<div id=\"df-ccab722c-50ec-430f-98ee-a112ce9e96e4\">\n",
              "  <button class=\"colab-df-quickchart\" onclick=\"quickchart('df-ccab722c-50ec-430f-98ee-a112ce9e96e4')\"\n",
              "            title=\"Suggest charts\"\n",
              "            style=\"display:none;\">\n",
              "\n",
              "<svg xmlns=\"http://www.w3.org/2000/svg\" height=\"24px\"viewBox=\"0 0 24 24\"\n",
              "     width=\"24px\">\n",
              "    <g>\n",
              "        <path d=\"M19 3H5c-1.1 0-2 .9-2 2v14c0 1.1.9 2 2 2h14c1.1 0 2-.9 2-2V5c0-1.1-.9-2-2-2zM9 17H7v-7h2v7zm4 0h-2V7h2v10zm4 0h-2v-4h2v4z\"/>\n",
              "    </g>\n",
              "</svg>\n",
              "  </button>\n",
              "\n",
              "<style>\n",
              "  .colab-df-quickchart {\n",
              "      --bg-color: #E8F0FE;\n",
              "      --fill-color: #1967D2;\n",
              "      --hover-bg-color: #E2EBFA;\n",
              "      --hover-fill-color: #174EA6;\n",
              "      --disabled-fill-color: #AAA;\n",
              "      --disabled-bg-color: #DDD;\n",
              "  }\n",
              "\n",
              "  [theme=dark] .colab-df-quickchart {\n",
              "      --bg-color: #3B4455;\n",
              "      --fill-color: #D2E3FC;\n",
              "      --hover-bg-color: #434B5C;\n",
              "      --hover-fill-color: #FFFFFF;\n",
              "      --disabled-bg-color: #3B4455;\n",
              "      --disabled-fill-color: #666;\n",
              "  }\n",
              "\n",
              "  .colab-df-quickchart {\n",
              "    background-color: var(--bg-color);\n",
              "    border: none;\n",
              "    border-radius: 50%;\n",
              "    cursor: pointer;\n",
              "    display: none;\n",
              "    fill: var(--fill-color);\n",
              "    height: 32px;\n",
              "    padding: 0;\n",
              "    width: 32px;\n",
              "  }\n",
              "\n",
              "  .colab-df-quickchart:hover {\n",
              "    background-color: var(--hover-bg-color);\n",
              "    box-shadow: 0 1px 2px rgba(60, 64, 67, 0.3), 0 1px 3px 1px rgba(60, 64, 67, 0.15);\n",
              "    fill: var(--button-hover-fill-color);\n",
              "  }\n",
              "\n",
              "  .colab-df-quickchart-complete:disabled,\n",
              "  .colab-df-quickchart-complete:disabled:hover {\n",
              "    background-color: var(--disabled-bg-color);\n",
              "    fill: var(--disabled-fill-color);\n",
              "    box-shadow: none;\n",
              "  }\n",
              "\n",
              "  .colab-df-spinner {\n",
              "    border: 2px solid var(--fill-color);\n",
              "    border-color: transparent;\n",
              "    border-bottom-color: var(--fill-color);\n",
              "    animation:\n",
              "      spin 1s steps(1) infinite;\n",
              "  }\n",
              "\n",
              "  @keyframes spin {\n",
              "    0% {\n",
              "      border-color: transparent;\n",
              "      border-bottom-color: var(--fill-color);\n",
              "      border-left-color: var(--fill-color);\n",
              "    }\n",
              "    20% {\n",
              "      border-color: transparent;\n",
              "      border-left-color: var(--fill-color);\n",
              "      border-top-color: var(--fill-color);\n",
              "    }\n",
              "    30% {\n",
              "      border-color: transparent;\n",
              "      border-left-color: var(--fill-color);\n",
              "      border-top-color: var(--fill-color);\n",
              "      border-right-color: var(--fill-color);\n",
              "    }\n",
              "    40% {\n",
              "      border-color: transparent;\n",
              "      border-right-color: var(--fill-color);\n",
              "      border-top-color: var(--fill-color);\n",
              "    }\n",
              "    60% {\n",
              "      border-color: transparent;\n",
              "      border-right-color: var(--fill-color);\n",
              "    }\n",
              "    80% {\n",
              "      border-color: transparent;\n",
              "      border-right-color: var(--fill-color);\n",
              "      border-bottom-color: var(--fill-color);\n",
              "    }\n",
              "    90% {\n",
              "      border-color: transparent;\n",
              "      border-bottom-color: var(--fill-color);\n",
              "    }\n",
              "  }\n",
              "</style>\n",
              "\n",
              "  <script>\n",
              "    async function quickchart(key) {\n",
              "      const quickchartButtonEl =\n",
              "        document.querySelector('#' + key + ' button');\n",
              "      quickchartButtonEl.disabled = true;  // To prevent multiple clicks.\n",
              "      quickchartButtonEl.classList.add('colab-df-spinner');\n",
              "      try {\n",
              "        const charts = await google.colab.kernel.invokeFunction(\n",
              "            'suggestCharts', [key], {});\n",
              "      } catch (error) {\n",
              "        console.error('Error during call to suggestCharts:', error);\n",
              "      }\n",
              "      quickchartButtonEl.classList.remove('colab-df-spinner');\n",
              "      quickchartButtonEl.classList.add('colab-df-quickchart-complete');\n",
              "    }\n",
              "    (() => {\n",
              "      let quickchartButtonEl =\n",
              "        document.querySelector('#df-ccab722c-50ec-430f-98ee-a112ce9e96e4 button');\n",
              "      quickchartButtonEl.style.display =\n",
              "        google.colab.kernel.accessAllowed ? 'block' : 'none';\n",
              "    })();\n",
              "  </script>\n",
              "</div>\n",
              "\n",
              "    </div>\n",
              "  </div>\n"
            ],
            "application/vnd.google.colaboratory.intrinsic+json": {
              "type": "dataframe",
              "summary": "{\n  \"name\": \"data\",\n  \"rows\": 5,\n  \"fields\": [\n    {\n      \"column\": \"English\",\n      \"properties\": {\n        \"dtype\": \"string\",\n        \"num_unique_values\": 5,\n        \"samples\": [\n          \"however adjustments facial appearance traumatic child sensitive years parents discuss matter children braces applied\",\n          \"17th december 1928 bhagat singh two close associates rajguru azad reached office mr scott deputy superintendent police\",\n          \"muslim population world\"\n        ],\n        \"semantic_type\": \"\",\n        \"description\": \"\"\n      }\n    },\n    {\n      \"column\": \"Hindi\",\n      \"properties\": {\n        \"dtype\": \"string\",\n        \"num_unique_values\": 5,\n        \"samples\": [\n          \"\\u091a\\u0942\\u0901\\u0915\\u093f \\u0915\\u094b\\u092e\\u0932 \\u0909\\u092e\\u094d\\u0930 \\u092c\\u091a\\u094d\\u091a\\u094b\\u0902 \\u092e\\u093e\\u0928\\u0938\\u093f\\u0915 \\u0915\\u094b\\u092e\\u0932 \\u092c\\u091a\\u094d\\u091a\\u094b\\u0902 \\u0915\\u0930\\u0915\\u0947 \\u0907\\u0928\\u094d\\u0939\\u0947\\u0902 \\u0938\\u092e\\u091d\\u093e \\u0909\\u0920\\u093e\\u0928\\u093e\",\n          \"\\u0926\\u093f\\u0938\\u0902\\u092c\\u0930 \\u092d\\u0917\\u0924 \\u0915\\u0930\\u0940\\u092c\\u0940 \\u0938\\u093e\\u0925\\u093f\\u092f\\u094b\\u0902 \\u0930\\u093e\\u091c\\u0917\\u0941\\u0930\\u0942 \\u0906\\u091c\\u093e\\u0926 \\u0905\\u0927\\u0940\\u0915\\u094d\\u0937\\u0915 \\u0938\\u094d\\u0915\\u0949\\u091f \\u0926\\u092b\\u094d\\u0924\\u0930\",\n          \"\\u091c\\u0928\\u0938\\u0902\\u0916\\u094d\\u092f\\u093e\\u0964\"\n        ],\n        \"semantic_type\": \"\",\n        \"description\": \"\"\n      }\n    }\n  ]\n}"
            }
          },
          "metadata": {},
          "execution_count": 25
        }
      ],
      "id": "LfIghCRMnbvK"
    },
    {
      "cell_type": "markdown",
      "source": [
        "* Stemming the text"
      ],
      "metadata": {
        "papermill": {
          "duration": 0.019419,
          "end_time": "2024-03-04T20:04:18.656519",
          "exception": false,
          "start_time": "2024-03-04T20:04:18.6371",
          "status": "completed"
        },
        "tags": [],
        "id": "stz3cOuGnbvK"
      },
      "id": "stz3cOuGnbvK"
    },
    {
      "cell_type": "code",
      "source": [
        "def do_stemming(token_words):\n",
        "    ps = PorterStemmer()\n",
        "    words = token_words.split()\n",
        "    return [ps.stem(word) for word in words]\n",
        "\n",
        "data['English'] = data['English'].apply(do_stemming)\n",
        "data['Hindi'] = data['Hindi'].apply(do_stemming)"
      ],
      "metadata": {
        "papermill": {
          "duration": 61.86362,
          "end_time": "2024-03-04T20:05:20.539637",
          "exception": false,
          "start_time": "2024-03-04T20:04:18.676017",
          "status": "completed"
        },
        "tags": [],
        "execution": {
          "iopub.status.busy": "2024-03-06T05:32:51.536641Z",
          "iopub.execute_input": "2024-03-06T05:32:51.536926Z",
          "iopub.status.idle": "2024-03-06T05:33:52.327297Z",
          "shell.execute_reply.started": "2024-03-06T05:32:51.536901Z",
          "shell.execute_reply": "2024-03-06T05:33:52.326252Z"
        },
        "trusted": true,
        "id": "iZU0JTexnbvK"
      },
      "execution_count": null,
      "outputs": [],
      "id": "iZU0JTexnbvK"
    },
    {
      "cell_type": "code",
      "source": [
        "data.sample(5)"
      ],
      "metadata": {
        "papermill": {
          "duration": 0.039704,
          "end_time": "2024-03-04T20:05:20.599827",
          "exception": false,
          "start_time": "2024-03-04T20:05:20.560123",
          "status": "completed"
        },
        "tags": [],
        "execution": {
          "iopub.status.busy": "2024-03-06T05:33:52.328681Z",
          "iopub.execute_input": "2024-03-06T05:33:52.329043Z",
          "iopub.status.idle": "2024-03-06T05:33:52.34659Z",
          "shell.execute_reply.started": "2024-03-06T05:33:52.329012Z",
          "shell.execute_reply": "2024-03-06T05:33:52.345472Z"
        },
        "trusted": true,
        "id": "WMU8InncnbvL",
        "colab": {
          "base_uri": "https://localhost:8080/",
          "height": 206
        },
        "outputId": "f5db956c-31fd-4615-da5f-fb424f6e7d50"
      },
      "execution_count": null,
      "outputs": [
        {
          "output_type": "execute_result",
          "data": {
            "text/plain": [
              "                                                  English  \\\n",
              "86864              [discuss, differ, sometim, overemphas]   \n",
              "37518                            [mayb, one, year, begin]   \n",
              "4018    [kala, ghoda, utsavcelebr, art, exhibit, diffe...   \n",
              "117438  [success, writer, patriot, citizen, effici, or...   \n",
              "26615                       [nana, sahib, defeat, kanpur]   \n",
              "\n",
              "                                                    Hindi  \n",
              "86864                      [मतभेदों, जरूरत, ज़्यादा, जोर]  \n",
              "37518                                [नहीं।, शुरूआत, है।]  \n",
              "4018    [काला, घोड़ा, कला, उत्सव, कला, कलाक्षेत्रों, न...  \n",
              "117438  [लेखक, देशभक्त, कुशल, वक्ता, ज़िम्मेदार, संपाद...  \n",
              "26615                 [नाना, साहेब, कानपुर, पराजित, पड़ा]  "
            ],
            "text/html": [
              "\n",
              "  <div id=\"df-c5431917-5b4f-48a1-8871-49ffef0a7885\" class=\"colab-df-container\">\n",
              "    <div>\n",
              "<style scoped>\n",
              "    .dataframe tbody tr th:only-of-type {\n",
              "        vertical-align: middle;\n",
              "    }\n",
              "\n",
              "    .dataframe tbody tr th {\n",
              "        vertical-align: top;\n",
              "    }\n",
              "\n",
              "    .dataframe thead th {\n",
              "        text-align: right;\n",
              "    }\n",
              "</style>\n",
              "<table border=\"1\" class=\"dataframe\">\n",
              "  <thead>\n",
              "    <tr style=\"text-align: right;\">\n",
              "      <th></th>\n",
              "      <th>English</th>\n",
              "      <th>Hindi</th>\n",
              "    </tr>\n",
              "  </thead>\n",
              "  <tbody>\n",
              "    <tr>\n",
              "      <th>86864</th>\n",
              "      <td>[discuss, differ, sometim, overemphas]</td>\n",
              "      <td>[मतभेदों, जरूरत, ज़्यादा, जोर]</td>\n",
              "    </tr>\n",
              "    <tr>\n",
              "      <th>37518</th>\n",
              "      <td>[mayb, one, year, begin]</td>\n",
              "      <td>[नहीं।, शुरूआत, है।]</td>\n",
              "    </tr>\n",
              "    <tr>\n",
              "      <th>4018</th>\n",
              "      <td>[kala, ghoda, utsavcelebr, art, exhibit, diffe...</td>\n",
              "      <td>[काला, घोड़ा, कला, उत्सव, कला, कलाक्षेत्रों, न...</td>\n",
              "    </tr>\n",
              "    <tr>\n",
              "      <th>117438</th>\n",
              "      <td>[success, writer, patriot, citizen, effici, or...</td>\n",
              "      <td>[लेखक, देशभक्त, कुशल, वक्ता, ज़िम्मेदार, संपाद...</td>\n",
              "    </tr>\n",
              "    <tr>\n",
              "      <th>26615</th>\n",
              "      <td>[nana, sahib, defeat, kanpur]</td>\n",
              "      <td>[नाना, साहेब, कानपुर, पराजित, पड़ा]</td>\n",
              "    </tr>\n",
              "  </tbody>\n",
              "</table>\n",
              "</div>\n",
              "    <div class=\"colab-df-buttons\">\n",
              "\n",
              "  <div class=\"colab-df-container\">\n",
              "    <button class=\"colab-df-convert\" onclick=\"convertToInteractive('df-c5431917-5b4f-48a1-8871-49ffef0a7885')\"\n",
              "            title=\"Convert this dataframe to an interactive table.\"\n",
              "            style=\"display:none;\">\n",
              "\n",
              "  <svg xmlns=\"http://www.w3.org/2000/svg\" height=\"24px\" viewBox=\"0 -960 960 960\">\n",
              "    <path d=\"M120-120v-720h720v720H120Zm60-500h600v-160H180v160Zm220 220h160v-160H400v160Zm0 220h160v-160H400v160ZM180-400h160v-160H180v160Zm440 0h160v-160H620v160ZM180-180h160v-160H180v160Zm440 0h160v-160H620v160Z\"/>\n",
              "  </svg>\n",
              "    </button>\n",
              "\n",
              "  <style>\n",
              "    .colab-df-container {\n",
              "      display:flex;\n",
              "      gap: 12px;\n",
              "    }\n",
              "\n",
              "    .colab-df-convert {\n",
              "      background-color: #E8F0FE;\n",
              "      border: none;\n",
              "      border-radius: 50%;\n",
              "      cursor: pointer;\n",
              "      display: none;\n",
              "      fill: #1967D2;\n",
              "      height: 32px;\n",
              "      padding: 0 0 0 0;\n",
              "      width: 32px;\n",
              "    }\n",
              "\n",
              "    .colab-df-convert:hover {\n",
              "      background-color: #E2EBFA;\n",
              "      box-shadow: 0px 1px 2px rgba(60, 64, 67, 0.3), 0px 1px 3px 1px rgba(60, 64, 67, 0.15);\n",
              "      fill: #174EA6;\n",
              "    }\n",
              "\n",
              "    .colab-df-buttons div {\n",
              "      margin-bottom: 4px;\n",
              "    }\n",
              "\n",
              "    [theme=dark] .colab-df-convert {\n",
              "      background-color: #3B4455;\n",
              "      fill: #D2E3FC;\n",
              "    }\n",
              "\n",
              "    [theme=dark] .colab-df-convert:hover {\n",
              "      background-color: #434B5C;\n",
              "      box-shadow: 0px 1px 3px 1px rgba(0, 0, 0, 0.15);\n",
              "      filter: drop-shadow(0px 1px 2px rgba(0, 0, 0, 0.3));\n",
              "      fill: #FFFFFF;\n",
              "    }\n",
              "  </style>\n",
              "\n",
              "    <script>\n",
              "      const buttonEl =\n",
              "        document.querySelector('#df-c5431917-5b4f-48a1-8871-49ffef0a7885 button.colab-df-convert');\n",
              "      buttonEl.style.display =\n",
              "        google.colab.kernel.accessAllowed ? 'block' : 'none';\n",
              "\n",
              "      async function convertToInteractive(key) {\n",
              "        const element = document.querySelector('#df-c5431917-5b4f-48a1-8871-49ffef0a7885');\n",
              "        const dataTable =\n",
              "          await google.colab.kernel.invokeFunction('convertToInteractive',\n",
              "                                                    [key], {});\n",
              "        if (!dataTable) return;\n",
              "\n",
              "        const docLinkHtml = 'Like what you see? Visit the ' +\n",
              "          '<a target=\"_blank\" href=https://colab.research.google.com/notebooks/data_table.ipynb>data table notebook</a>'\n",
              "          + ' to learn more about interactive tables.';\n",
              "        element.innerHTML = '';\n",
              "        dataTable['output_type'] = 'display_data';\n",
              "        await google.colab.output.renderOutput(dataTable, element);\n",
              "        const docLink = document.createElement('div');\n",
              "        docLink.innerHTML = docLinkHtml;\n",
              "        element.appendChild(docLink);\n",
              "      }\n",
              "    </script>\n",
              "  </div>\n",
              "\n",
              "\n",
              "<div id=\"df-fb04c276-8355-4bdb-8e32-2a1110444885\">\n",
              "  <button class=\"colab-df-quickchart\" onclick=\"quickchart('df-fb04c276-8355-4bdb-8e32-2a1110444885')\"\n",
              "            title=\"Suggest charts\"\n",
              "            style=\"display:none;\">\n",
              "\n",
              "<svg xmlns=\"http://www.w3.org/2000/svg\" height=\"24px\"viewBox=\"0 0 24 24\"\n",
              "     width=\"24px\">\n",
              "    <g>\n",
              "        <path d=\"M19 3H5c-1.1 0-2 .9-2 2v14c0 1.1.9 2 2 2h14c1.1 0 2-.9 2-2V5c0-1.1-.9-2-2-2zM9 17H7v-7h2v7zm4 0h-2V7h2v10zm4 0h-2v-4h2v4z\"/>\n",
              "    </g>\n",
              "</svg>\n",
              "  </button>\n",
              "\n",
              "<style>\n",
              "  .colab-df-quickchart {\n",
              "      --bg-color: #E8F0FE;\n",
              "      --fill-color: #1967D2;\n",
              "      --hover-bg-color: #E2EBFA;\n",
              "      --hover-fill-color: #174EA6;\n",
              "      --disabled-fill-color: #AAA;\n",
              "      --disabled-bg-color: #DDD;\n",
              "  }\n",
              "\n",
              "  [theme=dark] .colab-df-quickchart {\n",
              "      --bg-color: #3B4455;\n",
              "      --fill-color: #D2E3FC;\n",
              "      --hover-bg-color: #434B5C;\n",
              "      --hover-fill-color: #FFFFFF;\n",
              "      --disabled-bg-color: #3B4455;\n",
              "      --disabled-fill-color: #666;\n",
              "  }\n",
              "\n",
              "  .colab-df-quickchart {\n",
              "    background-color: var(--bg-color);\n",
              "    border: none;\n",
              "    border-radius: 50%;\n",
              "    cursor: pointer;\n",
              "    display: none;\n",
              "    fill: var(--fill-color);\n",
              "    height: 32px;\n",
              "    padding: 0;\n",
              "    width: 32px;\n",
              "  }\n",
              "\n",
              "  .colab-df-quickchart:hover {\n",
              "    background-color: var(--hover-bg-color);\n",
              "    box-shadow: 0 1px 2px rgba(60, 64, 67, 0.3), 0 1px 3px 1px rgba(60, 64, 67, 0.15);\n",
              "    fill: var(--button-hover-fill-color);\n",
              "  }\n",
              "\n",
              "  .colab-df-quickchart-complete:disabled,\n",
              "  .colab-df-quickchart-complete:disabled:hover {\n",
              "    background-color: var(--disabled-bg-color);\n",
              "    fill: var(--disabled-fill-color);\n",
              "    box-shadow: none;\n",
              "  }\n",
              "\n",
              "  .colab-df-spinner {\n",
              "    border: 2px solid var(--fill-color);\n",
              "    border-color: transparent;\n",
              "    border-bottom-color: var(--fill-color);\n",
              "    animation:\n",
              "      spin 1s steps(1) infinite;\n",
              "  }\n",
              "\n",
              "  @keyframes spin {\n",
              "    0% {\n",
              "      border-color: transparent;\n",
              "      border-bottom-color: var(--fill-color);\n",
              "      border-left-color: var(--fill-color);\n",
              "    }\n",
              "    20% {\n",
              "      border-color: transparent;\n",
              "      border-left-color: var(--fill-color);\n",
              "      border-top-color: var(--fill-color);\n",
              "    }\n",
              "    30% {\n",
              "      border-color: transparent;\n",
              "      border-left-color: var(--fill-color);\n",
              "      border-top-color: var(--fill-color);\n",
              "      border-right-color: var(--fill-color);\n",
              "    }\n",
              "    40% {\n",
              "      border-color: transparent;\n",
              "      border-right-color: var(--fill-color);\n",
              "      border-top-color: var(--fill-color);\n",
              "    }\n",
              "    60% {\n",
              "      border-color: transparent;\n",
              "      border-right-color: var(--fill-color);\n",
              "    }\n",
              "    80% {\n",
              "      border-color: transparent;\n",
              "      border-right-color: var(--fill-color);\n",
              "      border-bottom-color: var(--fill-color);\n",
              "    }\n",
              "    90% {\n",
              "      border-color: transparent;\n",
              "      border-bottom-color: var(--fill-color);\n",
              "    }\n",
              "  }\n",
              "</style>\n",
              "\n",
              "  <script>\n",
              "    async function quickchart(key) {\n",
              "      const quickchartButtonEl =\n",
              "        document.querySelector('#' + key + ' button');\n",
              "      quickchartButtonEl.disabled = true;  // To prevent multiple clicks.\n",
              "      quickchartButtonEl.classList.add('colab-df-spinner');\n",
              "      try {\n",
              "        const charts = await google.colab.kernel.invokeFunction(\n",
              "            'suggestCharts', [key], {});\n",
              "      } catch (error) {\n",
              "        console.error('Error during call to suggestCharts:', error);\n",
              "      }\n",
              "      quickchartButtonEl.classList.remove('colab-df-spinner');\n",
              "      quickchartButtonEl.classList.add('colab-df-quickchart-complete');\n",
              "    }\n",
              "    (() => {\n",
              "      let quickchartButtonEl =\n",
              "        document.querySelector('#df-fb04c276-8355-4bdb-8e32-2a1110444885 button');\n",
              "      quickchartButtonEl.style.display =\n",
              "        google.colab.kernel.accessAllowed ? 'block' : 'none';\n",
              "    })();\n",
              "  </script>\n",
              "</div>\n",
              "\n",
              "    </div>\n",
              "  </div>\n"
            ],
            "application/vnd.google.colaboratory.intrinsic+json": {
              "type": "dataframe",
              "summary": "{\n  \"name\": \"data\",\n  \"rows\": 5,\n  \"fields\": [\n    {\n      \"column\": \"English\",\n      \"properties\": {\n        \"dtype\": \"object\",\n        \"semantic_type\": \"\",\n        \"description\": \"\"\n      }\n    },\n    {\n      \"column\": \"Hindi\",\n      \"properties\": {\n        \"dtype\": \"object\",\n        \"semantic_type\": \"\",\n        \"description\": \"\"\n      }\n    }\n  ]\n}"
            }
          },
          "metadata": {},
          "execution_count": 27
        }
      ],
      "id": "WMU8InncnbvL"
    },
    {
      "cell_type": "markdown",
      "source": [
        "\n",
        "<div style=\"color:white; background-color:#5642C5; padding: 10px; border-radius: 15px; font-size: 150%; font-family: Verdana; text-align:center; -webkit-text-stroke-width: 1px; -webkit-text-stroke-color: black; text-shadow: 2px 2px 4px rgba(0, 0, 0, 0.7);\">\n",
        "    Word Cloud\n",
        "</div>"
      ],
      "metadata": {
        "papermill": {
          "duration": 0.019971,
          "end_time": "2024-03-04T20:05:20.640303",
          "exception": false,
          "start_time": "2024-03-04T20:05:20.620332",
          "status": "completed"
        },
        "tags": [],
        "id": "gKsKrlBAnbvL"
      },
      "id": "gKsKrlBAnbvL"
    },
    {
      "cell_type": "code",
      "source": [
        "# Function to preprocess text and generate word cloud\n",
        "def generate_wordcloud(text_list, language):\n",
        "    # Join the list of words into a single string\n",
        "    text_str = ' '.join(map(str, text_list))\n",
        "\n",
        "    # Generate word cloud without specifying font path\n",
        "    wordcloud = WordCloud(width=800, height=400, background_color='white', colormap='viridis').generate(text_str)\n",
        "\n",
        "    # Display word cloud\n",
        "    plt.figure(figsize=(10, 5))\n",
        "    plt.imshow(wordcloud, interpolation='bilinear')\n",
        "    plt.title(f\"Word Cloud for {language} Text\")\n",
        "    plt.axis('off')\n",
        "    plt.show()\n",
        "\n",
        "# Generate word clouds for English and Hindi columns\n",
        "generate_wordcloud(data['English'], 'English')\n",
        "#generate_wordcloud(data['Hindi'], 'Hindi')\n"
      ],
      "metadata": {
        "papermill": {
          "duration": 12.665508,
          "end_time": "2024-03-04T20:05:33.325739",
          "exception": false,
          "start_time": "2024-03-04T20:05:20.660231",
          "status": "completed"
        },
        "tags": [],
        "execution": {
          "iopub.status.busy": "2024-03-06T05:33:52.347806Z",
          "iopub.execute_input": "2024-03-06T05:33:52.3481Z",
          "iopub.status.idle": "2024-03-06T05:34:04.856379Z",
          "shell.execute_reply.started": "2024-03-06T05:33:52.348077Z",
          "shell.execute_reply": "2024-03-06T05:34:04.85541Z"
        },
        "trusted": true,
        "id": "IKEgGKL8nbvL",
        "colab": {
          "base_uri": "https://localhost:8080/",
          "height": 444
        },
        "outputId": "bef57179-31b1-4425-9b53-8c698a00d77a"
      },
      "execution_count": null,
      "outputs": [
        {
          "output_type": "display_data",
          "data": {
            "text/plain": [
              "<Figure size 1000x500 with 1 Axes>"
            ],
            "image/png": "[encoded data removed]"
          },
          "metadata": {}
        }
      ],
      "id": "IKEgGKL8nbvL"
    },
    {
      "cell_type": "markdown",
      "source": [
        "\n",
        "<div style=\"color:white; background-color:#5642C5; padding: 10px; border-radius: 15px; font-size: 150%; font-family: Verdana; text-align:center; -webkit-text-stroke-width: 1px; -webkit-text-stroke-color: black; text-shadow: 2px 2px 4px rgba(0, 0, 0, 0.7);\">\n",
        "    Train Test Split\n",
        "</div>"
      ],
      "metadata": {
        "papermill": {
          "duration": 0.025072,
          "end_time": "2024-03-04T20:05:33.377571",
          "exception": false,
          "start_time": "2024-03-04T20:05:33.352499",
          "status": "completed"
        },
        "tags": [],
        "id": "R4FGXuX3nbvL"
      },
      "id": "R4FGXuX3nbvL"
    },
    {
      "cell_type": "code",
      "source": [
        "tok = Tokenizer()\n",
        "tok.fit_on_texts(data['English'])"
      ],
      "metadata": {
        "id": "Gu9uT82HqPih"
      },
      "id": "Gu9uT82HqPih",
      "execution_count": null,
      "outputs": []
    },
    {
      "cell_type": "code",
      "source": [
        "tok_hindi = Tokenizer()\n",
        "tok_hindi.fit_on_texts(data['Hindi'])"
      ],
      "metadata": {
        "id": "LDrLJ4Lkqdnn"
      },
      "id": "LDrLJ4Lkqdnn",
      "execution_count": null,
      "outputs": []
    },
    {
      "cell_type": "code",
      "source": [
        "# Add special tokens to the Hindi tokenizer\n",
        "tok_hindi.word_index['<start>'] = len(tok_hindi.word_index) + 1\n",
        "tok_hindi.word_index['<end>'] = len(tok_hindi.word_index) + 1"
      ],
      "metadata": {
        "id": "pTiISGsDqsSo"
      },
      "id": "pTiISGsDqsSo",
      "execution_count": null,
      "outputs": []
    },
    {
      "cell_type": "code",
      "source": [
        "len(tok.word_index), len(tok_hindi.word_index)"
      ],
      "metadata": {
        "id": "hQWO3TZRq0Fb",
        "colab": {
          "base_uri": "https://localhost:8080/"
        },
        "outputId": "6486493d-0dba-4783-c9c0-89b35faca89e"
      },
      "id": "hQWO3TZRq0Fb",
      "execution_count": null,
      "outputs": [
        {
          "output_type": "execute_result",
          "data": {
            "text/plain": [
              "(56738, 75241)"
            ]
          },
          "metadata": {},
          "execution_count": 32
        }
      ]
    },
    {
      "cell_type": "code",
      "source": [
        "def add_special_tokens(sequences, start_token='<start>', end_token='<end>'):\n",
        "    sequences_with_special_tokens = []\n",
        "    for sequence in sequences:\n",
        "        sequence_with_special_tokens = [start_token] + sequence + [end_token]\n",
        "        sequences_with_special_tokens.append(sequence_with_special_tokens)\n",
        "    return sequences_with_special_tokens\n",
        "\n",
        "data['Hindi'] = add_special_tokens(data['Hindi'])"
      ],
      "metadata": {
        "id": "VZIxpAfzq-SM"
      },
      "id": "VZIxpAfzq-SM",
      "execution_count": null,
      "outputs": []
    },
    {
      "cell_type": "code",
      "source": [
        "#Now we are goining to convert text to sequences.......\n",
        "data['English'] = tok.texts_to_sequences(data['English'])\n",
        "data['Hindi'] = tok_hindi.texts_to_sequences(data['Hindi'])"
      ],
      "metadata": {
        "id": "LT4SUa9jrXWc"
      },
      "id": "LT4SUa9jrXWc",
      "execution_count": null,
      "outputs": []
    },
    {
      "cell_type": "code",
      "source": [
        "def calculate_max_sequence_length(text):\n",
        "    # Concatenate x_train_seq and x_test_seq\n",
        "    combined_sequences = text\n",
        "    max_length_combined = max(len(sequence) for sequence in combined_sequences)\n",
        "\n",
        "    return max_length_combined\n",
        "\n",
        "max_length_combined_x = calculate_max_sequence_length(data['English'])\n",
        "print(\"Maximum sequence length in combined dataset x: \", max_length_combined_x)\n",
        "max_length_combined_y = calculate_max_sequence_length(data['Hindi'])\n",
        "print(\"Maximum sequence length in combined dataset x: \", max_length_combined_y)"
      ],
      "metadata": {
        "id": "Og3ovxV1slOB",
        "colab": {
          "base_uri": "https://localhost:8080/"
        },
        "outputId": "7b2bbfd8-4d0b-450e-e114-c58fa55d285a"
      },
      "id": "Og3ovxV1slOB",
      "execution_count": null,
      "outputs": [
        {
          "output_type": "stream",
          "name": "stdout",
          "text": [
            "Maximum sequence length in combined dataset x:  218\n",
            "Maximum sequence length in combined dataset x:  135\n"
          ]
        }
      ]
    },
    {
      "cell_type": "code",
      "source": [
        "english = data['English']\n",
        "hindi = data['Hindi']"
      ],
      "metadata": {
        "id": "Lamge9ixuji7"
      },
      "id": "Lamge9ixuji7",
      "execution_count": null,
      "outputs": []
    },
    {
      "cell_type": "code",
      "source": [
        "x_train,x_test,y_train,y_test = train_test_split(english,hindi,test_size = 0.2, random_state = 42)"
      ],
      "metadata": {
        "papermill": {
          "duration": 0.053233,
          "end_time": "2024-03-04T20:05:33.511922",
          "exception": false,
          "start_time": "2024-03-04T20:05:33.458689",
          "status": "completed"
        },
        "tags": [],
        "execution": {
          "iopub.status.busy": "2024-03-06T05:34:04.864015Z",
          "iopub.execute_input": "2024-03-06T05:34:04.864383Z",
          "iopub.status.idle": "2024-03-06T05:34:04.901976Z",
          "shell.execute_reply.started": "2024-03-06T05:34:04.86435Z",
          "shell.execute_reply": "2024-03-06T05:34:04.900972Z"
        },
        "trusted": true,
        "id": "WKdaeWXXnbvL"
      },
      "execution_count": null,
      "outputs": [],
      "id": "WKdaeWXXnbvL"
    },
    {
      "cell_type": "code",
      "source": [
        "print(\"Training set shape: \",x_train.shape,y_train.shape)\n",
        "print(\"Testing set shape: \",x_test.shape,y_test.shape)"
      ],
      "metadata": {
        "papermill": {
          "duration": 0.033024,
          "end_time": "2024-03-04T20:05:33.569696",
          "exception": false,
          "start_time": "2024-03-04T20:05:33.536672",
          "status": "completed"
        },
        "tags": [],
        "execution": {
          "iopub.status.busy": "2024-03-06T05:34:04.903398Z",
          "iopub.execute_input": "2024-03-06T05:34:04.903871Z",
          "iopub.status.idle": "2024-03-06T05:34:04.909422Z",
          "shell.execute_reply.started": "2024-03-06T05:34:04.903837Z",
          "shell.execute_reply": "2024-03-06T05:34:04.908484Z"
        },
        "trusted": true,
        "id": "f3icx1MenbvL",
        "colab": {
          "base_uri": "https://localhost:8080/"
        },
        "outputId": "1d5037bb-aac2-4211-c274-5a08bb8ad296"
      },
      "execution_count": null,
      "outputs": [
        {
          "output_type": "stream",
          "name": "stdout",
          "text": [
            "Training set shape:  (104129,) (104129,)\n",
            "Testing set shape:  (26033,) (26033,)\n"
          ]
        }
      ],
      "id": "f3icx1MenbvL"
    },
    {
      "cell_type": "code",
      "source": [
        "x_train_main = pad_sequences(x_train, maxlen=max_length_combined_x, padding='post')\n",
        "y_train_main = pad_sequences(y_train, maxlen=max_length_combined_y, padding='post')"
      ],
      "metadata": {
        "id": "n4RWqA8TueYy"
      },
      "id": "n4RWqA8TueYy",
      "execution_count": null,
      "outputs": []
    },
    {
      "cell_type": "code",
      "source": [
        "x_test_main = pad_sequences(x_test, maxlen=max_length_combined_x, padding='post')\n",
        "y_test_main = pad_sequences(y_test, maxlen=max_length_combined_y, padding='post')"
      ],
      "metadata": {
        "id": "i4ja-v5ku6OV"
      },
      "id": "i4ja-v5ku6OV",
      "execution_count": null,
      "outputs": []
    },
    {
      "cell_type": "code",
      "source": [
        "start_token_index = tok_hindi.word_index['<start>']\n",
        "end_token_index = tok_hindi.word_index['<end>']\n",
        "\n",
        "print(\"Index of <start> token:\", start_token_index)\n",
        "print(\"Index of <end> token:\", end_token_index)"
      ],
      "metadata": {
        "execution": {
          "iopub.status.busy": "2024-03-06T05:34:07.421239Z",
          "iopub.execute_input": "2024-03-06T05:34:07.421533Z",
          "iopub.status.idle": "2024-03-06T05:34:07.431446Z",
          "shell.execute_reply.started": "2024-03-06T05:34:07.421505Z",
          "shell.execute_reply": "2024-03-06T05:34:07.430607Z"
        },
        "trusted": true,
        "id": "2hvXdToQnbvM",
        "colab": {
          "base_uri": "https://localhost:8080/"
        },
        "outputId": "72267a1e-7b69-4e41-e070-1e75583959c8"
      },
      "execution_count": null,
      "outputs": [
        {
          "output_type": "stream",
          "name": "stdout",
          "text": [
            "Index of <start> token: 75240\n",
            "Index of <end> token: 75241\n"
          ]
        }
      ],
      "id": "2hvXdToQnbvM"
    },
    {
      "cell_type": "code",
      "source": [
        "for num in x_train_main[9]:\n",
        "    print(num,end = \" \")"
      ],
      "metadata": {
        "papermill": {
          "duration": 0.03377,
          "end_time": "2024-03-04T20:05:37.621701",
          "exception": false,
          "start_time": "2024-03-04T20:05:37.587931",
          "status": "completed"
        },
        "tags": [],
        "execution": {
          "iopub.status.busy": "2024-03-06T05:34:10.248727Z",
          "iopub.execute_input": "2024-03-06T05:34:10.249118Z",
          "iopub.status.idle": "2024-03-06T05:34:10.254356Z",
          "shell.execute_reply.started": "2024-03-06T05:34:10.249085Z",
          "shell.execute_reply": "2024-03-06T05:34:10.253484Z"
        },
        "trusted": true,
        "id": "AIauJZZQnbvN",
        "colab": {
          "base_uri": "https://localhost:8080/"
        },
        "outputId": "ac872616-fc39-4d78-ac78-2ce6a90be952"
      },
      "execution_count": null,
      "outputs": [
        {
          "output_type": "stream",
          "name": "stdout",
          "text": [
            "15056 395 39 357 3485 34 12681 4603 7280 1631 6859 520 0 0 0 0 0 0 0 0 0 0 0 0 0 0 0 0 0 0 0 0 0 0 0 0 0 0 0 0 0 0 0 0 0 0 0 0 0 0 0 0 0 0 0 0 0 0 0 0 0 0 0 0 0 0 0 0 0 0 0 0 0 0 0 0 0 0 0 0 0 0 0 0 0 0 0 0 0 0 0 0 0 0 0 0 0 0 0 0 0 0 0 0 0 0 0 0 0 0 0 0 0 0 0 0 0 0 0 0 0 0 0 0 0 0 0 0 0 0 0 0 0 0 0 0 0 0 0 0 0 0 0 0 0 0 0 0 0 0 0 0 0 0 0 0 0 0 0 0 0 0 0 0 0 0 0 0 0 0 0 0 0 0 0 0 0 0 0 0 0 0 0 0 0 0 0 0 0 0 0 0 0 0 0 0 0 0 0 0 0 0 0 0 0 0 0 0 0 0 0 0 0 0 0 0 0 0 "
          ]
        }
      ],
      "id": "AIauJZZQnbvN"
    },
    {
      "cell_type": "code",
      "source": [
        "#Corresponding words .........\n",
        "for num in x_train_main[9]:\n",
        "    word = tok.index_word.get(num,'UNK')\n",
        "    print(word,end = \" \")"
      ],
      "metadata": {
        "papermill": {
          "duration": 0.033086,
          "end_time": "2024-03-04T20:05:37.681237",
          "exception": false,
          "start_time": "2024-03-04T20:05:37.648151",
          "status": "completed"
        },
        "tags": [],
        "execution": {
          "iopub.status.busy": "2024-03-06T05:34:10.255538Z",
          "iopub.execute_input": "2024-03-06T05:34:10.255873Z",
          "iopub.status.idle": "2024-03-06T05:34:10.268014Z",
          "shell.execute_reply.started": "2024-03-06T05:34:10.25585Z",
          "shell.execute_reply": "2024-03-06T05:34:10.267184Z"
        },
        "trusted": true,
        "id": "o3JL14GBnbvN",
        "colab": {
          "base_uri": "https://localhost:8080/"
        },
        "outputId": "f7bf6d9d-b1f6-41fd-f94a-28dabded5575"
      },
      "execution_count": null,
      "outputs": [
        {
          "output_type": "stream",
          "name": "stdout",
          "text": [
            "palataka poet come earth brood life patho ironi fugit joy fragil claim UNK UNK UNK UNK UNK UNK UNK UNK UNK UNK UNK UNK UNK UNK UNK UNK UNK UNK UNK UNK UNK UNK UNK UNK UNK UNK UNK UNK UNK UNK UNK UNK UNK UNK UNK UNK UNK UNK UNK UNK UNK UNK UNK UNK UNK UNK UNK UNK UNK UNK UNK UNK UNK UNK UNK UNK UNK UNK UNK UNK UNK UNK UNK UNK UNK UNK UNK UNK UNK UNK UNK UNK UNK UNK UNK UNK UNK UNK UNK UNK UNK UNK UNK UNK UNK UNK UNK UNK UNK UNK UNK UNK UNK UNK UNK UNK UNK UNK UNK UNK UNK UNK UNK UNK UNK UNK UNK UNK UNK UNK UNK UNK UNK UNK UNK UNK UNK UNK UNK UNK UNK UNK UNK UNK UNK UNK UNK UNK UNK UNK UNK UNK UNK UNK UNK UNK UNK UNK UNK UNK UNK UNK UNK UNK UNK UNK UNK UNK UNK UNK UNK UNK UNK UNK UNK UNK UNK UNK UNK UNK UNK UNK UNK UNK UNK UNK UNK UNK UNK UNK UNK UNK UNK UNK UNK UNK UNK UNK UNK UNK UNK UNK UNK UNK UNK UNK UNK UNK UNK UNK UNK UNK UNK UNK UNK UNK UNK UNK UNK UNK UNK UNK UNK UNK UNK UNK "
          ]
        }
      ],
      "id": "o3JL14GBnbvN"
    },
    {
      "cell_type": "markdown",
      "source": [
        "\n",
        "<div style=\"color:white; background-color:#5642C5; padding: 10px; border-radius: 15px; font-size: 150%; font-family: Verdana; text-align:center; -webkit-text-stroke-width: 1px; -webkit-text-stroke-color: black; text-shadow: 2px 2px 4px rgba(0, 0, 0, 0.7);\">\n",
        "    Padding of the data\n",
        "</div>"
      ],
      "metadata": {
        "papermill": {
          "duration": 0.026194,
          "end_time": "2024-03-04T20:05:37.73153",
          "exception": false,
          "start_time": "2024-03-04T20:05:37.705336",
          "status": "completed"
        },
        "tags": [],
        "id": "q9CPNaLCnbvO"
      },
      "id": "q9CPNaLCnbvO"
    },
    {
      "cell_type": "code",
      "source": [
        "x_train_main"
      ],
      "metadata": {
        "papermill": {
          "duration": 0.033747,
          "end_time": "2024-03-04T20:05:38.863319",
          "exception": false,
          "start_time": "2024-03-04T20:05:38.829572",
          "status": "completed"
        },
        "tags": [],
        "execution": {
          "iopub.status.busy": "2024-03-06T05:34:12.021011Z",
          "iopub.execute_input": "2024-03-06T05:34:12.021304Z",
          "iopub.status.idle": "2024-03-06T05:34:12.028034Z",
          "shell.execute_reply.started": "2024-03-06T05:34:12.02128Z",
          "shell.execute_reply": "2024-03-06T05:34:12.027088Z"
        },
        "trusted": true,
        "id": "i-k9gelNnbvO",
        "colab": {
          "base_uri": "https://localhost:8080/"
        },
        "outputId": "f96c098e-cf5e-42eb-c63d-f71b6f8f83d1"
      },
      "execution_count": null,
      "outputs": [
        {
          "output_type": "execute_result",
          "data": {
            "text/plain": [
              "array([[ 122, 1433,  802, ...,    0,    0,    0],\n",
              "       [ 165,  671, 1220, ...,    0,    0,    0],\n",
              "       [2304, 2025,  331, ...,    0,    0,    0],\n",
              "       ...,\n",
              "       [  71,   17, 3396, ...,    0,    0,    0],\n",
              "       [   9,    8,   51, ...,    0,    0,    0],\n",
              "       [ 668,  654, 1035, ...,    0,    0,    0]], dtype=int32)"
            ]
          },
          "metadata": {},
          "execution_count": 45
        }
      ],
      "id": "i-k9gelNnbvO"
    },
    {
      "cell_type": "code",
      "source": [
        "y_test_main"
      ],
      "metadata": {
        "papermill": {
          "duration": 0.033861,
          "end_time": "2024-03-04T20:05:38.924822",
          "exception": false,
          "start_time": "2024-03-04T20:05:38.890961",
          "status": "completed"
        },
        "tags": [],
        "execution": {
          "iopub.status.busy": "2024-03-06T05:34:12.029056Z",
          "iopub.execute_input": "2024-03-06T05:34:12.029347Z",
          "iopub.status.idle": "2024-03-06T05:34:12.041949Z",
          "shell.execute_reply.started": "2024-03-06T05:34:12.029322Z",
          "shell.execute_reply": "2024-03-06T05:34:12.041123Z"
        },
        "trusted": true,
        "id": "ZpsAUcdxnbvO",
        "colab": {
          "base_uri": "https://localhost:8080/"
        },
        "outputId": "930f5882-4959-45e7-f475-15805613e292"
      },
      "execution_count": null,
      "outputs": [
        {
          "output_type": "execute_result",
          "data": {
            "text/plain": [
              "array([[75240, 25359, 20397, ...,     0,     0,     0],\n",
              "       [75240,   485, 18199, ...,     0,     0,     0],\n",
              "       [75240,   968,    61, ...,     0,     0,     0],\n",
              "       ...,\n",
              "       [75240, 65179,  1645, ...,     0,     0,     0],\n",
              "       [75240,   371,   490, ...,     0,     0,     0],\n",
              "       [75240,  2421,  5824, ...,     0,     0,     0]], dtype=int32)"
            ]
          },
          "metadata": {},
          "execution_count": 46
        }
      ],
      "id": "ZpsAUcdxnbvO"
    },
    {
      "cell_type": "markdown",
      "source": [
        "\n",
        "<div style=\"color:white; background-color:#5642C5; padding: 10px; border-radius: 15px; font-size: 150%; font-family: Verdana; text-align:center; -webkit-text-stroke-width: 1px; -webkit-text-stroke-color: black; text-shadow: 2px 2px 4px rgba(0, 0, 0, 0.7);\">\n",
        "    LSTM || ENCODER-DECODER MODEL || RNN\n",
        "</div>"
      ],
      "metadata": {
        "papermill": {
          "duration": 0.026334,
          "end_time": "2024-03-04T20:05:38.976695",
          "exception": false,
          "start_time": "2024-03-04T20:05:38.950361",
          "status": "completed"
        },
        "tags": [],
        "id": "2oTdh5KGnbvO"
      },
      "id": "2oTdh5KGnbvO"
    },
    {
      "cell_type": "markdown",
      "source": [
        "![MODEL](https://www.researchgate.net/publication/340443252/figure/fig1/AS:876840973520898@1586066587656/Encoder-decoder-model-using-stacked-LSTMs-for-encoding-and-one-LSTM-layer-for-decoding.ppm)"
      ],
      "metadata": {
        "papermill": {
          "duration": 0.025251,
          "end_time": "2024-03-04T20:05:39.028079",
          "exception": false,
          "start_time": "2024-03-04T20:05:39.002828",
          "status": "completed"
        },
        "tags": [],
        "id": "FmZL7frynbvO"
      },
      "id": "FmZL7frynbvO"
    },
    {
      "cell_type": "code",
      "source": [
        "input_seq_length = max_length_combined_x\n",
        "output_seq_length = max_length_combined_y"
      ],
      "metadata": {
        "papermill": {
          "duration": 0.031861,
          "end_time": "2024-03-04T20:05:39.084921",
          "exception": false,
          "start_time": "2024-03-04T20:05:39.05306",
          "status": "completed"
        },
        "tags": [],
        "execution": {
          "iopub.status.busy": "2024-03-06T05:34:12.043073Z",
          "iopub.execute_input": "2024-03-06T05:34:12.043349Z",
          "iopub.status.idle": "2024-03-06T05:34:12.052808Z",
          "shell.execute_reply.started": "2024-03-06T05:34:12.043325Z",
          "shell.execute_reply": "2024-03-06T05:34:12.052008Z"
        },
        "trusted": true,
        "id": "4ggUQzeanbvP"
      },
      "execution_count": null,
      "outputs": [],
      "id": "4ggUQzeanbvP"
    },
    {
      "cell_type": "code",
      "source": [
        "# Vocabulary sizes for training data\n",
        "num_encoder_tokens = len(tok.word_index) + 1\n",
        "num_decoder_tokens = len(tok_hindi.word_index) + 1"
      ],
      "metadata": {
        "papermill": {
          "duration": 0.031418,
          "end_time": "2024-03-04T20:05:39.141134",
          "exception": false,
          "start_time": "2024-03-04T20:05:39.109716",
          "status": "completed"
        },
        "tags": [],
        "execution": {
          "iopub.status.busy": "2024-03-06T05:34:12.054075Z",
          "iopub.execute_input": "2024-03-06T05:34:12.054482Z",
          "iopub.status.idle": "2024-03-06T05:34:12.06462Z",
          "shell.execute_reply.started": "2024-03-06T05:34:12.054426Z",
          "shell.execute_reply": "2024-03-06T05:34:12.063927Z"
        },
        "trusted": true,
        "id": "GHsYarSunbvP"
      },
      "execution_count": null,
      "outputs": [],
      "id": "GHsYarSunbvP"
    },
    {
      "cell_type": "code",
      "source": [
        "#Define LSTM dimensions........\n",
        "latent_dim = 256"
      ],
      "metadata": {
        "papermill": {
          "duration": 0.031039,
          "end_time": "2024-03-04T20:05:39.197371",
          "exception": false,
          "start_time": "2024-03-04T20:05:39.166332",
          "status": "completed"
        },
        "tags": [],
        "execution": {
          "iopub.status.busy": "2024-03-06T05:34:12.065752Z",
          "iopub.execute_input": "2024-03-06T05:34:12.066347Z",
          "iopub.status.idle": "2024-03-06T05:34:12.08109Z",
          "shell.execute_reply.started": "2024-03-06T05:34:12.066315Z",
          "shell.execute_reply": "2024-03-06T05:34:12.080441Z"
        },
        "trusted": true,
        "id": "vXguydz_nbvP"
      },
      "execution_count": null,
      "outputs": [],
      "id": "vXguydz_nbvP"
    },
    {
      "cell_type": "code",
      "source": [
        "import tensorflow as tf\n",
        "from tensorflow.keras.optimizers import Adam\n",
        "encoder_inputs = Input(shape = (input_seq_length,))\n",
        "#Embedding layer.......\n",
        "encoder_embedding = Embedding(input_dim = num_encoder_tokens, output_dim = latent_dim, mask_zero= True)(encoder_inputs)\n",
        "#Encoder LSTM\n",
        "encoder_lstm = LSTM(latent_dim,return_state = True)\n",
        "encoder_outputs, state_h, state_c = encoder_lstm(encoder_embedding)\n",
        "\n",
        "#Discard enoder outputs and keep only the states...........\n",
        "encoder_states = [state_h, state_c]\n",
        "\n",
        "#Define the decoder input...........\n",
        "decoder_inputs = Input(shape = (None,)) #None for variable sequence length .............\n",
        "\n",
        "#Define decoder embedding layer\n",
        "decoder_embedding = Embedding(num_decoder_tokens,latent_dim,mask_zero = True)\n",
        "decoder_embedding_outputs = decoder_embedding(decoder_inputs)\n",
        "\n",
        "#Define decoder LSTM\n",
        "decoder_lstm = LSTM(latent_dim,return_sequences= True, return_state=True)\n",
        "decoder_outputs,_,_ = decoder_lstm(decoder_embedding_outputs,initial_state = encoder_states)\n",
        "\n",
        "#Define decoder output layer.......\n",
        "decoder_dense = Dense(num_decoder_tokens,activation='softmax')\n",
        "decoder_outputs = decoder_dense(decoder_outputs)\n",
        "\n",
        "#Define the modek.......\n",
        "model = Model([encoder_inputs,decoder_inputs] , decoder_outputs)\n",
        "optimizer = Adam(clipvalue=0.5)\n",
        "model.compile(optimizer=optimizer, loss='sparse_categorical_crossentropy', metrics=['accuracy'])\n",
        "\n",
        "# Print model summary\n",
        "print(model.summary())"
      ],
      "metadata": {
        "papermill": {
          "duration": 1.363071,
          "end_time": "2024-03-04T20:05:40.585148",
          "exception": false,
          "start_time": "2024-03-04T20:05:39.222077",
          "status": "completed"
        },
        "tags": [],
        "execution": {
          "iopub.status.busy": "2024-03-06T05:34:12.082256Z",
          "iopub.execute_input": "2024-03-06T05:34:12.082667Z",
          "iopub.status.idle": "2024-03-06T05:34:13.773196Z",
          "shell.execute_reply.started": "2024-03-06T05:34:12.082628Z",
          "shell.execute_reply": "2024-03-06T05:34:13.772213Z"
        },
        "trusted": true,
        "id": "K-q1y1KQnbvP",
        "colab": {
          "base_uri": "https://localhost:8080/"
        },
        "outputId": "6a61693b-8875-4952-c361-05329bda2ea7"
      },
      "execution_count": null,
      "outputs": [
        {
          "output_type": "stream",
          "name": "stdout",
          "text": [
            "Model: \"model\"\n",
            "__________________________________________________________________________________________________\n",
            " Layer (type)                Output Shape                 Param #   Connected to                  \n",
            "==================================================================================================\n",
            " input_1 (InputLayer)        [(None, 218)]                0         []                            \n",
            "                                                                                                  \n",
            " input_2 (InputLayer)        [(None, None)]               0         []                            \n",
            "                                                                                                  \n",
            " embedding (Embedding)       (None, 218, 256)             1452518   ['input_1[0][0]']             \n",
            "                                                          4                                       \n",
            "                                                                                                  \n",
            " embedding_1 (Embedding)     (None, None, 256)            1926195   ['input_2[0][0]']             \n",
            "                                                          2                                       \n",
            "                                                                                                  \n",
            " lstm (LSTM)                 [(None, 256),                525312    ['embedding[0][0]']           \n",
            "                              (None, 256),                                                        \n",
            "                              (None, 256)]                                                        \n",
            "                                                                                                  \n",
            " lstm_1 (LSTM)               [(None, None, 256),          525312    ['embedding_1[0][0]',         \n",
            "                              (None, 256),                           'lstm[0][1]',                \n",
            "                              (None, 256)]                           'lstm[0][2]']                \n",
            "                                                                                                  \n",
            " dense (Dense)               (None, None, 75242)          1933719   ['lstm_1[0][0]']              \n",
            "                                                          4                                       \n",
            "                                                                                                  \n",
            "==================================================================================================\n",
            "Total params: 54174954 (206.66 MB)\n",
            "Trainable params: 54174954 (206.66 MB)\n",
            "Non-trainable params: 0 (0.00 Byte)\n",
            "__________________________________________________________________________________________________\n",
            "None\n"
          ]
        }
      ],
      "id": "K-q1y1KQnbvP"
    },
    {
      "cell_type": "code",
      "source": [
        "history = model.fit([x_train_main, y_train_main[:, :-1]], y_train_main.reshape(y_train_main.shape[0], y_train_main.shape[1], 1)[:, 1:],\n",
        "          validation_split=0.2,\n",
        "          batch_size= 32,\n",
        "          epochs= 50)"
      ],
      "metadata": {
        "papermill": {
          "duration": 16734.150812,
          "end_time": "2024-03-05T00:44:34.763767",
          "exception": false,
          "start_time": "2024-03-04T20:05:40.612955",
          "status": "completed"
        },
        "tags": [],
        "execution": {
          "iopub.status.busy": "2024-03-06T05:34:13.774299Z",
          "iopub.execute_input": "2024-03-06T05:34:13.774606Z",
          "iopub.status.idle": "2024-03-06T06:02:21.293643Z",
          "shell.execute_reply.started": "2024-03-06T05:34:13.774579Z",
          "shell.execute_reply": "2024-03-06T06:02:21.292167Z"
        },
        "trusted": true,
        "id": "z_fKgnylnbvQ",
        "colab": {
          "base_uri": "https://localhost:8080/",
          "height": 408
        },
        "outputId": "85e7ec48-0bdf-4b2e-9a03-a8a6c58e076c"
      },
      "execution_count": null,
      "outputs": [
        {
          "output_type": "stream",
          "name": "stdout",
          "text": [
            "Epoch 1/50\n",
            "  15/2604 [..............................] - ETA: 12:41:14 - loss: 11.1658 - accuracy: 0.2033"
          ]
        },
        {
          "output_type": "error",
          "ename": "KeyboardInterrupt",
          "evalue": "",
          "traceback": [
            "\u001b[0;31m---------------------------------------------------------------------------\u001b[0m",
            "\u001b[0;31mKeyboardInterrupt\u001b[0m                         Traceback (most recent call last)",
            "\u001b[0;32m<ipython-input-51-a978b313845e>\u001b[0m in \u001b[0;36m<cell line: 1>\u001b[0;34m()\u001b[0m\n\u001b[0;32m----> 1\u001b[0;31m history = model.fit([x_train_main, y_train_main[:, :-1]], y_train_main.reshape(y_train_main.shape[0], y_train_main.shape[1], 1)[:, 1:],\n\u001b[0m\u001b[1;32m      2\u001b[0m           \u001b[0mvalidation_split\u001b[0m\u001b[0;34m=\u001b[0m\u001b[0;36m0.2\u001b[0m\u001b[0;34m,\u001b[0m\u001b[0;34m\u001b[0m\u001b[0;34m\u001b[0m\u001b[0m\n\u001b[1;32m      3\u001b[0m           \u001b[0mbatch_size\u001b[0m\u001b[0;34m=\u001b[0m \u001b[0;36m32\u001b[0m\u001b[0;34m,\u001b[0m\u001b[0;34m\u001b[0m\u001b[0;34m\u001b[0m\u001b[0m\n\u001b[1;32m      4\u001b[0m           epochs= 50)\n",
            "\u001b[0;32m/usr/local/lib/python3.10/dist-packages/keras/src/utils/traceback_utils.py\u001b[0m in \u001b[0;36merror_handler\u001b[0;34m(*args, **kwargs)\u001b[0m\n\u001b[1;32m     63\u001b[0m         \u001b[0mfiltered_tb\u001b[0m \u001b[0;34m=\u001b[0m \u001b[0;32mNone\u001b[0m\u001b[0;34m\u001b[0m\u001b[0;34m\u001b[0m\u001b[0m\n\u001b[1;32m     64\u001b[0m         \u001b[0;32mtry\u001b[0m\u001b[0;34m:\u001b[0m\u001b[0;34m\u001b[0m\u001b[0;34m\u001b[0m\u001b[0m\n\u001b[0;32m---> 65\u001b[0;31m             \u001b[0;32mreturn\u001b[0m \u001b[0mfn\u001b[0m\u001b[0;34m(\u001b[0m\u001b[0;34m*\u001b[0m\u001b[0margs\u001b[0m\u001b[0;34m,\u001b[0m \u001b[0;34m**\u001b[0m\u001b[0mkwargs\u001b[0m\u001b[0;34m)\u001b[0m\u001b[0;34m\u001b[0m\u001b[0;34m\u001b[0m\u001b[0m\n\u001b[0m\u001b[1;32m     66\u001b[0m         \u001b[0;32mexcept\u001b[0m \u001b[0mException\u001b[0m \u001b[0;32mas\u001b[0m \u001b[0me\u001b[0m\u001b[0;34m:\u001b[0m\u001b[0;34m\u001b[0m\u001b[0;34m\u001b[0m\u001b[0m\n\u001b[1;32m     67\u001b[0m             \u001b[0mfiltered_tb\u001b[0m \u001b[0;34m=\u001b[0m \u001b[0m_process_traceback_frames\u001b[0m\u001b[0;34m(\u001b[0m\u001b[0me\u001b[0m\u001b[0;34m.\u001b[0m\u001b[0m__traceback__\u001b[0m\u001b[0;34m)\u001b[0m\u001b[0;34m\u001b[0m\u001b[0;34m\u001b[0m\u001b[0m\n",
            "\u001b[0;32m/usr/local/lib/python3.10/dist-packages/keras/src/engine/training.py\u001b[0m in \u001b[0;36mfit\u001b[0;34m(self, x, y, batch_size, epochs, verbose, callbacks, validation_split, validation_data, shuffle, class_weight, sample_weight, initial_epoch, steps_per_epoch, validation_steps, validation_batch_size, validation_freq, max_queue_size, workers, use_multiprocessing)\u001b[0m\n\u001b[1;32m   1805\u001b[0m                         ):\n\u001b[1;32m   1806\u001b[0m                             \u001b[0mcallbacks\u001b[0m\u001b[0;34m.\u001b[0m\u001b[0mon_train_batch_begin\u001b[0m\u001b[0;34m(\u001b[0m\u001b[0mstep\u001b[0m\u001b[0;34m)\u001b[0m\u001b[0;34m\u001b[0m\u001b[0;34m\u001b[0m\u001b[0m\n\u001b[0;32m-> 1807\u001b[0;31m                             \u001b[0mtmp_logs\u001b[0m \u001b[0;34m=\u001b[0m \u001b[0mself\u001b[0m\u001b[0;34m.\u001b[0m\u001b[0mtrain_function\u001b[0m\u001b[0;34m(\u001b[0m\u001b[0miterator\u001b[0m\u001b[0;34m)\u001b[0m\u001b[0;34m\u001b[0m\u001b[0;34m\u001b[0m\u001b[0m\n\u001b[0m\u001b[1;32m   1808\u001b[0m                             \u001b[0;32mif\u001b[0m \u001b[0mdata_handler\u001b[0m\u001b[0;34m.\u001b[0m\u001b[0mshould_sync\u001b[0m\u001b[0;34m:\u001b[0m\u001b[0;34m\u001b[0m\u001b[0;34m\u001b[0m\u001b[0m\n\u001b[1;32m   1809\u001b[0m                                 \u001b[0mcontext\u001b[0m\u001b[0;34m.\u001b[0m\u001b[0masync_wait\u001b[0m\u001b[0;34m(\u001b[0m\u001b[0;34m)\u001b[0m\u001b[0;34m\u001b[0m\u001b[0;34m\u001b[0m\u001b[0m\n",
            "\u001b[0;32m/usr/local/lib/python3.10/dist-packages/tensorflow/python/util/traceback_utils.py\u001b[0m in \u001b[0;36merror_handler\u001b[0;34m(*args, **kwargs)\u001b[0m\n\u001b[1;32m    148\u001b[0m     \u001b[0mfiltered_tb\u001b[0m \u001b[0;34m=\u001b[0m \u001b[0;32mNone\u001b[0m\u001b[0;34m\u001b[0m\u001b[0;34m\u001b[0m\u001b[0m\n\u001b[1;32m    149\u001b[0m     \u001b[0;32mtry\u001b[0m\u001b[0;34m:\u001b[0m\u001b[0;34m\u001b[0m\u001b[0;34m\u001b[0m\u001b[0m\n\u001b[0;32m--> 150\u001b[0;31m       \u001b[0;32mreturn\u001b[0m \u001b[0mfn\u001b[0m\u001b[0;34m(\u001b[0m\u001b[0;34m*\u001b[0m\u001b[0margs\u001b[0m\u001b[0;34m,\u001b[0m \u001b[0;34m**\u001b[0m\u001b[0mkwargs\u001b[0m\u001b[0;34m)\u001b[0m\u001b[0;34m\u001b[0m\u001b[0;34m\u001b[0m\u001b[0m\n\u001b[0m\u001b[1;32m    151\u001b[0m     \u001b[0;32mexcept\u001b[0m \u001b[0mException\u001b[0m \u001b[0;32mas\u001b[0m \u001b[0me\u001b[0m\u001b[0;34m:\u001b[0m\u001b[0;34m\u001b[0m\u001b[0;34m\u001b[0m\u001b[0m\n\u001b[1;32m    152\u001b[0m       \u001b[0mfiltered_tb\u001b[0m \u001b[0;34m=\u001b[0m \u001b[0m_process_traceback_frames\u001b[0m\u001b[0;34m(\u001b[0m\u001b[0me\u001b[0m\u001b[0;34m.\u001b[0m\u001b[0m__traceback__\u001b[0m\u001b[0;34m)\u001b[0m\u001b[0;34m\u001b[0m\u001b[0;34m\u001b[0m\u001b[0m\n",
            "\u001b[0;32m/usr/local/lib/python3.10/dist-packages/tensorflow/python/eager/polymorphic_function/polymorphic_function.py\u001b[0m in \u001b[0;36m__call__\u001b[0;34m(self, *args, **kwds)\u001b[0m\n\u001b[1;32m    830\u001b[0m \u001b[0;34m\u001b[0m\u001b[0m\n\u001b[1;32m    831\u001b[0m       \u001b[0;32mwith\u001b[0m \u001b[0mOptionalXlaContext\u001b[0m\u001b[0;34m(\u001b[0m\u001b[0mself\u001b[0m\u001b[0;34m.\u001b[0m\u001b[0m_jit_compile\u001b[0m\u001b[0;34m)\u001b[0m\u001b[0;34m:\u001b[0m\u001b[0;34m\u001b[0m\u001b[0;34m\u001b[0m\u001b[0m\n\u001b[0;32m--> 832\u001b[0;31m         \u001b[0mresult\u001b[0m \u001b[0;34m=\u001b[0m \u001b[0mself\u001b[0m\u001b[0;34m.\u001b[0m\u001b[0m_call\u001b[0m\u001b[0;34m(\u001b[0m\u001b[0;34m*\u001b[0m\u001b[0margs\u001b[0m\u001b[0;34m,\u001b[0m \u001b[0;34m**\u001b[0m\u001b[0mkwds\u001b[0m\u001b[0;34m)\u001b[0m\u001b[0;34m\u001b[0m\u001b[0;34m\u001b[0m\u001b[0m\n\u001b[0m\u001b[1;32m    833\u001b[0m \u001b[0;34m\u001b[0m\u001b[0m\n\u001b[1;32m    834\u001b[0m       \u001b[0mnew_tracing_count\u001b[0m \u001b[0;34m=\u001b[0m \u001b[0mself\u001b[0m\u001b[0;34m.\u001b[0m\u001b[0mexperimental_get_tracing_count\u001b[0m\u001b[0;34m(\u001b[0m\u001b[0;34m)\u001b[0m\u001b[0;34m\u001b[0m\u001b[0;34m\u001b[0m\u001b[0m\n",
            "\u001b[0;32m/usr/local/lib/python3.10/dist-packages/tensorflow/python/eager/polymorphic_function/polymorphic_function.py\u001b[0m in \u001b[0;36m_call\u001b[0;34m(self, *args, **kwds)\u001b[0m\n\u001b[1;32m    866\u001b[0m       \u001b[0;31m# In this case we have created variables on the first call, so we run the\u001b[0m\u001b[0;34m\u001b[0m\u001b[0;34m\u001b[0m\u001b[0m\n\u001b[1;32m    867\u001b[0m       \u001b[0;31m# defunned version which is guaranteed to never create variables.\u001b[0m\u001b[0;34m\u001b[0m\u001b[0;34m\u001b[0m\u001b[0m\n\u001b[0;32m--> 868\u001b[0;31m       return tracing_compilation.call_function(\n\u001b[0m\u001b[1;32m    869\u001b[0m           \u001b[0margs\u001b[0m\u001b[0;34m,\u001b[0m \u001b[0mkwds\u001b[0m\u001b[0;34m,\u001b[0m \u001b[0mself\u001b[0m\u001b[0;34m.\u001b[0m\u001b[0m_no_variable_creation_config\u001b[0m\u001b[0;34m\u001b[0m\u001b[0;34m\u001b[0m\u001b[0m\n\u001b[1;32m    870\u001b[0m       )\n",
            "\u001b[0;32m/usr/local/lib/python3.10/dist-packages/tensorflow/python/eager/polymorphic_function/tracing_compilation.py\u001b[0m in \u001b[0;36mcall_function\u001b[0;34m(args, kwargs, tracing_options)\u001b[0m\n\u001b[1;32m    137\u001b[0m   \u001b[0mbound_args\u001b[0m \u001b[0;34m=\u001b[0m \u001b[0mfunction\u001b[0m\u001b[0;34m.\u001b[0m\u001b[0mfunction_type\u001b[0m\u001b[0;34m.\u001b[0m\u001b[0mbind\u001b[0m\u001b[0;34m(\u001b[0m\u001b[0;34m*\u001b[0m\u001b[0margs\u001b[0m\u001b[0;34m,\u001b[0m \u001b[0;34m**\u001b[0m\u001b[0mkwargs\u001b[0m\u001b[0;34m)\u001b[0m\u001b[0;34m\u001b[0m\u001b[0;34m\u001b[0m\u001b[0m\n\u001b[1;32m    138\u001b[0m   \u001b[0mflat_inputs\u001b[0m \u001b[0;34m=\u001b[0m \u001b[0mfunction\u001b[0m\u001b[0;34m.\u001b[0m\u001b[0mfunction_type\u001b[0m\u001b[0;34m.\u001b[0m\u001b[0munpack_inputs\u001b[0m\u001b[0;34m(\u001b[0m\u001b[0mbound_args\u001b[0m\u001b[0;34m)\u001b[0m\u001b[0;34m\u001b[0m\u001b[0;34m\u001b[0m\u001b[0m\n\u001b[0;32m--> 139\u001b[0;31m   return function._call_flat(  # pylint: disable=protected-access\n\u001b[0m\u001b[1;32m    140\u001b[0m       \u001b[0mflat_inputs\u001b[0m\u001b[0;34m,\u001b[0m \u001b[0mcaptured_inputs\u001b[0m\u001b[0;34m=\u001b[0m\u001b[0mfunction\u001b[0m\u001b[0;34m.\u001b[0m\u001b[0mcaptured_inputs\u001b[0m\u001b[0;34m\u001b[0m\u001b[0;34m\u001b[0m\u001b[0m\n\u001b[1;32m    141\u001b[0m   )\n",
            "\u001b[0;32m/usr/local/lib/python3.10/dist-packages/tensorflow/python/eager/polymorphic_function/concrete_function.py\u001b[0m in \u001b[0;36m_call_flat\u001b[0;34m(self, tensor_inputs, captured_inputs)\u001b[0m\n\u001b[1;32m   1321\u001b[0m         and executing_eagerly):\n\u001b[1;32m   1322\u001b[0m       \u001b[0;31m# No tape is watching; skip to running the function.\u001b[0m\u001b[0;34m\u001b[0m\u001b[0;34m\u001b[0m\u001b[0m\n\u001b[0;32m-> 1323\u001b[0;31m       \u001b[0;32mreturn\u001b[0m \u001b[0mself\u001b[0m\u001b[0;34m.\u001b[0m\u001b[0m_inference_function\u001b[0m\u001b[0;34m.\u001b[0m\u001b[0mcall_preflattened\u001b[0m\u001b[0;34m(\u001b[0m\u001b[0margs\u001b[0m\u001b[0;34m)\u001b[0m\u001b[0;34m\u001b[0m\u001b[0;34m\u001b[0m\u001b[0m\n\u001b[0m\u001b[1;32m   1324\u001b[0m     forward_backward = self._select_forward_and_backward_functions(\n\u001b[1;32m   1325\u001b[0m         \u001b[0margs\u001b[0m\u001b[0;34m,\u001b[0m\u001b[0;34m\u001b[0m\u001b[0;34m\u001b[0m\u001b[0m\n",
            "\u001b[0;32m/usr/local/lib/python3.10/dist-packages/tensorflow/python/eager/polymorphic_function/atomic_function.py\u001b[0m in \u001b[0;36mcall_preflattened\u001b[0;34m(self, args)\u001b[0m\n\u001b[1;32m    214\u001b[0m   \u001b[0;32mdef\u001b[0m \u001b[0mcall_preflattened\u001b[0m\u001b[0;34m(\u001b[0m\u001b[0mself\u001b[0m\u001b[0;34m,\u001b[0m \u001b[0margs\u001b[0m\u001b[0;34m:\u001b[0m \u001b[0mSequence\u001b[0m\u001b[0;34m[\u001b[0m\u001b[0mcore\u001b[0m\u001b[0;34m.\u001b[0m\u001b[0mTensor\u001b[0m\u001b[0;34m]\u001b[0m\u001b[0;34m)\u001b[0m \u001b[0;34m->\u001b[0m \u001b[0mAny\u001b[0m\u001b[0;34m:\u001b[0m\u001b[0;34m\u001b[0m\u001b[0;34m\u001b[0m\u001b[0m\n\u001b[1;32m    215\u001b[0m     \u001b[0;34m\"\"\"Calls with flattened tensor inputs and returns the structured output.\"\"\"\u001b[0m\u001b[0;34m\u001b[0m\u001b[0;34m\u001b[0m\u001b[0m\n\u001b[0;32m--> 216\u001b[0;31m     \u001b[0mflat_outputs\u001b[0m \u001b[0;34m=\u001b[0m \u001b[0mself\u001b[0m\u001b[0;34m.\u001b[0m\u001b[0mcall_flat\u001b[0m\u001b[0;34m(\u001b[0m\u001b[0;34m*\u001b[0m\u001b[0margs\u001b[0m\u001b[0;34m)\u001b[0m\u001b[0;34m\u001b[0m\u001b[0;34m\u001b[0m\u001b[0m\n\u001b[0m\u001b[1;32m    217\u001b[0m     \u001b[0;32mreturn\u001b[0m \u001b[0mself\u001b[0m\u001b[0;34m.\u001b[0m\u001b[0mfunction_type\u001b[0m\u001b[0;34m.\u001b[0m\u001b[0mpack_output\u001b[0m\u001b[0;34m(\u001b[0m\u001b[0mflat_outputs\u001b[0m\u001b[0;34m)\u001b[0m\u001b[0;34m\u001b[0m\u001b[0;34m\u001b[0m\u001b[0m\n\u001b[1;32m    218\u001b[0m \u001b[0;34m\u001b[0m\u001b[0m\n",
            "\u001b[0;32m/usr/local/lib/python3.10/dist-packages/tensorflow/python/eager/polymorphic_function/atomic_function.py\u001b[0m in \u001b[0;36mcall_flat\u001b[0;34m(self, *args)\u001b[0m\n\u001b[1;32m    249\u001b[0m         \u001b[0;32mwith\u001b[0m \u001b[0mrecord\u001b[0m\u001b[0;34m.\u001b[0m\u001b[0mstop_recording\u001b[0m\u001b[0;34m(\u001b[0m\u001b[0;34m)\u001b[0m\u001b[0;34m:\u001b[0m\u001b[0;34m\u001b[0m\u001b[0;34m\u001b[0m\u001b[0m\n\u001b[1;32m    250\u001b[0m           \u001b[0;32mif\u001b[0m \u001b[0mself\u001b[0m\u001b[0;34m.\u001b[0m\u001b[0m_bound_context\u001b[0m\u001b[0;34m.\u001b[0m\u001b[0mexecuting_eagerly\u001b[0m\u001b[0;34m(\u001b[0m\u001b[0;34m)\u001b[0m\u001b[0;34m:\u001b[0m\u001b[0;34m\u001b[0m\u001b[0;34m\u001b[0m\u001b[0m\n\u001b[0;32m--> 251\u001b[0;31m             outputs = self._bound_context.call_function(\n\u001b[0m\u001b[1;32m    252\u001b[0m                 \u001b[0mself\u001b[0m\u001b[0;34m.\u001b[0m\u001b[0mname\u001b[0m\u001b[0;34m,\u001b[0m\u001b[0;34m\u001b[0m\u001b[0;34m\u001b[0m\u001b[0m\n\u001b[1;32m    253\u001b[0m                 \u001b[0mlist\u001b[0m\u001b[0;34m(\u001b[0m\u001b[0margs\u001b[0m\u001b[0;34m)\u001b[0m\u001b[0;34m,\u001b[0m\u001b[0;34m\u001b[0m\u001b[0;34m\u001b[0m\u001b[0m\n",
            "\u001b[0;32m/usr/local/lib/python3.10/dist-packages/tensorflow/python/eager/context.py\u001b[0m in \u001b[0;36mcall_function\u001b[0;34m(self, name, tensor_inputs, num_outputs)\u001b[0m\n\u001b[1;32m   1484\u001b[0m     \u001b[0mcancellation_context\u001b[0m \u001b[0;34m=\u001b[0m \u001b[0mcancellation\u001b[0m\u001b[0;34m.\u001b[0m\u001b[0mcontext\u001b[0m\u001b[0;34m(\u001b[0m\u001b[0;34m)\u001b[0m\u001b[0;34m\u001b[0m\u001b[0;34m\u001b[0m\u001b[0m\n\u001b[1;32m   1485\u001b[0m     \u001b[0;32mif\u001b[0m \u001b[0mcancellation_context\u001b[0m \u001b[0;32mis\u001b[0m \u001b[0;32mNone\u001b[0m\u001b[0;34m:\u001b[0m\u001b[0;34m\u001b[0m\u001b[0;34m\u001b[0m\u001b[0m\n\u001b[0;32m-> 1486\u001b[0;31m       outputs = execute.execute(\n\u001b[0m\u001b[1;32m   1487\u001b[0m           \u001b[0mname\u001b[0m\u001b[0;34m.\u001b[0m\u001b[0mdecode\u001b[0m\u001b[0;34m(\u001b[0m\u001b[0;34m\"utf-8\"\u001b[0m\u001b[0;34m)\u001b[0m\u001b[0;34m,\u001b[0m\u001b[0;34m\u001b[0m\u001b[0;34m\u001b[0m\u001b[0m\n\u001b[1;32m   1488\u001b[0m           \u001b[0mnum_outputs\u001b[0m\u001b[0;34m=\u001b[0m\u001b[0mnum_outputs\u001b[0m\u001b[0;34m,\u001b[0m\u001b[0;34m\u001b[0m\u001b[0;34m\u001b[0m\u001b[0m\n",
            "\u001b[0;32m/usr/local/lib/python3.10/dist-packages/tensorflow/python/eager/execute.py\u001b[0m in \u001b[0;36mquick_execute\u001b[0;34m(op_name, num_outputs, inputs, attrs, ctx, name)\u001b[0m\n\u001b[1;32m     51\u001b[0m   \u001b[0;32mtry\u001b[0m\u001b[0;34m:\u001b[0m\u001b[0;34m\u001b[0m\u001b[0;34m\u001b[0m\u001b[0m\n\u001b[1;32m     52\u001b[0m     \u001b[0mctx\u001b[0m\u001b[0;34m.\u001b[0m\u001b[0mensure_initialized\u001b[0m\u001b[0;34m(\u001b[0m\u001b[0;34m)\u001b[0m\u001b[0;34m\u001b[0m\u001b[0;34m\u001b[0m\u001b[0m\n\u001b[0;32m---> 53\u001b[0;31m     tensors = pywrap_tfe.TFE_Py_Execute(ctx._handle, device_name, op_name,\n\u001b[0m\u001b[1;32m     54\u001b[0m                                         inputs, attrs, num_outputs)\n\u001b[1;32m     55\u001b[0m   \u001b[0;32mexcept\u001b[0m \u001b[0mcore\u001b[0m\u001b[0;34m.\u001b[0m\u001b[0m_NotOkStatusException\u001b[0m \u001b[0;32mas\u001b[0m \u001b[0me\u001b[0m\u001b[0;34m:\u001b[0m\u001b[0;34m\u001b[0m\u001b[0;34m\u001b[0m\u001b[0m\n",
            "\u001b[0;31mKeyboardInterrupt\u001b[0m: "
          ]
        }
      ],
      "id": "z_fKgnylnbvQ"
    },
    {
      "cell_type": "code",
      "source": [
        "model.save('seq2seq_model.h5')"
      ],
      "metadata": {
        "papermill": {
          "duration": 1.879238,
          "end_time": "2024-03-05T00:44:37.807734",
          "exception": false,
          "start_time": "2024-03-05T00:44:35.928496",
          "status": "completed"
        },
        "tags": [],
        "id": "2b8IkxawnbvR"
      },
      "execution_count": null,
      "outputs": [],
      "id": "2b8IkxawnbvR"
    },
    {
      "cell_type": "markdown",
      "source": [
        "\n",
        "<div style=\"color:white; background-color:#5642C5; padding: 10px; border-radius: 15px; font-size: 150%; font-family: Verdana; text-align:center; -webkit-text-stroke-width: 1px; -webkit-text-stroke-color: black; text-shadow: 2px 2px 4px rgba(0, 0, 0, 0.7);\">\n",
        "    Model Training Graph\n",
        "</div>"
      ],
      "metadata": {
        "papermill": {
          "duration": 1.170064,
          "end_time": "2024-03-05T00:44:40.093197",
          "exception": false,
          "start_time": "2024-03-05T00:44:38.923133",
          "status": "completed"
        },
        "tags": [],
        "id": "u_0Yt0YvnbvR"
      },
      "id": "u_0Yt0YvnbvR"
    },
    {
      "cell_type": "code",
      "source": [
        "plt.plot(history.history['loss'])\n",
        "plt.plot(history.history['val_loss'])\n",
        "plt.title('Model loss')\n",
        "plt.ylabel('Loss')\n",
        "plt.xlabel('Epoch')\n",
        "plt.legend(['Train', 'Validation'], loc='upper left')\n",
        "plt.show()"
      ],
      "metadata": {
        "papermill": {
          "duration": 1.452195,
          "end_time": "2024-03-05T00:44:42.625136",
          "exception": false,
          "start_time": "2024-03-05T00:44:41.172941",
          "status": "completed"
        },
        "tags": [],
        "id": "N-OIdqujnbvR"
      },
      "execution_count": null,
      "outputs": [],
      "id": "N-OIdqujnbvR"
    },
    {
      "cell_type": "code",
      "source": [
        "plt.plot(history.history['accuracy'])\n",
        "plt.plot(history.history['val_accuracy'])\n",
        "plt.title('Model Accuracy')\n",
        "plt.ylabel('Accuracy')\n",
        "plt.xlabel('Epoch')\n",
        "plt.legend(['Train', 'Validation'], loc='upper left')\n",
        "plt.show()"
      ],
      "metadata": {
        "papermill": {
          "duration": 1.312108,
          "end_time": "2024-03-05T00:44:45.012683",
          "exception": false,
          "start_time": "2024-03-05T00:44:43.700575",
          "status": "completed"
        },
        "tags": [],
        "id": "6bVJgriNnbvR"
      },
      "execution_count": null,
      "outputs": [],
      "id": "6bVJgriNnbvR"
    },
    {
      "cell_type": "markdown",
      "source": [
        "\n",
        "<div style=\"color:white; background-color:#5642C5; padding: 10px; border-radius: 15px; font-size: 150%; font-family: Verdana; text-align:center; -webkit-text-stroke-width: 1px; -webkit-text-stroke-color: black; text-shadow: 2px 2px 4px rgba(0, 0, 0, 0.7);\">\n",
        "    Prediction\n",
        "</div>"
      ],
      "metadata": {
        "papermill": {
          "duration": 1.155945,
          "end_time": "2024-03-05T00:44:47.25417",
          "exception": false,
          "start_time": "2024-03-05T00:44:46.098225",
          "status": "completed"
        },
        "tags": [],
        "id": "wtJln55OnbvR"
      },
      "id": "wtJln55OnbvR"
    },
    {
      "cell_type": "code",
      "source": [
        "# Import necessary libraries\n",
        "import numpy as np\n",
        "\n",
        "# Define the indices_to_text function\n",
        "def indices_to_text(indices, tokenizer):\n",
        "    sentence = \"\"\n",
        "    for idx in indices:\n",
        "        if idx == 0:\n",
        "            continue\n",
        "        word = tokenizer.index_word.get(idx, '<UNK>')\n",
        "        sentence += word + \" \"\n",
        "    return sentence.strip()\n",
        "\n",
        "# Define batch size for prediction\n",
        "batch_size = 16  # You can adjust this value according to available memory\n",
        "\n",
        "# Initialize list to store predicted sentences\n",
        "predicted_sentences = []\n",
        "\n",
        "# Iterate through the test data in batches\n",
        "for i in range(0, len(x_test_main), batch_size):\n",
        "    # Get a batch of test data\n",
        "    x_batch = x_test_main[i:i+batch_size]\n",
        "    y_batch = y_test_main[i:i+batch_size, :-1]\n",
        "\n",
        "    # Perform prediction on the batch\n",
        "    predictions = model.predict([x_batch, y_batch])\n",
        "\n",
        "    # Process predictions and convert indices to text\n",
        "    for prediction in predictions:\n",
        "        predicted_sentence = indices_to_text(np.argmax(prediction, axis=1), tok_hindi)  # Assuming tokenizer_hindi is the tokenizer used for Hindi\n",
        "        predicted_sentences.append(predicted_sentence)\n",
        "\n",
        "# Print predicted sentences\n",
        "for i, sentence in enumerate(predicted_sentences):\n",
        "    print(\"Predicted sentence\", i+1, \":\", sentence)\n"
      ],
      "metadata": {
        "papermill": {
          "duration": 2.325258,
          "end_time": "2024-03-05T00:44:50.670609",
          "exception": true,
          "start_time": "2024-03-05T00:44:48.345351",
          "status": "failed"
        },
        "tags": [],
        "id": "0g6_1sT2nbvR"
      },
      "execution_count": null,
      "outputs": [],
      "id": "0g6_1sT2nbvR"
    },
    {
      "cell_type": "code",
      "source": [
        "from nltk.translate.bleu_score import corpus_bleu\n",
        "\n",
        "# Convert numpy arrays to lists of strings\n",
        "actual_sentences = [indices_to_text(sentence, tok_hindi) for sentence in y_test_main]\n",
        "predicted_sentences = [sentence for sentence in predicted_sentences]\n",
        "\n",
        "# Tokenize actual target sentences\n",
        "actual_tokenized = [sentence.split() for sentence in actual_sentences]\n",
        "\n",
        "# Tokenize predicted sentences\n",
        "predicted_tokenized = [sentence.split() for sentence in predicted_sentences]\n",
        "\n",
        "from nltk.translate.bleu_score import corpus_bleu, SmoothingFunction\n",
        "smoother = SmoothingFunction().method1\n",
        "bleu_score = corpus_bleu(actual_tokenized, predicted_tokenized, smoothing_function=smoother)\n",
        "\n",
        "# Print BLEU score\n",
        "print(\"BLEU Score:\", bleu_score)\n"
      ],
      "metadata": {
        "id": "kaQDZG-CGoJw"
      },
      "id": "kaQDZG-CGoJw",
      "execution_count": null,
      "outputs": []
    },
    {
      "cell_type": "code",
      "source": [],
      "metadata": {
        "id": "IjnFtBbDF9t-"
      },
      "id": "IjnFtBbDF9t-",
      "execution_count": null,
      "outputs": []
    }
  ]
}