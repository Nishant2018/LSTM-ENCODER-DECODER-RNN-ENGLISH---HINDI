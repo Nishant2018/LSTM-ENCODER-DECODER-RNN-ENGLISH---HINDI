{
 "cells": [
  {
   "cell_type": "markdown",
   "id": "024559ea",
   "metadata": {
    "papermill": {
     "duration": 0.021823,
     "end_time": "2024-03-07T19:44:24.196040",
     "exception": false,
     "start_time": "2024-03-07T19:44:24.174217",
     "status": "completed"
    },
    "tags": []
   },
   "source": [
    "\n",
    "<div style=\"color:white; background-color:#5642C5; padding: 10px; border-radius: 15px; font-size: 150%; font-family: Verdana; text-align:center; -webkit-text-stroke-width: 1px; -webkit-text-stroke-color: black; text-shadow: 2px 2px 4px rgba(0, 0, 0, 0.7);\">\n",
    "     English To Hindi (LSTM || Encoder Decoder)\n",
    "</div>"
   ]
  },
  {
   "cell_type": "markdown",
   "id": "2333ef73",
   "metadata": {
    "papermill": {
     "duration": 0.02202,
     "end_time": "2024-03-07T19:44:24.239276",
     "exception": false,
     "start_time": "2024-03-07T19:44:24.217256",
     "status": "completed"
    },
    "tags": []
   },
   "source": [
    "![](https://miro.medium.com/v2/resize:fit:1400/1*4OqZzRMNB7F5ixe3PDgB-Q.jpeg)"
   ]
  },
  {
   "cell_type": "markdown",
   "id": "13013164",
   "metadata": {
    "papermill": {
     "duration": 0.021686,
     "end_time": "2024-03-07T19:44:24.282606",
     "exception": false,
     "start_time": "2024-03-07T19:44:24.260920",
     "status": "completed"
    },
    "tags": []
   },
   "source": [
    "\n",
    "<div style=\"color:white; background-color:#5642C5; padding: 10px; border-radius: 15px; font-size: 150%; font-family: Verdana; text-align:center; -webkit-text-stroke-width: 1px; -webkit-text-stroke-color: black; text-shadow: 2px 2px 4px rgba(0, 0, 0, 0.7);\">\n",
    "     Ecoder Decoder Model Sample\n",
    "</div>"
   ]
  },
  {
   "cell_type": "markdown",
   "id": "5d89930c",
   "metadata": {
    "papermill": {
     "duration": 0.020907,
     "end_time": "2024-03-07T19:44:24.325153",
     "exception": false,
     "start_time": "2024-03-07T19:44:24.304246",
     "status": "completed"
    },
    "tags": []
   },
   "source": [
    "![Encoder](https://substackcdn.com/image/fetch/f_auto,q_auto:good,fl_progressive:steep/https%3A%2F%2Fsubstack-post-media.s3.amazonaws.com%2Fpublic%2Fimages%2Fe35687cc-a0b6-4838-ae2d-ced30f8416e0_2826x1272.png)"
   ]
  },
  {
   "cell_type": "markdown",
   "id": "0d61026e",
   "metadata": {
    "papermill": {
     "duration": 0.020131,
     "end_time": "2024-03-07T19:44:24.366332",
     "exception": false,
     "start_time": "2024-03-07T19:44:24.346201",
     "status": "completed"
    },
    "tags": []
   },
   "source": [
    "\n",
    "### Encoder-Decoder Architecture in RNNs:\n",
    "- **Architecture**: \n",
    "  - Comprises two RNNs: an Encoder and a Decoder.\n",
    "  - Encoder processes the input sequence and converts it into a fixed-size context vector.\n",
    "  - Decoder takes this context vector and generates the output sequence step by step.\n",
    "\n",
    "- **Encoder**:\n",
    "  - Takes input sequence one token at a time.\n",
    "  - Outputs a context vector summarizing the input sequence.\n",
    "  - Can use various RNN variants like LSTM or GRU.\n",
    "\n",
    "- **Decoder**:\n",
    "  - Takes the context vector from the Encoder and generates the output sequence.\n",
    "  - Processes the output sequence step by step, incorporating information from the context vector.\n",
    "  - Can have a different architecture from the Encoder, but typically uses the same RNN variant.\n",
    "\n",
    "- **Training**:\n",
    "  - During training, both Encoder and Decoder are jointly trained using teacher forcing.\n",
    "  - Teacher forcing involves providing the correct previous target token as input to the Decoder at each step.\n",
    "\n",
    "- **Inference**:\n",
    "  - During inference, the Encoder processes the input sequence to obtain the context vector.\n",
    "  - The Decoder generates the output sequence one token at a time based on the context vector and previously generated tokens.\n"
   ]
  },
  {
   "cell_type": "markdown",
   "id": "99a2b98a",
   "metadata": {
    "papermill": {
     "duration": 0.021013,
     "end_time": "2024-03-07T19:44:24.407308",
     "exception": false,
     "start_time": "2024-03-07T19:44:24.386295",
     "status": "completed"
    },
    "tags": []
   },
   "source": [
    "\n",
    "<div style=\"color:white; background-color:#5642C5; padding: 10px; border-radius: 15px; font-size: 150%; font-family: Verdana; text-align:center; -webkit-text-stroke-width: 1px; -webkit-text-stroke-color: black; text-shadow: 2px 2px 4px rgba(0, 0, 0, 0.7);\">\n",
    "     Seq2Seq\n",
    "</div>"
   ]
  },
  {
   "cell_type": "markdown",
   "id": "2fe5f219",
   "metadata": {
    "papermill": {
     "duration": 0.019563,
     "end_time": "2024-03-07T19:44:24.446700",
     "exception": false,
     "start_time": "2024-03-07T19:44:24.427137",
     "status": "completed"
    },
    "tags": []
   },
   "source": [
    "![Seq2Seq](https://classic.d2l.ai/_images/seq2seq.svg)"
   ]
  },
  {
   "cell_type": "markdown",
   "id": "e0a50d1f",
   "metadata": {
    "papermill": {
     "duration": 0.021002,
     "end_time": "2024-03-07T19:44:24.488336",
     "exception": false,
     "start_time": "2024-03-07T19:44:24.467334",
     "status": "completed"
    },
    "tags": []
   },
   "source": [
    "### Sequence-to-Sequence (seq2seq) Models:\n",
    "- **Objective**:\n",
    "  - Designed for tasks involving variable-length input and output sequences.\n",
    "  - Examples include machine translation, text summarization, and question answering.\n",
    "\n",
    "- **Input-Output Mapping**:\n",
    "  - Maps an input sequence to an output sequence.\n",
    "  - Both input and output sequences can have varying lengths.\n",
    "\n",
    "- **Flexibility**:\n",
    "  - Allows handling tasks where the length of the input sequence is different from the length of the output sequence.\n",
    "\n",
    "- **Encoder-Decoder Paradigm**:\n",
    "  - seq2seq models typically employ an Encoder-Decoder architecture.\n",
    "  - Encoder processes the input sequence, capturing its meaning.\n",
    "  - Decoder generates the output sequence based on the context provided by the Encoder.\n",
    "\n",
    "- **Applications**:\n",
    "  - Used in various natural language processing tasks such as machine translation, text summarization, and dialogue generation.\n",
    "  - Also applicable in tasks like time series prediction and speech recognition.\n",
    "\n",
    "- **Attention Mechanism**:\n",
    "  - Often enhanced with attention mechanisms to improve performance.\n",
    "  - Attention allows the model to focus on different parts of the input sequence dynamically while generating the output sequence.\n",
    "\n",
    "- **Training**:\n",
    "  - Trained end-to-end using backpropagation with teacher forcing during training.\n",
    "  - Parameters are optimized to minimize a suitable loss function such as cross-entropy loss.\n",
    "\n",
    "- **Evaluation**:\n",
    "  - Evaluated based on metrics specific to the task, such as BLEU score for machine translation or ROUGE score for text summarization.\n"
   ]
  },
  {
   "cell_type": "markdown",
   "id": "b28982ba",
   "metadata": {
    "papermill": {
     "duration": 0.020837,
     "end_time": "2024-03-07T19:44:24.530904",
     "exception": false,
     "start_time": "2024-03-07T19:44:24.510067",
     "status": "completed"
    },
    "tags": []
   },
   "source": [
    "\n",
    "<div style=\"color:white; background-color:#5642C5; padding: 10px; border-radius: 15px; font-size: 150%; font-family: Verdana; text-align:center; -webkit-text-stroke-width: 1px; -webkit-text-stroke-color: black; text-shadow: 2px 2px 4px rgba(0, 0, 0, 0.7);\">\n",
    "     Steps (Preprocessing -> Model Creation)\n",
    "</div>"
   ]
  },
  {
   "cell_type": "markdown",
   "id": "1b41e783",
   "metadata": {
    "papermill": {
     "duration": 0.021688,
     "end_time": "2024-03-07T19:44:24.574206",
     "exception": false,
     "start_time": "2024-03-07T19:44:24.552518",
     "status": "completed"
    },
    "tags": []
   },
   "source": [
    "Certainly! Here are the steps for English to Hindi conversion using encoder-decoder in RNN:\n",
    "\n",
    "1. **Data Collection**:\n",
    "   - Gather parallel text data consisting of English sentences paired with their corresponding Hindi translations. Sources can include translated literature, bilingual websites, language corpora, or user-generated content.\n",
    "\n",
    "2. **Data Preprocessing**:\n",
    "   - **Text Cleaning**:\n",
    "     - Remove noise such as special characters, punctuation, HTML tags, and URLs from both English and Hindi text data.\n",
    "   - **Tokenization**:\n",
    "     - Split the text into individual words or tokens for both English and Hindi sentences.\n",
    "   - **Lowercasing**:\n",
    "     - Convert all text to lowercase for both languages to ensure consistency.\n",
    "   - **Handling Special Characters**:\n",
    "     - Handle special characters unique to Hindi script, such as consonant-vowel combinations.\n",
    "   - **Padding**:\n",
    "     - Ensure that all sequences have the same length by padding shorter sequences with a special token.\n",
    "\n",
    "3. **Feature Extraction**:\n",
    "   - **Word Embeddings**:\n",
    "     - Convert words in both English and Hindi sentences into dense vector representations using pre-trained word embeddings like Word2Vec or GloVe.\n",
    "   - **Sequence Representation**:\n",
    "     - Represent each sequence of words in both English and Hindi sentences as numerical vectors.\n",
    "\n",
    "4. **Model Architecture**:\n",
    "   - **Encoder-Decoder Architecture**:\n",
    "     - Implement an encoder-decoder architecture using Recurrent Neural Networks (RNNs) or Long Short-Term Memory (LSTM) networks.\n",
    "     - The encoder processes the input English sentence and encodes its meaning into a fixed-length context vector.\n",
    "     - The decoder then uses this context vector to generate the corresponding Hindi translation word by word.\n",
    "\n",
    "5. **Training the Model**:\n",
    "   - **Data Splitting**:\n",
    "     - Split the parallel text data into training, validation, and test sets.\n",
    "   - **Loss Function**:\n",
    "     - Define a suitable loss function such as categorical cross-entropy to measure the difference between the predicted and actual Hindi translations.\n",
    "   - **Optimizer**:\n",
    "     - Select an optimizer like Adam or RMSprop to minimize the loss during training.\n",
    "   - **Training**:\n",
    "     - Train the encoder-decoder model on the training data, adjusting the model's parameters to minimize the loss on the validation set.\n",
    "\n",
    "6. **Model Evaluation**:\n",
    "   - **Performance Metrics**:\n",
    "     - Evaluate the model's performance on the test set using metrics such as BLEU score, accuracy, or perplexity.\n",
    "     - BLEU score measures the similarity between the predicted and reference Hindi translations.\n",
    "\n",
    "7. **Inference**:\n",
    "   - **Prediction**:\n",
    "     - Use the trained encoder-decoder model to translate English sentences into Hindi by feeding them through the encoder and decoding the output using the decoder.\n",
    "\n",
    "8. **Post-Processing**:\n",
    "   - **Decoding**:\n",
    "     - Decode the numerical representations of Hindi words back into their textual form.\n",
    "   - **Visualization**:\n",
    "     - Visualize the translated Hindi sentences alongside their original English counterparts for inspection and validation.\n",
    "\n",
    "9. **Model Fine-Tuning (Optional)**:\n",
    "   - Fine-tune the encoder-decoder model based on feedback or additional data to improve translation accuracy.\n",
    "\n",
    "10. **Deployment**:\n",
    "   - Deploy the trained English to Hindi translation model for use in applications requiring real-time or batch translation services.\n",
    "\n",
    "11. **Monitoring and Maintenance**:\n",
    "   - Monitor the model's performance in production and update it as needed to adapt to changing language patterns or requirements."
   ]
  },
  {
   "cell_type": "markdown",
   "id": "c0f8d607",
   "metadata": {
    "papermill": {
     "duration": 0.020856,
     "end_time": "2024-03-07T19:44:24.616021",
     "exception": false,
     "start_time": "2024-03-07T19:44:24.595165",
     "status": "completed"
    },
    "tags": []
   },
   "source": [
    "\n",
    "<div style=\"color:white; background-color:#5642C5; padding: 10px; border-radius: 15px; font-size: 150%; font-family: Verdana; text-align:center; -webkit-text-stroke-width: 1px; -webkit-text-stroke-color: black; text-shadow: 2px 2px 4px rgba(0, 0, 0, 0.7);\">\n",
    "    Importing Libraries\n",
    "</div>"
   ]
  },
  {
   "cell_type": "code",
   "execution_count": 1,
   "id": "c153add7",
   "metadata": {
    "execution": {
     "iopub.execute_input": "2024-03-07T19:44:24.661027Z",
     "iopub.status.busy": "2024-03-07T19:44:24.660621Z",
     "iopub.status.idle": "2024-03-07T19:44:42.173416Z",
     "shell.execute_reply": "2024-03-07T19:44:42.172286Z"
    },
    "papermill": {
     "duration": 17.539533,
     "end_time": "2024-03-07T19:44:42.176023",
     "exception": false,
     "start_time": "2024-03-07T19:44:24.636490",
     "status": "completed"
    },
    "tags": []
   },
   "outputs": [
    {
     "name": "stdout",
     "output_type": "stream",
     "text": [
      "Collecting contractions\r\n",
      "  Downloading contractions-0.1.73-py2.py3-none-any.whl.metadata (1.2 kB)\r\n",
      "Collecting textsearch>=0.0.21 (from contractions)\r\n",
      "  Downloading textsearch-0.0.24-py2.py3-none-any.whl.metadata (1.2 kB)\r\n",
      "Collecting anyascii (from textsearch>=0.0.21->contractions)\r\n",
      "  Downloading anyascii-0.3.2-py3-none-any.whl.metadata (1.5 kB)\r\n",
      "Collecting pyahocorasick (from textsearch>=0.0.21->contractions)\r\n",
      "  Downloading pyahocorasick-2.0.0-cp310-cp310-manylinux_2_5_x86_64.manylinux1_x86_64.manylinux_2_12_x86_64.manylinux2010_x86_64.whl.metadata (13 kB)\r\n",
      "Downloading contractions-0.1.73-py2.py3-none-any.whl (8.7 kB)\r\n",
      "Downloading textsearch-0.0.24-py2.py3-none-any.whl (7.6 kB)\r\n",
      "Downloading anyascii-0.3.2-py3-none-any.whl (289 kB)\r\n",
      "\u001b[2K   \u001b[90m━━━━━━━━━━━━━━━━━━━━━━━━━━━━━━━━━━━━━━━━\u001b[0m \u001b[32m289.9/289.9 kB\u001b[0m \u001b[31m2.3 MB/s\u001b[0m eta \u001b[36m0:00:00\u001b[0m\r\n",
      "\u001b[?25hDownloading pyahocorasick-2.0.0-cp310-cp310-manylinux_2_5_x86_64.manylinux1_x86_64.manylinux_2_12_x86_64.manylinux2010_x86_64.whl (110 kB)\r\n",
      "\u001b[2K   \u001b[90m━━━━━━━━━━━━━━━━━━━━━━━━━━━━━━━━━━━━━━━━\u001b[0m \u001b[32m110.8/110.8 kB\u001b[0m \u001b[31m4.2 MB/s\u001b[0m eta \u001b[36m0:00:00\u001b[0m\r\n",
      "\u001b[?25hInstalling collected packages: pyahocorasick, anyascii, textsearch, contractions\r\n",
      "Successfully installed anyascii-0.3.2 contractions-0.1.73 pyahocorasick-2.0.0 textsearch-0.0.24\r\n"
     ]
    }
   ],
   "source": [
    "!pip install contractions"
   ]
  },
  {
   "cell_type": "code",
   "execution_count": 2,
   "id": "768402ee",
   "metadata": {
    "_cell_guid": "b1076dfc-b9ad-4769-8c92-a6c4dae69d19",
    "_uuid": "8f2839f25d086af736a60e9eeb907d3b93b6e0e5",
    "execution": {
     "iopub.execute_input": "2024-03-07T19:44:42.224732Z",
     "iopub.status.busy": "2024-03-07T19:44:42.224387Z",
     "iopub.status.idle": "2024-03-07T19:45:18.572207Z",
     "shell.execute_reply": "2024-03-07T19:45:18.571219Z"
    },
    "papermill": {
     "duration": 36.397019,
     "end_time": "2024-03-07T19:45:18.596763",
     "exception": false,
     "start_time": "2024-03-07T19:44:42.199744",
     "status": "completed"
    },
    "tags": []
   },
   "outputs": [
    {
     "name": "stderr",
     "output_type": "stream",
     "text": [
      "2024-03-07 19:44:49.789290: E external/local_xla/xla/stream_executor/cuda/cuda_dnn.cc:9261] Unable to register cuDNN factory: Attempting to register factory for plugin cuDNN when one has already been registered\n",
      "2024-03-07 19:44:49.789446: E external/local_xla/xla/stream_executor/cuda/cuda_fft.cc:607] Unable to register cuFFT factory: Attempting to register factory for plugin cuFFT when one has already been registered\n",
      "2024-03-07 19:44:50.073229: E external/local_xla/xla/stream_executor/cuda/cuda_blas.cc:1515] Unable to register cuBLAS factory: Attempting to register factory for plugin cuBLAS when one has already been registered\n"
     ]
    },
    {
     "name": "stdout",
     "output_type": "stream",
     "text": [
      "/kaggle/input/english-hindi-dataset/Dataset_English_Hindi.csv\n",
      "/kaggle/input/ttf-file/Kruti_Dev_010.ttf\n"
     ]
    }
   ],
   "source": [
    "# This Python 3 environment comes with many helpful analytics libraries installed\n",
    "# It is defined by the kaggle/python Docker image: https://github.com/kaggle/docker-python\n",
    "# For example, here's several helpful packages to load\n",
    "import re\n",
    "import nltk\n",
    "from nltk.tokenize import word_tokenize,sent_tokenize\n",
    "from nltk.corpus import indian\n",
    "from nltk.stem.porter import PorterStemmer\n",
    "from wordcloud import WordCloud\n",
    "import matplotlib.pyplot as plt\n",
    "import unicodedata\n",
    "from keras.models import Sequential,Model\n",
    "from keras.layers import Input,Embedding, LSTM, Dense\n",
    "from tensorflow.keras.preprocessing.text import Tokenizer\n",
    "from sklearn.model_selection import train_test_split\n",
    "from tensorflow.keras.preprocessing.sequence import pad_sequences\n",
    "import string\n",
    "import spacy\n",
    "import contractions\n",
    "from nltk.corpus import stopwords\n",
    "import numpy as np # linear algebra\n",
    "import pandas as pd # data processing, CSV file I/O (e.g. pd.read_csv)\n",
    "\n",
    "# Input data files are available in the read-only \"../input/\" directory\n",
    "# For example, running this (by clicking run or pressing Shift+Enter) will list all files under the input directory\n",
    "\n",
    "import os\n",
    "for dirname, _, filenames in os.walk('/kaggle/input'):\n",
    "    for filename in filenames:\n",
    "        print(os.path.join(dirname, filename))\n",
    "\n",
    "# You can write up to 20GB to the current directory (/kaggle/working/) that gets preserved as output when you create a version using \"Save & Run All\" \n",
    "# You can also write temporary files to /kaggle/temp/, but they won't be saved outside of the current session"
   ]
  },
  {
   "cell_type": "markdown",
   "id": "a3a5599f",
   "metadata": {
    "papermill": {
     "duration": 0.021866,
     "end_time": "2024-03-07T19:45:18.642060",
     "exception": false,
     "start_time": "2024-03-07T19:45:18.620194",
     "status": "completed"
    },
    "tags": []
   },
   "source": [
    "\n",
    "<div style=\"color:white; background-color:#5642C5; padding: 10px; border-radius: 15px; font-size: 150%; font-family: Verdana; text-align:center; -webkit-text-stroke-width: 1px; -webkit-text-stroke-color: black; text-shadow: 2px 2px 4px rgba(0, 0, 0, 0.7);\">\n",
    "    Reading the Data \n",
    "</div>"
   ]
  },
  {
   "cell_type": "code",
   "execution_count": 3,
   "id": "66f51428",
   "metadata": {
    "execution": {
     "iopub.execute_input": "2024-03-07T19:45:18.688145Z",
     "iopub.status.busy": "2024-03-07T19:45:18.687496Z",
     "iopub.status.idle": "2024-03-07T19:45:20.000924Z",
     "shell.execute_reply": "2024-03-07T19:45:19.999850Z"
    },
    "papermill": {
     "duration": 1.339395,
     "end_time": "2024-03-07T19:45:20.003436",
     "exception": false,
     "start_time": "2024-03-07T19:45:18.664041",
     "status": "completed"
    },
    "tags": []
   },
   "outputs": [],
   "source": [
    "data = pd.read_csv('/kaggle/input/english-hindi-dataset/Dataset_English_Hindi.csv')"
   ]
  },
  {
   "cell_type": "markdown",
   "id": "39c7e8ad",
   "metadata": {
    "papermill": {
     "duration": 0.022967,
     "end_time": "2024-03-07T19:45:20.049829",
     "exception": false,
     "start_time": "2024-03-07T19:45:20.026862",
     "status": "completed"
    },
    "tags": []
   },
   "source": [
    "\n",
    "<div style=\"color:white; background-color:#5642C5; padding: 10px; border-radius: 15px; font-size: 150%; font-family: Verdana; text-align:center; -webkit-text-stroke-width: 1px; -webkit-text-stroke-color: black; text-shadow: 2px 2px 4px rgba(0, 0, 0, 0.7);\">\n",
    "    English-Hindi Sample Data \n",
    "</div>"
   ]
  },
  {
   "cell_type": "code",
   "execution_count": 4,
   "id": "4bacf64d",
   "metadata": {
    "execution": {
     "iopub.execute_input": "2024-03-07T19:45:20.138943Z",
     "iopub.status.busy": "2024-03-07T19:45:20.138543Z",
     "iopub.status.idle": "2024-03-07T19:45:20.165476Z",
     "shell.execute_reply": "2024-03-07T19:45:20.164431Z"
    },
    "papermill": {
     "duration": 0.094799,
     "end_time": "2024-03-07T19:45:20.167810",
     "exception": false,
     "start_time": "2024-03-07T19:45:20.073011",
     "status": "completed"
    },
    "tags": []
   },
   "outputs": [
    {
     "data": {
      "text/html": [
       "<div>\n",
       "<style scoped>\n",
       "    .dataframe tbody tr th:only-of-type {\n",
       "        vertical-align: middle;\n",
       "    }\n",
       "\n",
       "    .dataframe tbody tr th {\n",
       "        vertical-align: top;\n",
       "    }\n",
       "\n",
       "    .dataframe thead th {\n",
       "        text-align: right;\n",
       "    }\n",
       "</style>\n",
       "<table border=\"1\" class=\"dataframe\">\n",
       "  <thead>\n",
       "    <tr style=\"text-align: right;\">\n",
       "      <th></th>\n",
       "      <th>English</th>\n",
       "      <th>Hindi</th>\n",
       "    </tr>\n",
       "  </thead>\n",
       "  <tbody>\n",
       "    <tr>\n",
       "      <th>46658</th>\n",
       "      <td>And this is happening more and more.</td>\n",
       "      <td>यह सब और भी ज्यादा हो रहा है.</td>\n",
       "    </tr>\n",
       "    <tr>\n",
       "      <th>47066</th>\n",
       "      <td>to the second son, he left a third of the camels;</td>\n",
       "      <td>दूसरे के लिये, एक तिहाई;</td>\n",
       "    </tr>\n",
       "    <tr>\n",
       "      <th>40385</th>\n",
       "      <td>No machines have been developed.</td>\n",
       "      <td>कोई मशीन नहीं बनाई गयी है इस काम के लिये ।</td>\n",
       "    </tr>\n",
       "    <tr>\n",
       "      <th>87539</th>\n",
       "      <td>It is reported that the doubling of chlorofluo...</td>\n",
       "      <td>ऐसी बताया गया है कि यदि क्लोरोफ्लोरोकार्बन की ...</td>\n",
       "    </tr>\n",
       "    <tr>\n",
       "      <th>78857</th>\n",
       "      <td>is, first of all, talk about why we get stuck</td>\n",
       "      <td>की सब से पहले बात करू इस बारे में की हम अटक क्...</td>\n",
       "    </tr>\n",
       "  </tbody>\n",
       "</table>\n",
       "</div>"
      ],
      "text/plain": [
       "                                                 English  \\\n",
       "46658               And this is happening more and more.   \n",
       "47066  to the second son, he left a third of the camels;   \n",
       "40385                   No machines have been developed.   \n",
       "87539  It is reported that the doubling of chlorofluo...   \n",
       "78857      is, first of all, talk about why we get stuck   \n",
       "\n",
       "                                                   Hindi  \n",
       "46658                      यह सब और भी ज्यादा हो रहा है.  \n",
       "47066                           दूसरे के लिये, एक तिहाई;  \n",
       "40385         कोई मशीन नहीं बनाई गयी है इस काम के लिये ।  \n",
       "87539  ऐसी बताया गया है कि यदि क्लोरोफ्लोरोकार्बन की ...  \n",
       "78857  की सब से पहले बात करू इस बारे में की हम अटक क्...  "
      ]
     },
     "execution_count": 4,
     "metadata": {},
     "output_type": "execute_result"
    }
   ],
   "source": [
    "data.sample(5)"
   ]
  },
  {
   "cell_type": "markdown",
   "id": "849cd5c2",
   "metadata": {
    "papermill": {
     "duration": 0.023585,
     "end_time": "2024-03-07T19:45:20.215730",
     "exception": false,
     "start_time": "2024-03-07T19:45:20.192145",
     "status": "completed"
    },
    "tags": []
   },
   "source": [
    "\n",
    "<div style=\"color:white; background-color:#5642C5; padding: 10px; border-radius: 15px; font-size: 150%; font-family: Verdana; text-align:center; -webkit-text-stroke-width: 1px; -webkit-text-stroke-color: black; text-shadow: 2px 2px 4px rgba(0, 0, 0, 0.7);\">\n",
    "    Data Preprocessing \n",
    "</div>"
   ]
  },
  {
   "cell_type": "markdown",
   "id": "e98ae5a1",
   "metadata": {
    "papermill": {
     "duration": 0.024675,
     "end_time": "2024-03-07T19:45:20.264824",
     "exception": false,
     "start_time": "2024-03-07T19:45:20.240149",
     "status": "completed"
    },
    "tags": []
   },
   "source": [
    "* Null Value Checking and Removing"
   ]
  },
  {
   "cell_type": "code",
   "execution_count": 5,
   "id": "21383d38",
   "metadata": {
    "execution": {
     "iopub.execute_input": "2024-03-07T19:45:20.316709Z",
     "iopub.status.busy": "2024-03-07T19:45:20.315889Z",
     "iopub.status.idle": "2024-03-07T19:45:20.361404Z",
     "shell.execute_reply": "2024-03-07T19:45:20.360260Z"
    },
    "papermill": {
     "duration": 0.073933,
     "end_time": "2024-03-07T19:45:20.363603",
     "exception": false,
     "start_time": "2024-03-07T19:45:20.289670",
     "status": "completed"
    },
    "tags": []
   },
   "outputs": [
    {
     "data": {
      "text/plain": [
       "English      2\n",
       "Hindi      312\n",
       "dtype: int64"
      ]
     },
     "execution_count": 5,
     "metadata": {},
     "output_type": "execute_result"
    }
   ],
   "source": [
    "data.isnull().sum()"
   ]
  },
  {
   "cell_type": "code",
   "execution_count": 6,
   "id": "6c22b19e",
   "metadata": {
    "execution": {
     "iopub.execute_input": "2024-03-07T19:45:20.415794Z",
     "iopub.status.busy": "2024-03-07T19:45:20.415424Z",
     "iopub.status.idle": "2024-03-07T19:45:20.468710Z",
     "shell.execute_reply": "2024-03-07T19:45:20.467887Z"
    },
    "papermill": {
     "duration": 0.082261,
     "end_time": "2024-03-07T19:45:20.470962",
     "exception": false,
     "start_time": "2024-03-07T19:45:20.388701",
     "status": "completed"
    },
    "tags": []
   },
   "outputs": [],
   "source": [
    "data.dropna(inplace = True )"
   ]
  },
  {
   "cell_type": "markdown",
   "id": "8fe1eadf",
   "metadata": {
    "papermill": {
     "duration": 0.023826,
     "end_time": "2024-03-07T19:45:20.519401",
     "exception": false,
     "start_time": "2024-03-07T19:45:20.495575",
     "status": "completed"
    },
    "tags": []
   },
   "source": [
    "* LOWERCASING"
   ]
  },
  {
   "cell_type": "code",
   "execution_count": 7,
   "id": "72d348f2",
   "metadata": {
    "execution": {
     "iopub.execute_input": "2024-03-07T19:45:20.567765Z",
     "iopub.status.busy": "2024-03-07T19:45:20.566816Z",
     "iopub.status.idle": "2024-03-07T19:45:20.638784Z",
     "shell.execute_reply": "2024-03-07T19:45:20.637699Z"
    },
    "papermill": {
     "duration": 0.098743,
     "end_time": "2024-03-07T19:45:20.641153",
     "exception": false,
     "start_time": "2024-03-07T19:45:20.542410",
     "status": "completed"
    },
    "tags": []
   },
   "outputs": [],
   "source": [
    "data['English'] = data['English'].str.lower()"
   ]
  },
  {
   "cell_type": "markdown",
   "id": "7aff20a5",
   "metadata": {
    "papermill": {
     "duration": 0.022742,
     "end_time": "2024-03-07T19:45:20.687505",
     "exception": false,
     "start_time": "2024-03-07T19:45:20.664763",
     "status": "completed"
    },
    "tags": []
   },
   "source": [
    "* Removing HTML Tags"
   ]
  },
  {
   "cell_type": "code",
   "execution_count": 8,
   "id": "186b5b99",
   "metadata": {
    "execution": {
     "iopub.execute_input": "2024-03-07T19:45:20.736369Z",
     "iopub.status.busy": "2024-03-07T19:45:20.735973Z",
     "iopub.status.idle": "2024-03-07T19:45:21.182570Z",
     "shell.execute_reply": "2024-03-07T19:45:21.181731Z"
    },
    "papermill": {
     "duration": 0.473519,
     "end_time": "2024-03-07T19:45:21.185043",
     "exception": false,
     "start_time": "2024-03-07T19:45:20.711524",
     "status": "completed"
    },
    "tags": []
   },
   "outputs": [],
   "source": [
    "def remove_html(text):\n",
    "    if isinstance(text,str):\n",
    "        \n",
    "        pattern = re.compile('<.*?>')\n",
    "        return pattern.sub(r'',text)\n",
    "    else:\n",
    "        return text\n",
    "\n",
    "data['English'] = data['English'].apply(remove_html)\n",
    "data['Hindi'] = data['Hindi'].apply(remove_html)"
   ]
  },
  {
   "cell_type": "markdown",
   "id": "c0791897",
   "metadata": {
    "papermill": {
     "duration": 0.022714,
     "end_time": "2024-03-07T19:45:21.231555",
     "exception": false,
     "start_time": "2024-03-07T19:45:21.208841",
     "status": "completed"
    },
    "tags": []
   },
   "source": [
    "* Removing URL's"
   ]
  },
  {
   "cell_type": "code",
   "execution_count": 9,
   "id": "fe91494c",
   "metadata": {
    "execution": {
     "iopub.execute_input": "2024-03-07T19:45:21.279403Z",
     "iopub.status.busy": "2024-03-07T19:45:21.279082Z",
     "iopub.status.idle": "2024-03-07T19:45:22.220377Z",
     "shell.execute_reply": "2024-03-07T19:45:22.219377Z"
    },
    "papermill": {
     "duration": 0.967983,
     "end_time": "2024-03-07T19:45:22.223169",
     "exception": false,
     "start_time": "2024-03-07T19:45:21.255186",
     "status": "completed"
    },
    "tags": []
   },
   "outputs": [],
   "source": [
    "def remove_url(text):\n",
    "    if isinstance(text,str):\n",
    "        pattern = re.compile(r'https?://\\S+|www\\.\\S+')\n",
    "        return pattern.sub(r'',text)\n",
    "    else:\n",
    "        return\n",
    "data['English'] = data['English'].apply(remove_url)\n",
    "data['Hindi'] = data['Hindi'].apply(remove_url)"
   ]
  },
  {
   "cell_type": "markdown",
   "id": "3ef26cd0",
   "metadata": {
    "papermill": {
     "duration": 0.024842,
     "end_time": "2024-03-07T19:45:22.274032",
     "exception": false,
     "start_time": "2024-03-07T19:45:22.249190",
     "status": "completed"
    },
    "tags": []
   },
   "source": [
    "* Remove Non-Hindi and Alphanumeric characters"
   ]
  },
  {
   "cell_type": "code",
   "execution_count": 10,
   "id": "698a87bd",
   "metadata": {
    "execution": {
     "iopub.execute_input": "2024-03-07T19:45:22.325811Z",
     "iopub.status.busy": "2024-03-07T19:45:22.325393Z",
     "iopub.status.idle": "2024-03-07T19:45:23.650637Z",
     "shell.execute_reply": "2024-03-07T19:45:23.649795Z"
    },
    "papermill": {
     "duration": 1.353507,
     "end_time": "2024-03-07T19:45:23.653100",
     "exception": false,
     "start_time": "2024-03-07T19:45:22.299593",
     "status": "completed"
    },
    "tags": []
   },
   "outputs": [],
   "source": [
    "def preprocess_text(text, language='english'):\n",
    "    if not isinstance(text, str):\n",
    "        return text\n",
    "    \n",
    "    if language == 'english':\n",
    "        pattern = re.compile(r'[^a-zA-Z0-9\\s]')\n",
    "        return pattern.sub(r'', text)\n",
    "    elif language == 'hindi':\n",
    "        pattern = re.compile(r'[^\\u0900-\\u097F\\s]')\n",
    "        return pattern.sub(r'', text)\n",
    "    else:\n",
    "        raise ValueError(\"Unsupported Language, Supported languages are 'english' and 'hindi'\")\n",
    "        \n",
    "data['English'] = data['English'].apply(lambda x: preprocess_text(x, language='english'))\n",
    "data['Hindi'] = data['Hindi'].apply(lambda x: preprocess_text(x, language='hindi'))"
   ]
  },
  {
   "cell_type": "markdown",
   "id": "6ff4c575",
   "metadata": {
    "papermill": {
     "duration": 0.024959,
     "end_time": "2024-03-07T19:45:23.702585",
     "exception": false,
     "start_time": "2024-03-07T19:45:23.677626",
     "status": "completed"
    },
    "tags": []
   },
   "source": [
    "* Removing Punctuations"
   ]
  },
  {
   "cell_type": "code",
   "execution_count": 11,
   "id": "c73caf50",
   "metadata": {
    "execution": {
     "iopub.execute_input": "2024-03-07T19:45:23.753475Z",
     "iopub.status.busy": "2024-03-07T19:45:23.752558Z",
     "iopub.status.idle": "2024-03-07T19:45:23.758648Z",
     "shell.execute_reply": "2024-03-07T19:45:23.757726Z"
    },
    "papermill": {
     "duration": 0.035096,
     "end_time": "2024-03-07T19:45:23.760959",
     "exception": false,
     "start_time": "2024-03-07T19:45:23.725863",
     "status": "completed"
    },
    "tags": []
   },
   "outputs": [
    {
     "data": {
      "text/plain": [
       "'!\"#$%&\\'()*+,-./:;<=>?@[\\\\]^_`{|}~'"
      ]
     },
     "execution_count": 11,
     "metadata": {},
     "output_type": "execute_result"
    }
   ],
   "source": [
    "#English Punctuations...........\n",
    "string.punctuation"
   ]
  },
  {
   "cell_type": "code",
   "execution_count": 12,
   "id": "7a251145",
   "metadata": {
    "execution": {
     "iopub.execute_input": "2024-03-07T19:45:23.812439Z",
     "iopub.status.busy": "2024-03-07T19:45:23.811562Z",
     "iopub.status.idle": "2024-03-07T19:45:23.818345Z",
     "shell.execute_reply": "2024-03-07T19:45:23.817312Z"
    },
    "papermill": {
     "duration": 0.034991,
     "end_time": "2024-03-07T19:45:23.821037",
     "exception": false,
     "start_time": "2024-03-07T19:45:23.786046",
     "status": "completed"
    },
    "tags": []
   },
   "outputs": [
    {
     "name": "stdout",
     "output_type": "stream",
     "text": [
      "Hindi Punctuation:  ‖‗†‡•‣․‥…‧‰‱′″‴‵‶‷‸※‼‽‾⁁⁂⁃⁇⁈⁉⁊⁋⁌⁍⁎⁏⁐⁑⁓⁕⁖⁗⁘⁙⁚⁛⁜⁝⁞\n"
     ]
    }
   ],
   "source": [
    "def get_hindi_punctuations():\n",
    "    hindi_punctuations = []\n",
    "    for i in range(0x2000, 0x206f + 1):\n",
    "        char = chr(i)\n",
    "        if unicodedata.category(char) == 'Po':\n",
    "            hindi_punctuations.append(char)\n",
    "    return ''.join(hindi_punctuations)\n",
    "\n",
    "# Get Hindi punctuation characters\n",
    "hindi_punctuation = get_hindi_punctuations()\n",
    "\n",
    "# Print Hindi punctuation characters\n",
    "print('Hindi Punctuation: ', hindi_punctuation)"
   ]
  },
  {
   "cell_type": "code",
   "execution_count": 13,
   "id": "4f9ca0fe",
   "metadata": {
    "execution": {
     "iopub.execute_input": "2024-03-07T19:45:23.868348Z",
     "iopub.status.busy": "2024-03-07T19:45:23.868049Z",
     "iopub.status.idle": "2024-03-07T19:45:28.077567Z",
     "shell.execute_reply": "2024-03-07T19:45:28.076683Z"
    },
    "papermill": {
     "duration": 4.236331,
     "end_time": "2024-03-07T19:45:28.080393",
     "exception": false,
     "start_time": "2024-03-07T19:45:23.844062",
     "status": "completed"
    },
    "tags": []
   },
   "outputs": [],
   "source": [
    "def remove_punctuation(text, language = 'English'):\n",
    "    if language == 'English':\n",
    "        exclude_english = set(string.punctuation)\n",
    "        return ''.join(char for char in text if char not in exclude_english)\n",
    "    elif language == 'Hindi':\n",
    "        return ''.join(char for char in text if char not in hindi_punctuation)\n",
    "    \n",
    "    else:\n",
    "        raise ValueError(\"Unsupported Language, Supported languages are 'english' and 'hindi'\")\n",
    "        \n",
    "  \n",
    "data['English'] = data['English'].apply(lambda x: remove_punctuation(x,language = 'English'))\n",
    "data['Hindi'] = data['Hindi'].apply(lambda x: remove_punctuation(x,language = 'Hindi'))"
   ]
  },
  {
   "cell_type": "markdown",
   "id": "17ee9024",
   "metadata": {
    "papermill": {
     "duration": 0.024314,
     "end_time": "2024-03-07T19:45:28.129956",
     "exception": false,
     "start_time": "2024-03-07T19:45:28.105642",
     "status": "completed"
    },
    "tags": []
   },
   "source": [
    "* Removing contractions"
   ]
  },
  {
   "cell_type": "code",
   "execution_count": 14,
   "id": "85174a94",
   "metadata": {
    "execution": {
     "iopub.execute_input": "2024-03-07T19:45:28.180187Z",
     "iopub.status.busy": "2024-03-07T19:45:28.179867Z",
     "iopub.status.idle": "2024-03-07T19:45:29.824069Z",
     "shell.execute_reply": "2024-03-07T19:45:29.823198Z"
    },
    "papermill": {
     "duration": 1.672308,
     "end_time": "2024-03-07T19:45:29.826522",
     "exception": false,
     "start_time": "2024-03-07T19:45:28.154214",
     "status": "completed"
    },
    "tags": []
   },
   "outputs": [],
   "source": [
    "def expand_contractions(text):\n",
    "    expanded_text = contractions.fix(text)\n",
    "    return expanded_text\n",
    "\n",
    "data['English'] = data['English'].apply(expand_contractions)"
   ]
  },
  {
   "cell_type": "markdown",
   "id": "170ca591",
   "metadata": {
    "papermill": {
     "duration": 0.023922,
     "end_time": "2024-03-07T19:45:29.876002",
     "exception": false,
     "start_time": "2024-03-07T19:45:29.852080",
     "status": "completed"
    },
    "tags": []
   },
   "source": [
    "* Tokenize the text"
   ]
  },
  {
   "cell_type": "code",
   "execution_count": 15,
   "id": "5d78ef66",
   "metadata": {
    "execution": {
     "iopub.execute_input": "2024-03-07T19:45:29.925998Z",
     "iopub.status.busy": "2024-03-07T19:45:29.925579Z",
     "iopub.status.idle": "2024-03-07T19:46:25.967141Z",
     "shell.execute_reply": "2024-03-07T19:46:25.966266Z"
    },
    "papermill": {
     "duration": 56.069345,
     "end_time": "2024-03-07T19:46:25.969497",
     "exception": false,
     "start_time": "2024-03-07T19:45:29.900152",
     "status": "completed"
    },
    "tags": []
   },
   "outputs": [],
   "source": [
    "def do_tokenization(text):\n",
    "    token_words = word_tokenize(text)\n",
    "    return token_words\n",
    "\n",
    "data['English'] = data['English'].apply(do_tokenization)\n",
    "data['Hindi'] = data['Hindi'].apply(do_tokenization)"
   ]
  },
  {
   "cell_type": "code",
   "execution_count": 16,
   "id": "2859ec03",
   "metadata": {
    "execution": {
     "iopub.execute_input": "2024-03-07T19:46:26.019355Z",
     "iopub.status.busy": "2024-03-07T19:46:26.018778Z",
     "iopub.status.idle": "2024-03-07T19:46:26.040224Z",
     "shell.execute_reply": "2024-03-07T19:46:26.039255Z"
    },
    "papermill": {
     "duration": 0.04893,
     "end_time": "2024-03-07T19:46:26.042804",
     "exception": false,
     "start_time": "2024-03-07T19:46:25.993874",
     "status": "completed"
    },
    "tags": []
   },
   "outputs": [
    {
     "data": {
      "text/html": [
       "<div>\n",
       "<style scoped>\n",
       "    .dataframe tbody tr th:only-of-type {\n",
       "        vertical-align: middle;\n",
       "    }\n",
       "\n",
       "    .dataframe tbody tr th {\n",
       "        vertical-align: top;\n",
       "    }\n",
       "\n",
       "    .dataframe thead th {\n",
       "        text-align: right;\n",
       "    }\n",
       "</style>\n",
       "<table border=\"1\" class=\"dataframe\">\n",
       "  <thead>\n",
       "    <tr style=\"text-align: right;\">\n",
       "      <th></th>\n",
       "      <th>English</th>\n",
       "      <th>Hindi</th>\n",
       "    </tr>\n",
       "  </thead>\n",
       "  <tbody>\n",
       "    <tr>\n",
       "      <th>49343</th>\n",
       "      <td>[capitalism, in, its, difficulties, took, to, ...</td>\n",
       "      <td>[चूंकि, पश्चिम, की, सभ्यता, पूंजीवाद, की, समर्...</td>\n",
       "    </tr>\n",
       "    <tr>\n",
       "      <th>123560</th>\n",
       "      <td>[in, such, condition, center, rules, completel...</td>\n",
       "      <td>[इस, स्थिति, मे, केन्द्रराज्यों, पर, पूर्ण, सम...</td>\n",
       "    </tr>\n",
       "    <tr>\n",
       "      <th>69721</th>\n",
       "      <td>[but, nearer, home, in, the, northern, regions...</td>\n",
       "      <td>[किंतु, इधर, निकट, में, साम्राज़्य, के, उत्तरी...</td>\n",
       "    </tr>\n",
       "    <tr>\n",
       "      <th>6495</th>\n",
       "      <td>[it, led, to, a, certain, pride, in, the, fact...</td>\n",
       "      <td>[हमे, फक्र, महसूस, हुआ, कि, भारत, विश्व, में, ...</td>\n",
       "    </tr>\n",
       "    <tr>\n",
       "      <th>16485</th>\n",
       "      <td>[from, time, immemorial, our, rishis, and, poe...</td>\n",
       "      <td>[हमारे, ऋषि, और, कवि, भारत, के, प्राकृतिक, दृश...</td>\n",
       "    </tr>\n",
       "  </tbody>\n",
       "</table>\n",
       "</div>"
      ],
      "text/plain": [
       "                                                  English  \\\n",
       "49343   [capitalism, in, its, difficulties, took, to, ...   \n",
       "123560  [in, such, condition, center, rules, completel...   \n",
       "69721   [but, nearer, home, in, the, northern, regions...   \n",
       "6495    [it, led, to, a, certain, pride, in, the, fact...   \n",
       "16485   [from, time, immemorial, our, rishis, and, poe...   \n",
       "\n",
       "                                                    Hindi  \n",
       "49343   [चूंकि, पश्चिम, की, सभ्यता, पूंजीवाद, की, समर्...  \n",
       "123560  [इस, स्थिति, मे, केन्द्रराज्यों, पर, पूर्ण, सम...  \n",
       "69721   [किंतु, इधर, निकट, में, साम्राज़्य, के, उत्तरी...  \n",
       "6495    [हमे, फक्र, महसूस, हुआ, कि, भारत, विश्व, में, ...  \n",
       "16485   [हमारे, ऋषि, और, कवि, भारत, के, प्राकृतिक, दृश...  "
      ]
     },
     "execution_count": 16,
     "metadata": {},
     "output_type": "execute_result"
    }
   ],
   "source": [
    "data.sample(5)"
   ]
  },
  {
   "cell_type": "markdown",
   "id": "91653c1c",
   "metadata": {
    "papermill": {
     "duration": 0.023381,
     "end_time": "2024-03-07T19:46:26.092041",
     "exception": false,
     "start_time": "2024-03-07T19:46:26.068660",
     "status": "completed"
    },
    "tags": []
   },
   "source": [
    "* Removing Stop Words"
   ]
  },
  {
   "cell_type": "code",
   "execution_count": 17,
   "id": "d17ab4d9",
   "metadata": {
    "execution": {
     "iopub.execute_input": "2024-03-07T19:46:26.140870Z",
     "iopub.status.busy": "2024-03-07T19:46:26.140498Z",
     "iopub.status.idle": "2024-03-07T19:46:26.144670Z",
     "shell.execute_reply": "2024-03-07T19:46:26.143747Z"
    },
    "papermill": {
     "duration": 0.030869,
     "end_time": "2024-03-07T19:46:26.146654",
     "exception": false,
     "start_time": "2024-03-07T19:46:26.115785",
     "status": "completed"
    },
    "tags": []
   },
   "outputs": [],
   "source": [
    "#nltk.download('stopwords')"
   ]
  },
  {
   "cell_type": "code",
   "execution_count": 18,
   "id": "5ac0b38d",
   "metadata": {
    "execution": {
     "iopub.execute_input": "2024-03-07T19:46:26.198232Z",
     "iopub.status.busy": "2024-03-07T19:46:26.197822Z",
     "iopub.status.idle": "2024-03-07T19:46:26.291710Z",
     "shell.execute_reply": "2024-03-07T19:46:26.290573Z"
    },
    "papermill": {
     "duration": 0.123352,
     "end_time": "2024-03-07T19:46:26.293955",
     "exception": false,
     "start_time": "2024-03-07T19:46:26.170603",
     "status": "completed"
    },
    "tags": []
   },
   "outputs": [
    {
     "data": {
      "text/plain": [
       "9408"
      ]
     },
     "execution_count": 18,
     "metadata": {},
     "output_type": "execute_result"
    }
   ],
   "source": [
    "len(nltk.corpus.indian.words('hindi.pos'))"
   ]
  },
  {
   "cell_type": "code",
   "execution_count": 19,
   "id": "8022fffc",
   "metadata": {
    "execution": {
     "iopub.execute_input": "2024-03-07T19:46:26.346407Z",
     "iopub.status.busy": "2024-03-07T19:46:26.345987Z",
     "iopub.status.idle": "2024-03-07T19:46:26.431770Z",
     "shell.execute_reply": "2024-03-07T19:46:26.430720Z"
    },
    "papermill": {
     "duration": 0.115364,
     "end_time": "2024-03-07T19:46:26.434370",
     "exception": false,
     "start_time": "2024-03-07T19:46:26.319006",
     "status": "completed"
    },
    "tags": []
   },
   "outputs": [],
   "source": [
    "stop_words_english = set(stopwords.words('english'))\n",
    "stop_words_hindi = set(nltk.corpus.indian.words('hindi.pos'))"
   ]
  },
  {
   "cell_type": "code",
   "execution_count": 20,
   "id": "33549807",
   "metadata": {
    "execution": {
     "iopub.execute_input": "2024-03-07T19:46:26.484965Z",
     "iopub.status.busy": "2024-03-07T19:46:26.484609Z",
     "iopub.status.idle": "2024-03-07T19:46:27.612967Z",
     "shell.execute_reply": "2024-03-07T19:46:27.611942Z"
    },
    "papermill": {
     "duration": 1.156559,
     "end_time": "2024-03-07T19:46:27.615669",
     "exception": false,
     "start_time": "2024-03-07T19:46:26.459110",
     "status": "completed"
    },
    "tags": []
   },
   "outputs": [],
   "source": [
    "def remove_stopwords(text,language = 'english'):\n",
    "    if language == 'english':\n",
    "        filtered_words_english = [word for word in text if word.lower() not in stop_words_english]\n",
    "        return ' '.join(filtered_words_english)\n",
    "    elif language == 'hindi':\n",
    "        filterd_words_hindi = [word for word in text if word not in stop_words_hindi]\n",
    "        return ' '.join(filterd_words_hindi)\n",
    "    else:\n",
    "        return ValueError(\"Unsupported Language, Supported languages are 'english' and 'hindi'\")\n",
    "    \n",
    "data['English'] = data['English'].apply(lambda x :remove_stopwords(x,language = 'english'))\n",
    "data['Hindi'] = data['Hindi'].apply(lambda x :remove_stopwords(x,language = 'hindi'))\n"
   ]
  },
  {
   "cell_type": "code",
   "execution_count": 21,
   "id": "1b023421",
   "metadata": {
    "execution": {
     "iopub.execute_input": "2024-03-07T19:46:27.668886Z",
     "iopub.status.busy": "2024-03-07T19:46:27.668005Z",
     "iopub.status.idle": "2024-03-07T19:46:27.681743Z",
     "shell.execute_reply": "2024-03-07T19:46:27.680753Z"
    },
    "papermill": {
     "duration": 0.042466,
     "end_time": "2024-03-07T19:46:27.684090",
     "exception": false,
     "start_time": "2024-03-07T19:46:27.641624",
     "status": "completed"
    },
    "tags": []
   },
   "outputs": [
    {
     "data": {
      "text/html": [
       "<div>\n",
       "<style scoped>\n",
       "    .dataframe tbody tr th:only-of-type {\n",
       "        vertical-align: middle;\n",
       "    }\n",
       "\n",
       "    .dataframe tbody tr th {\n",
       "        vertical-align: top;\n",
       "    }\n",
       "\n",
       "    .dataframe thead th {\n",
       "        text-align: right;\n",
       "    }\n",
       "</style>\n",
       "<table border=\"1\" class=\"dataframe\">\n",
       "  <thead>\n",
       "    <tr style=\"text-align: right;\">\n",
       "      <th></th>\n",
       "      <th>English</th>\n",
       "      <th>Hindi</th>\n",
       "    </tr>\n",
       "  </thead>\n",
       "  <tbody>\n",
       "    <tr>\n",
       "      <th>91533</th>\n",
       "      <td>cast mahabharatha roles</td>\n",
       "      <td>महाभारत पात्र</td>\n",
       "    </tr>\n",
       "    <tr>\n",
       "      <th>23734</th>\n",
       "      <td>normally seniormost member chosen</td>\n",
       "      <td>सामान्यतया वरिष्ठतम हेतु चुना</td>\n",
       "    </tr>\n",
       "    <tr>\n",
       "      <th>26036</th>\n",
       "      <td>girl dead anyone could tell happening</td>\n",
       "      <td>समज्हो हा बच्ची</td>\n",
       "    </tr>\n",
       "    <tr>\n",
       "      <th>81533</th>\n",
       "      <td>next thirty years city developed form chief ci...</td>\n",
       "      <td>नगर प्रधान रुप हुआ।</td>\n",
       "    </tr>\n",
       "    <tr>\n",
       "      <th>25539</th>\n",
       "      <td>sitas mother father sunyana janak also went ch...</td>\n",
       "      <td>सीता मातापिता सुनयना जनक चित्रकूट पहुँचे।</td>\n",
       "    </tr>\n",
       "  </tbody>\n",
       "</table>\n",
       "</div>"
      ],
      "text/plain": [
       "                                                 English  \\\n",
       "91533                            cast mahabharatha roles   \n",
       "23734                  normally seniormost member chosen   \n",
       "26036              girl dead anyone could tell happening   \n",
       "81533  next thirty years city developed form chief ci...   \n",
       "25539  sitas mother father sunyana janak also went ch...   \n",
       "\n",
       "                                           Hindi  \n",
       "91533                              महाभारत पात्र  \n",
       "23734              सामान्यतया वरिष्ठतम हेतु चुना  \n",
       "26036                            समज्हो हा बच्ची  \n",
       "81533                        नगर प्रधान रुप हुआ।  \n",
       "25539  सीता मातापिता सुनयना जनक चित्रकूट पहुँचे।  "
      ]
     },
     "execution_count": 21,
     "metadata": {},
     "output_type": "execute_result"
    }
   ],
   "source": [
    "data.sample(5)"
   ]
  },
  {
   "cell_type": "markdown",
   "id": "d63b5144",
   "metadata": {
    "papermill": {
     "duration": 0.025536,
     "end_time": "2024-03-07T19:46:27.735150",
     "exception": false,
     "start_time": "2024-03-07T19:46:27.709614",
     "status": "completed"
    },
    "tags": []
   },
   "source": [
    "* Stemming the text"
   ]
  },
  {
   "cell_type": "code",
   "execution_count": 22,
   "id": "11dc4e63",
   "metadata": {
    "execution": {
     "iopub.execute_input": "2024-03-07T19:46:27.784950Z",
     "iopub.status.busy": "2024-03-07T19:46:27.784243Z",
     "iopub.status.idle": "2024-03-07T19:47:33.099119Z",
     "shell.execute_reply": "2024-03-07T19:47:33.098177Z"
    },
    "papermill": {
     "duration": 65.342588,
     "end_time": "2024-03-07T19:47:33.101628",
     "exception": false,
     "start_time": "2024-03-07T19:46:27.759040",
     "status": "completed"
    },
    "tags": []
   },
   "outputs": [],
   "source": [
    "def do_stemming(token_words):\n",
    "    ps = PorterStemmer()\n",
    "    words = token_words.split()\n",
    "    return [ps.stem(word) for word in words]\n",
    "\n",
    "data['English'] = data['English'].apply(do_stemming)\n",
    "data['Hindi'] = data['Hindi'].apply(do_stemming)"
   ]
  },
  {
   "cell_type": "code",
   "execution_count": 23,
   "id": "f103c78f",
   "metadata": {
    "execution": {
     "iopub.execute_input": "2024-03-07T19:47:33.152783Z",
     "iopub.status.busy": "2024-03-07T19:47:33.152384Z",
     "iopub.status.idle": "2024-03-07T19:47:33.171030Z",
     "shell.execute_reply": "2024-03-07T19:47:33.169816Z"
    },
    "papermill": {
     "duration": 0.046385,
     "end_time": "2024-03-07T19:47:33.173483",
     "exception": false,
     "start_time": "2024-03-07T19:47:33.127098",
     "status": "completed"
    },
    "tags": []
   },
   "outputs": [
    {
     "data": {
      "text/html": [
       "<div>\n",
       "<style scoped>\n",
       "    .dataframe tbody tr th:only-of-type {\n",
       "        vertical-align: middle;\n",
       "    }\n",
       "\n",
       "    .dataframe tbody tr th {\n",
       "        vertical-align: top;\n",
       "    }\n",
       "\n",
       "    .dataframe thead th {\n",
       "        text-align: right;\n",
       "    }\n",
       "</style>\n",
       "<table border=\"1\" class=\"dataframe\">\n",
       "  <thead>\n",
       "    <tr style=\"text-align: right;\">\n",
       "      <th></th>\n",
       "      <th>English</th>\n",
       "      <th>Hindi</th>\n",
       "    </tr>\n",
       "  </thead>\n",
       "  <tbody>\n",
       "    <tr>\n",
       "      <th>64291</th>\n",
       "      <td>[releas, bail, abscond]</td>\n",
       "      <td>[जमानत, फरार]</td>\n",
       "    </tr>\n",
       "    <tr>\n",
       "      <th>128312</th>\n",
       "      <td>[profit, use, one, time]</td>\n",
       "      <td>[लाभदायक, कैसे, व्यतीत]</td>\n",
       "    </tr>\n",
       "    <tr>\n",
       "      <th>21570</th>\n",
       "      <td>[imperi, regim, kaiser, overthrown, roy, reach...</td>\n",
       "      <td>[कैसर, साम्राज़्यवादी, तख़्ता, पलट]</td>\n",
       "    </tr>\n",
       "    <tr>\n",
       "      <th>48030</th>\n",
       "      <td>[wonder, ancient, litera, ture, respect, woman...</td>\n",
       "      <td>[साहित्य, नारी, मां, आद, मान, मातृत्व, पूजा]</td>\n",
       "    </tr>\n",
       "    <tr>\n",
       "      <th>118917</th>\n",
       "      <td>[shall, work, purpos]</td>\n",
       "      <td>[उदेश्य, कार्य, करूगा]</td>\n",
       "    </tr>\n",
       "  </tbody>\n",
       "</table>\n",
       "</div>"
      ],
      "text/plain": [
       "                                                  English  \\\n",
       "64291                             [releas, bail, abscond]   \n",
       "128312                           [profit, use, one, time]   \n",
       "21570   [imperi, regim, kaiser, overthrown, roy, reach...   \n",
       "48030   [wonder, ancient, litera, ture, respect, woman...   \n",
       "118917                              [shall, work, purpos]   \n",
       "\n",
       "                                               Hindi  \n",
       "64291                                  [जमानत, फरार]  \n",
       "128312                       [लाभदायक, कैसे, व्यतीत]  \n",
       "21570            [कैसर, साम्राज़्यवादी, तख़्ता, पलट]  \n",
       "48030   [साहित्य, नारी, मां, आद, मान, मातृत्व, पूजा]  \n",
       "118917                        [उदेश्य, कार्य, करूगा]  "
      ]
     },
     "execution_count": 23,
     "metadata": {},
     "output_type": "execute_result"
    }
   ],
   "source": [
    "data.sample(5)"
   ]
  },
  {
   "cell_type": "markdown",
   "id": "5b102ea6",
   "metadata": {
    "papermill": {
     "duration": 0.025811,
     "end_time": "2024-03-07T19:47:33.226720",
     "exception": false,
     "start_time": "2024-03-07T19:47:33.200909",
     "status": "completed"
    },
    "tags": []
   },
   "source": [
    "\n",
    "<div style=\"color:white; background-color:#5642C5; padding: 10px; border-radius: 15px; font-size: 150%; font-family: Verdana; text-align:center; -webkit-text-stroke-width: 1px; -webkit-text-stroke-color: black; text-shadow: 2px 2px 4px rgba(0, 0, 0, 0.7);\">\n",
    "    Word Cloud \n",
    "</div>"
   ]
  },
  {
   "cell_type": "code",
   "execution_count": 24,
   "id": "2d5807de",
   "metadata": {
    "execution": {
     "iopub.execute_input": "2024-03-07T19:47:33.279300Z",
     "iopub.status.busy": "2024-03-07T19:47:33.278303Z",
     "iopub.status.idle": "2024-03-07T19:47:46.564125Z",
     "shell.execute_reply": "2024-03-07T19:47:46.563041Z"
    },
    "papermill": {
     "duration": 13.317677,
     "end_time": "2024-03-07T19:47:46.569305",
     "exception": false,
     "start_time": "2024-03-07T19:47:33.251628",
     "status": "completed"
    },
    "tags": []
   },
   "outputs": [
    {
     "data": {
      "image/png": "[encoded data removed]",
      "text/plain": [
       "<Figure size 1000x500 with 1 Axes>"
      ]
     },
     "metadata": {},
     "output_type": "display_data"
    }
   ],
   "source": [
    "# Function to preprocess text and generate word cloud\n",
    "def generate_wordcloud(text_list, language):\n",
    "    # Join the list of words into a single string\n",
    "    text_str = ' '.join(map(str, text_list))\n",
    "    \n",
    "    # Generate word cloud without specifying font path\n",
    "    wordcloud = WordCloud(width=800, height=400, background_color='white', colormap='viridis').generate(text_str)\n",
    "    \n",
    "    # Display word cloud\n",
    "    plt.figure(figsize=(10, 5))\n",
    "    plt.imshow(wordcloud, interpolation='bilinear')\n",
    "    plt.title(f\"Word Cloud for {language} Text\")\n",
    "    plt.axis('off')\n",
    "    plt.show()\n",
    "\n",
    "# Generate word clouds for English and Hindi columns\n",
    "generate_wordcloud(data['English'], 'English')\n",
    "#generate_wordcloud(data['Hindi'], 'Hindi')\n"
   ]
  },
  {
   "cell_type": "code",
   "execution_count": 25,
   "id": "4eef5f47",
   "metadata": {
    "execution": {
     "iopub.execute_input": "2024-03-07T19:47:46.628890Z",
     "iopub.status.busy": "2024-03-07T19:47:46.628438Z",
     "iopub.status.idle": "2024-03-07T19:47:46.705882Z",
     "shell.execute_reply": "2024-03-07T19:47:46.704749Z"
    },
    "papermill": {
     "duration": 0.109561,
     "end_time": "2024-03-07T19:47:46.707913",
     "exception": false,
     "start_time": "2024-03-07T19:47:46.598352",
     "status": "completed"
    },
    "tags": []
   },
   "outputs": [
    {
     "name": "stdout",
     "output_type": "stream",
     "text": [
      "Maximum sequence length in combined dataset x:  218\n",
      "Maximum sequence length in combined dataset x:  133\n"
     ]
    }
   ],
   "source": [
    "def calculate_max_sequence_length(text):\n",
    "    # Concatenate x_train_seq and x_test_seq\n",
    "    combined_sequences = text\n",
    "    max_length_combined = max(len(sequence) for sequence in combined_sequences)\n",
    "\n",
    "    return max_length_combined\n",
    "\n",
    "max_length_combined_x = calculate_max_sequence_length(data['English'])\n",
    "print(\"Maximum sequence length in combined dataset x: \", max_length_combined_x)\n",
    "max_length_combined_y = calculate_max_sequence_length(data['Hindi'])\n",
    "print(\"Maximum sequence length in combined dataset x: \", max_length_combined_y)"
   ]
  },
  {
   "cell_type": "markdown",
   "id": "9ac74264",
   "metadata": {
    "papermill": {
     "duration": 0.027793,
     "end_time": "2024-03-07T19:47:46.764286",
     "exception": false,
     "start_time": "2024-03-07T19:47:46.736493",
     "status": "completed"
    },
    "tags": []
   },
   "source": [
    "\n",
    "<div style=\"color:white; background-color:#5642C5; padding: 10px; border-radius: 15px; font-size: 150%; font-family: Verdana; text-align:center; -webkit-text-stroke-width: 1px; -webkit-text-stroke-color: black; text-shadow: 2px 2px 4px rgba(0, 0, 0, 0.7);\">\n",
    "    Tokenization on text data \n",
    "</div>"
   ]
  },
  {
   "cell_type": "code",
   "execution_count": 26,
   "id": "de30f59a",
   "metadata": {
    "execution": {
     "iopub.execute_input": "2024-03-07T19:47:46.823769Z",
     "iopub.status.busy": "2024-03-07T19:47:46.822799Z",
     "iopub.status.idle": "2024-03-07T19:47:48.069185Z",
     "shell.execute_reply": "2024-03-07T19:47:48.068311Z"
    },
    "papermill": {
     "duration": 1.27901,
     "end_time": "2024-03-07T19:47:48.071743",
     "exception": false,
     "start_time": "2024-03-07T19:47:46.792733",
     "status": "completed"
    },
    "tags": []
   },
   "outputs": [],
   "source": [
    "tok = Tokenizer()\n",
    "tok.fit_on_texts(data['English'])"
   ]
  },
  {
   "cell_type": "code",
   "execution_count": 27,
   "id": "9fb04536",
   "metadata": {
    "execution": {
     "iopub.execute_input": "2024-03-07T19:47:48.132945Z",
     "iopub.status.busy": "2024-03-07T19:47:48.132053Z",
     "iopub.status.idle": "2024-03-07T19:47:49.356547Z",
     "shell.execute_reply": "2024-03-07T19:47:49.355717Z"
    },
    "papermill": {
     "duration": 1.257838,
     "end_time": "2024-03-07T19:47:49.359056",
     "exception": false,
     "start_time": "2024-03-07T19:47:48.101218",
     "status": "completed"
    },
    "tags": []
   },
   "outputs": [],
   "source": [
    "tok_hindi = Tokenizer()\n",
    "tok_hindi.fit_on_texts(data['Hindi'])"
   ]
  },
  {
   "cell_type": "code",
   "execution_count": 28,
   "id": "75eed00e",
   "metadata": {
    "execution": {
     "iopub.execute_input": "2024-03-07T19:47:49.421011Z",
     "iopub.status.busy": "2024-03-07T19:47:49.420117Z",
     "iopub.status.idle": "2024-03-07T19:47:49.427512Z",
     "shell.execute_reply": "2024-03-07T19:47:49.426567Z"
    },
    "papermill": {
     "duration": 0.03989,
     "end_time": "2024-03-07T19:47:49.429623",
     "exception": false,
     "start_time": "2024-03-07T19:47:49.389733",
     "status": "completed"
    },
    "tags": []
   },
   "outputs": [],
   "source": [
    "# Add special tokens to the Hindi tokenizer\n",
    "tok_hindi.word_index['<start>'] = len(tok_hindi.word_index) + 1\n",
    "tok_hindi.word_index['<end>'] = len(tok_hindi.word_index) + 1"
   ]
  },
  {
   "cell_type": "code",
   "execution_count": 29,
   "id": "9278b3e2",
   "metadata": {
    "execution": {
     "iopub.execute_input": "2024-03-07T19:47:49.491042Z",
     "iopub.status.busy": "2024-03-07T19:47:49.490209Z",
     "iopub.status.idle": "2024-03-07T19:47:49.496562Z",
     "shell.execute_reply": "2024-03-07T19:47:49.495643Z"
    },
    "papermill": {
     "duration": 0.039242,
     "end_time": "2024-03-07T19:47:49.498554",
     "exception": false,
     "start_time": "2024-03-07T19:47:49.459312",
     "status": "completed"
    },
    "tags": []
   },
   "outputs": [
    {
     "data": {
      "text/plain": [
       "(56738, 75241)"
      ]
     },
     "execution_count": 29,
     "metadata": {},
     "output_type": "execute_result"
    }
   ],
   "source": [
    "len(tok.word_index), len(tok_hindi.word_index)"
   ]
  },
  {
   "cell_type": "code",
   "execution_count": 30,
   "id": "9dfd2689",
   "metadata": {
    "execution": {
     "iopub.execute_input": "2024-03-07T19:47:49.561894Z",
     "iopub.status.busy": "2024-03-07T19:47:49.560844Z",
     "iopub.status.idle": "2024-03-07T19:47:50.163538Z",
     "shell.execute_reply": "2024-03-07T19:47:50.162433Z"
    },
    "papermill": {
     "duration": 0.636725,
     "end_time": "2024-03-07T19:47:50.166030",
     "exception": false,
     "start_time": "2024-03-07T19:47:49.529305",
     "status": "completed"
    },
    "tags": []
   },
   "outputs": [],
   "source": [
    "def add_special_tokens(sequences, start_token='<start>', end_token='<end>'):\n",
    "    sequences_with_special_tokens = []\n",
    "    for sequence in sequences:\n",
    "        sequence_with_special_tokens = [start_token] + sequence + [end_token]\n",
    "        sequences_with_special_tokens.append(sequence_with_special_tokens)\n",
    "    return sequences_with_special_tokens\n",
    "\n",
    "data['Hindi'] = add_special_tokens(data['Hindi'])"
   ]
  },
  {
   "cell_type": "markdown",
   "id": "7d48375d",
   "metadata": {
    "papermill": {
     "duration": 0.02936,
     "end_time": "2024-03-07T19:47:50.226279",
     "exception": false,
     "start_time": "2024-03-07T19:47:50.196919",
     "status": "completed"
    },
    "tags": []
   },
   "source": [
    "\n",
    "<div style=\"color:white; background-color:#5642C5; padding: 10px; border-radius: 15px; font-size: 150%; font-family: Verdana; text-align:center; -webkit-text-stroke-width: 1px; -webkit-text-stroke-color: black; text-shadow: 2px 2px 4px rgba(0, 0, 0, 0.7);\">\n",
    "    Converting words to the number  \n",
    "</div>"
   ]
  },
  {
   "cell_type": "code",
   "execution_count": 31,
   "id": "a4a9a3b0",
   "metadata": {
    "execution": {
     "iopub.execute_input": "2024-03-07T19:47:50.290064Z",
     "iopub.status.busy": "2024-03-07T19:47:50.289376Z",
     "iopub.status.idle": "2024-03-07T19:47:52.518823Z",
     "shell.execute_reply": "2024-03-07T19:47:52.517443Z"
    },
    "papermill": {
     "duration": 2.265215,
     "end_time": "2024-03-07T19:47:52.523239",
     "exception": false,
     "start_time": "2024-03-07T19:47:50.258024",
     "status": "completed"
    },
    "tags": []
   },
   "outputs": [],
   "source": [
    "#Now we are goining to convert text to sequences.......\n",
    "data['English'] = tok.texts_to_sequences(data['English'])\n",
    "data['Hindi'] = tok_hindi.texts_to_sequences(data['Hindi'])"
   ]
  },
  {
   "cell_type": "code",
   "execution_count": 32,
   "id": "b65def65",
   "metadata": {
    "execution": {
     "iopub.execute_input": "2024-03-07T19:47:52.593465Z",
     "iopub.status.busy": "2024-03-07T19:47:52.593144Z",
     "iopub.status.idle": "2024-03-07T19:47:52.658605Z",
     "shell.execute_reply": "2024-03-07T19:47:52.657365Z"
    },
    "papermill": {
     "duration": 0.099307,
     "end_time": "2024-03-07T19:47:52.660900",
     "exception": false,
     "start_time": "2024-03-07T19:47:52.561593",
     "status": "completed"
    },
    "tags": []
   },
   "outputs": [
    {
     "name": "stdout",
     "output_type": "stream",
     "text": [
      "Maximum sequence length in combined dataset x:  218\n",
      "Maximum sequence length in combined dataset x:  135\n"
     ]
    }
   ],
   "source": [
    "def calculate_max_sequence_length(text):\n",
    "    # Concatenate x_train_seq and x_test_seq\n",
    "    combined_sequences = text\n",
    "    max_length_combined = max(len(sequence) for sequence in combined_sequences)\n",
    "\n",
    "    return max_length_combined\n",
    "\n",
    "max_length_combined_x = calculate_max_sequence_length(data['English'])\n",
    "print(\"Maximum sequence length in combined dataset x: \", max_length_combined_x)\n",
    "max_length_combined_y = calculate_max_sequence_length(data['Hindi'])\n",
    "print(\"Maximum sequence length in combined dataset x: \", max_length_combined_y)"
   ]
  },
  {
   "cell_type": "code",
   "execution_count": 33,
   "id": "a9f606d8",
   "metadata": {
    "execution": {
     "iopub.execute_input": "2024-03-07T19:47:52.718150Z",
     "iopub.status.busy": "2024-03-07T19:47:52.717838Z",
     "iopub.status.idle": "2024-03-07T19:47:52.736274Z",
     "shell.execute_reply": "2024-03-07T19:47:52.735442Z"
    },
    "papermill": {
     "duration": 0.048875,
     "end_time": "2024-03-07T19:47:52.738132",
     "exception": false,
     "start_time": "2024-03-07T19:47:52.689257",
     "status": "completed"
    },
    "tags": []
   },
   "outputs": [
    {
     "data": {
      "text/html": [
       "<div>\n",
       "<style scoped>\n",
       "    .dataframe tbody tr th:only-of-type {\n",
       "        vertical-align: middle;\n",
       "    }\n",
       "\n",
       "    .dataframe tbody tr th {\n",
       "        vertical-align: top;\n",
       "    }\n",
       "\n",
       "    .dataframe thead th {\n",
       "        text-align: right;\n",
       "    }\n",
       "</style>\n",
       "<table border=\"1\" class=\"dataframe\">\n",
       "  <thead>\n",
       "    <tr style=\"text-align: right;\">\n",
       "      <th></th>\n",
       "      <th>English</th>\n",
       "      <th>Hindi</th>\n",
       "    </tr>\n",
       "  </thead>\n",
       "  <tbody>\n",
       "    <tr>\n",
       "      <th>25897</th>\n",
       "      <td>[865, 803, 21027, 4532, 1533, 681]</td>\n",
       "      <td>[75240, 5590, 13315, 3383, 29067, 3890, 1600, ...</td>\n",
       "    </tr>\n",
       "    <tr>\n",
       "      <th>87386</th>\n",
       "      <td>[1318, 1071, 155, 707]</td>\n",
       "      <td>[75240, 11, 194, 34273, 1251, 75241]</td>\n",
       "    </tr>\n",
       "    <tr>\n",
       "      <th>494</th>\n",
       "      <td>[1726, 544]</td>\n",
       "      <td>[75240, 2923, 2113, 1, 75241]</td>\n",
       "    </tr>\n",
       "    <tr>\n",
       "      <th>124416</th>\n",
       "      <td>[1259, 11160, 7, 4063, 55151, 6816, 2815, 6245...</td>\n",
       "      <td>[75240, 73604, 2344, 7759, 7198, 7879, 318, 31...</td>\n",
       "    </tr>\n",
       "    <tr>\n",
       "      <th>109714</th>\n",
       "      <td>[973, 238, 2995, 2652, 61, 2646, 118, 615, 264...</td>\n",
       "      <td>[75240, 989, 4986, 1322, 5561, 28030, 505, 794...</td>\n",
       "    </tr>\n",
       "  </tbody>\n",
       "</table>\n",
       "</div>"
      ],
      "text/plain": [
       "                                                  English  \\\n",
       "25897                  [865, 803, 21027, 4532, 1533, 681]   \n",
       "87386                              [1318, 1071, 155, 707]   \n",
       "494                                           [1726, 544]   \n",
       "124416  [1259, 11160, 7, 4063, 55151, 6816, 2815, 6245...   \n",
       "109714  [973, 238, 2995, 2652, 61, 2646, 118, 615, 264...   \n",
       "\n",
       "                                                    Hindi  \n",
       "25897   [75240, 5590, 13315, 3383, 29067, 3890, 1600, ...  \n",
       "87386                [75240, 11, 194, 34273, 1251, 75241]  \n",
       "494                         [75240, 2923, 2113, 1, 75241]  \n",
       "124416  [75240, 73604, 2344, 7759, 7198, 7879, 318, 31...  \n",
       "109714  [75240, 989, 4986, 1322, 5561, 28030, 505, 794...  "
      ]
     },
     "execution_count": 33,
     "metadata": {},
     "output_type": "execute_result"
    }
   ],
   "source": [
    "data.sample(5)"
   ]
  },
  {
   "cell_type": "markdown",
   "id": "1d9a71a7",
   "metadata": {
    "papermill": {
     "duration": 0.028921,
     "end_time": "2024-03-07T19:47:52.795718",
     "exception": false,
     "start_time": "2024-03-07T19:47:52.766797",
     "status": "completed"
    },
    "tags": []
   },
   "source": [
    "\n",
    "<div style=\"color:white; background-color:#5642C5; padding: 10px; border-radius: 15px; font-size: 150%; font-family: Verdana; text-align:center; -webkit-text-stroke-width: 1px; -webkit-text-stroke-color: black; text-shadow: 2px 2px 4px rgba(0, 0, 0, 0.7);\">\n",
    "    Train Test Split \n",
    "</div>"
   ]
  },
  {
   "cell_type": "code",
   "execution_count": 34,
   "id": "427b0482",
   "metadata": {
    "execution": {
     "iopub.execute_input": "2024-03-07T19:47:52.857052Z",
     "iopub.status.busy": "2024-03-07T19:47:52.856366Z",
     "iopub.status.idle": "2024-03-07T19:47:52.861569Z",
     "shell.execute_reply": "2024-03-07T19:47:52.860546Z"
    },
    "papermill": {
     "duration": 0.038523,
     "end_time": "2024-03-07T19:47:52.863768",
     "exception": false,
     "start_time": "2024-03-07T19:47:52.825245",
     "status": "completed"
    },
    "tags": []
   },
   "outputs": [],
   "source": [
    "english = data['English']\n",
    "hindi = data['Hindi']"
   ]
  },
  {
   "cell_type": "code",
   "execution_count": 35,
   "id": "020abbb0",
   "metadata": {
    "execution": {
     "iopub.execute_input": "2024-03-07T19:47:52.927720Z",
     "iopub.status.busy": "2024-03-07T19:47:52.926881Z",
     "iopub.status.idle": "2024-03-07T19:47:52.957644Z",
     "shell.execute_reply": "2024-03-07T19:47:52.956802Z"
    },
    "papermill": {
     "duration": 0.065306,
     "end_time": "2024-03-07T19:47:52.960098",
     "exception": false,
     "start_time": "2024-03-07T19:47:52.894792",
     "status": "completed"
    },
    "tags": []
   },
   "outputs": [],
   "source": [
    "x_train,x_test,y_train,y_test = train_test_split(english,hindi,test_size = 0.2, random_state = 42)"
   ]
  },
  {
   "cell_type": "code",
   "execution_count": 36,
   "id": "470b7dca",
   "metadata": {
    "execution": {
     "iopub.execute_input": "2024-03-07T19:47:53.026376Z",
     "iopub.status.busy": "2024-03-07T19:47:53.025537Z",
     "iopub.status.idle": "2024-03-07T19:47:53.031465Z",
     "shell.execute_reply": "2024-03-07T19:47:53.030412Z"
    },
    "papermill": {
     "duration": 0.041239,
     "end_time": "2024-03-07T19:47:53.033650",
     "exception": false,
     "start_time": "2024-03-07T19:47:52.992411",
     "status": "completed"
    },
    "tags": []
   },
   "outputs": [
    {
     "name": "stdout",
     "output_type": "stream",
     "text": [
      "Training set shape:  (104129,) (104129,)\n",
      "Testing set shape:  (26033,) (26033,)\n"
     ]
    }
   ],
   "source": [
    "print(\"Training set shape: \",x_train.shape,y_train.shape)\n",
    "print(\"Testing set shape: \",x_test.shape,y_test.shape)"
   ]
  },
  {
   "cell_type": "markdown",
   "id": "8196dc97",
   "metadata": {
    "papermill": {
     "duration": 0.030748,
     "end_time": "2024-03-07T19:47:53.095700",
     "exception": false,
     "start_time": "2024-03-07T19:47:53.064952",
     "status": "completed"
    },
    "tags": []
   },
   "source": [
    "\n",
    "<div style=\"color:white; background-color:#5642C5; padding: 10px; border-radius: 15px; font-size: 150%; font-family: Verdana; text-align:center; -webkit-text-stroke-width: 1px; -webkit-text-stroke-color: black; text-shadow: 2px 2px 4px rgba(0, 0, 0, 0.7);\">\n",
    "    Sample Representation Of Words How Words Get Converted Into Numbers\n",
    "</div>"
   ]
  },
  {
   "cell_type": "code",
   "execution_count": 37,
   "id": "94187982",
   "metadata": {
    "execution": {
     "iopub.execute_input": "2024-03-07T19:47:53.156951Z",
     "iopub.status.busy": "2024-03-07T19:47:53.156320Z",
     "iopub.status.idle": "2024-03-07T19:47:53.166623Z",
     "shell.execute_reply": "2024-03-07T19:47:53.165611Z"
    },
    "papermill": {
     "duration": 0.043078,
     "end_time": "2024-03-07T19:47:53.168881",
     "exception": false,
     "start_time": "2024-03-07T19:47:53.125803",
     "status": "completed"
    },
    "tags": []
   },
   "outputs": [
    {
     "name": "stdout",
     "output_type": "stream",
     "text": [
      "13 3 263 100 5439 689 318 57 3662 252 475 59 37 1021 "
     ]
    }
   ],
   "source": [
    "for num in x_train[36905]:\n",
    "    print(num,end = \" \")"
   ]
  },
  {
   "cell_type": "code",
   "execution_count": 38,
   "id": "70b779eb",
   "metadata": {
    "execution": {
     "iopub.execute_input": "2024-03-07T19:47:53.231421Z",
     "iopub.status.busy": "2024-03-07T19:47:53.231138Z",
     "iopub.status.idle": "2024-03-07T19:47:53.236517Z",
     "shell.execute_reply": "2024-03-07T19:47:53.235568Z"
    },
    "papermill": {
     "duration": 0.038587,
     "end_time": "2024-03-07T19:47:53.238811",
     "exception": false,
     "start_time": "2024-03-07T19:47:53.200224",
     "status": "completed"
    },
    "tags": []
   },
   "outputs": [
    {
     "name": "stdout",
     "output_type": "stream",
     "text": [
      "govern also thought problem mini steel plant need deeper studi futur develop could determin "
     ]
    }
   ],
   "source": [
    "#Corresponding words .........\n",
    "for num in x_train[36905]:\n",
    "    word = tok.index_word.get(num)\n",
    "    print(word,end = \" \")"
   ]
  },
  {
   "cell_type": "code",
   "execution_count": 39,
   "id": "536605ac",
   "metadata": {
    "execution": {
     "iopub.execute_input": "2024-03-07T19:47:53.299606Z",
     "iopub.status.busy": "2024-03-07T19:47:53.299294Z",
     "iopub.status.idle": "2024-03-07T19:47:53.308466Z",
     "shell.execute_reply": "2024-03-07T19:47:53.307451Z"
    },
    "papermill": {
     "duration": 0.042005,
     "end_time": "2024-03-07T19:47:53.310713",
     "exception": false,
     "start_time": "2024-03-07T19:47:53.268708",
     "status": "completed"
    },
    "tags": []
   },
   "outputs": [
    {
     "name": "stdout",
     "output_type": "stream",
     "text": [
      "None सोचा लघु इस्पात संयंत्रों भावी धारा निश्चित इनकी समस्याओं आवश्यक None "
     ]
    }
   ],
   "source": [
    "#Corresponding words .........\n",
    "for num in y_train[36905]:\n",
    "    word = tok_hindi.index_word.get(num)\n",
    "    print(word,end = \" \")"
   ]
  },
  {
   "cell_type": "markdown",
   "id": "5cfb2f25",
   "metadata": {
    "papermill": {
     "duration": 0.030987,
     "end_time": "2024-03-07T19:47:53.372320",
     "exception": false,
     "start_time": "2024-03-07T19:47:53.341333",
     "status": "completed"
    },
    "tags": []
   },
   "source": [
    "\n",
    "<div style=\"color:white; background-color:#5642C5; padding: 10px; border-radius: 15px; font-size: 150%; font-family: Verdana; text-align:center; -webkit-text-stroke-width: 1px; -webkit-text-stroke-color: black; text-shadow: 2px 2px 4px rgba(0, 0, 0, 0.7);\">\n",
    "    Padding of the data \n",
    "</div>"
   ]
  },
  {
   "cell_type": "code",
   "execution_count": 40,
   "id": "9f9c12c0",
   "metadata": {
    "execution": {
     "iopub.execute_input": "2024-03-07T19:47:53.434007Z",
     "iopub.status.busy": "2024-03-07T19:47:53.433293Z",
     "iopub.status.idle": "2024-03-07T19:47:54.465920Z",
     "shell.execute_reply": "2024-03-07T19:47:54.464758Z"
    },
    "papermill": {
     "duration": 1.066218,
     "end_time": "2024-03-07T19:47:54.468557",
     "exception": false,
     "start_time": "2024-03-07T19:47:53.402339",
     "status": "completed"
    },
    "tags": []
   },
   "outputs": [],
   "source": [
    "x_train_main = pad_sequences(x_train, maxlen=max_length_combined_x, padding='post')\n",
    "y_train_main = pad_sequences(y_train, maxlen=max_length_combined_y, padding='post')"
   ]
  },
  {
   "cell_type": "code",
   "execution_count": 41,
   "id": "1c0b5e1a",
   "metadata": {
    "execution": {
     "iopub.execute_input": "2024-03-07T19:47:54.532806Z",
     "iopub.status.busy": "2024-03-07T19:47:54.531908Z",
     "iopub.status.idle": "2024-03-07T19:47:54.790209Z",
     "shell.execute_reply": "2024-03-07T19:47:54.789005Z"
    },
    "papermill": {
     "duration": 0.292489,
     "end_time": "2024-03-07T19:47:54.792765",
     "exception": false,
     "start_time": "2024-03-07T19:47:54.500276",
     "status": "completed"
    },
    "tags": []
   },
   "outputs": [],
   "source": [
    "x_test_main = pad_sequences(x_test, maxlen=max_length_combined_x, padding='post')\n",
    "y_test_main = pad_sequences(y_test, maxlen=max_length_combined_y, padding='post')"
   ]
  },
  {
   "cell_type": "code",
   "execution_count": 42,
   "id": "cf4e166c",
   "metadata": {
    "execution": {
     "iopub.execute_input": "2024-03-07T19:47:54.855555Z",
     "iopub.status.busy": "2024-03-07T19:47:54.855193Z",
     "iopub.status.idle": "2024-03-07T19:47:54.860555Z",
     "shell.execute_reply": "2024-03-07T19:47:54.859588Z"
    },
    "papermill": {
     "duration": 0.0403,
     "end_time": "2024-03-07T19:47:54.863480",
     "exception": false,
     "start_time": "2024-03-07T19:47:54.823180",
     "status": "completed"
    },
    "tags": []
   },
   "outputs": [
    {
     "name": "stdout",
     "output_type": "stream",
     "text": [
      "shape of x_train_main is : (104129, 218)\n",
      "shape of y_train_main is : (104129, 135)\n",
      "shape of x_test_main is : (26033, 218)\n",
      "shape of y_test_main is : (26033, 135)\n"
     ]
    }
   ],
   "source": [
    "print(\"shape of x_train_main is :\",x_train_main.shape)\n",
    "print(\"shape of y_train_main is :\",y_train_main.shape)\n",
    "print(\"shape of x_test_main is :\",x_test_main.shape)\n",
    "print(\"shape of y_test_main is :\",y_test_main.shape)"
   ]
  },
  {
   "cell_type": "code",
   "execution_count": 43,
   "id": "ef074cec",
   "metadata": {
    "execution": {
     "iopub.execute_input": "2024-03-07T19:47:54.924511Z",
     "iopub.status.busy": "2024-03-07T19:47:54.924130Z",
     "iopub.status.idle": "2024-03-07T19:47:54.931586Z",
     "shell.execute_reply": "2024-03-07T19:47:54.930535Z"
    },
    "papermill": {
     "duration": 0.04031,
     "end_time": "2024-03-07T19:47:54.933851",
     "exception": false,
     "start_time": "2024-03-07T19:47:54.893541",
     "status": "completed"
    },
    "tags": []
   },
   "outputs": [
    {
     "data": {
      "text/plain": [
       "array([[ 122, 1433,  802, ...,    0,    0,    0],\n",
       "       [ 165,  671, 1220, ...,    0,    0,    0],\n",
       "       [2304, 2025,  331, ...,    0,    0,    0],\n",
       "       ...,\n",
       "       [  71,   17, 3396, ...,    0,    0,    0],\n",
       "       [   9,    8,   51, ...,    0,    0,    0],\n",
       "       [ 668,  654, 1035, ...,    0,    0,    0]], dtype=int32)"
      ]
     },
     "execution_count": 43,
     "metadata": {},
     "output_type": "execute_result"
    }
   ],
   "source": [
    "x_train_main"
   ]
  },
  {
   "cell_type": "code",
   "execution_count": 44,
   "id": "46e28010",
   "metadata": {
    "execution": {
     "iopub.execute_input": "2024-03-07T19:47:55.000039Z",
     "iopub.status.busy": "2024-03-07T19:47:54.999240Z",
     "iopub.status.idle": "2024-03-07T19:47:55.006510Z",
     "shell.execute_reply": "2024-03-07T19:47:55.005550Z"
    },
    "papermill": {
     "duration": 0.042798,
     "end_time": "2024-03-07T19:47:55.008594",
     "exception": false,
     "start_time": "2024-03-07T19:47:54.965796",
     "status": "completed"
    },
    "tags": []
   },
   "outputs": [
    {
     "data": {
      "text/plain": [
       "array([[75240, 25359, 20397, ...,     0,     0,     0],\n",
       "       [75240,   485, 18199, ...,     0,     0,     0],\n",
       "       [75240,   968,    61, ...,     0,     0,     0],\n",
       "       ...,\n",
       "       [75240, 65179,  1645, ...,     0,     0,     0],\n",
       "       [75240,   371,   490, ...,     0,     0,     0],\n",
       "       [75240,  2421,  5824, ...,     0,     0,     0]], dtype=int32)"
      ]
     },
     "execution_count": 44,
     "metadata": {},
     "output_type": "execute_result"
    }
   ],
   "source": [
    "y_test_main"
   ]
  },
  {
   "cell_type": "markdown",
   "id": "681011bd",
   "metadata": {
    "papermill": {
     "duration": 0.030227,
     "end_time": "2024-03-07T19:47:55.070853",
     "exception": false,
     "start_time": "2024-03-07T19:47:55.040626",
     "status": "completed"
    },
    "tags": []
   },
   "source": [
    "\n",
    "<div style=\"color:white; background-color:#5642C5; padding: 10px; border-radius: 15px; font-size: 150%; font-family: Verdana; text-align:center; -webkit-text-stroke-width: 1px; -webkit-text-stroke-color: black; text-shadow: 2px 2px 4px rgba(0, 0, 0, 0.7);\">\n",
    "    LSTM || ENCODER-DECODER MODEL || RNN \n",
    "</div>"
   ]
  },
  {
   "cell_type": "markdown",
   "id": "05ea1f49",
   "metadata": {
    "papermill": {
     "duration": 0.029338,
     "end_time": "2024-03-07T19:47:55.131796",
     "exception": false,
     "start_time": "2024-03-07T19:47:55.102458",
     "status": "completed"
    },
    "tags": []
   },
   "source": [
    "![MODEL](https://www.researchgate.net/publication/340443252/figure/fig1/AS:876840973520898@1586066587656/Encoder-decoder-model-using-stacked-LSTMs-for-encoding-and-one-LSTM-layer-for-decoding.ppm)"
   ]
  },
  {
   "cell_type": "code",
   "execution_count": 45,
   "id": "d46f1a78",
   "metadata": {
    "execution": {
     "iopub.execute_input": "2024-03-07T19:47:55.192241Z",
     "iopub.status.busy": "2024-03-07T19:47:55.191498Z",
     "iopub.status.idle": "2024-03-07T19:47:55.201081Z",
     "shell.execute_reply": "2024-03-07T19:47:55.199661Z"
    },
    "papermill": {
     "duration": 0.043032,
     "end_time": "2024-03-07T19:47:55.204137",
     "exception": false,
     "start_time": "2024-03-07T19:47:55.161105",
     "status": "completed"
    },
    "tags": []
   },
   "outputs": [],
   "source": [
    "def create_model(vocab_size_input, vocab_size_output, max_seq_length_input, max_seq_length_output, embedding_dim, hidden_units):\n",
    "    # Define encoder input layer\n",
    "    encoder_inputs = Input(shape=(max_seq_length_input,))\n",
    "    \n",
    "    # Define encoder embedding layer\n",
    "    encoder_embedding = Embedding(input_dim=vocab_size_input, output_dim=embedding_dim)(encoder_inputs)\n",
    "    \n",
    "    # Define encoder LSTM layer\n",
    "    encoder_lstm = LSTM(hidden_units, return_state=True)\n",
    "    encoder_outputs, state_h, state_c = encoder_lstm(encoder_embedding)\n",
    "    \n",
    "    # Discard encoder outputs and keep only the states\n",
    "    encoder_states = [state_h, state_c]\n",
    "    \n",
    "    # Define decoder input layer\n",
    "    decoder_inputs = Input(shape=(max_seq_length_output,))\n",
    "    \n",
    "    # Define decoder embedding layer\n",
    "    decoder_embedding = Embedding(input_dim=vocab_size_output, output_dim=embedding_dim)(decoder_inputs)\n",
    "    \n",
    "    # Define decoder LSTM layer with initial state set to encoder states\n",
    "    decoder_lstm = LSTM(hidden_units, return_sequences=True, return_state=True)\n",
    "    decoder_outputs, _, _ = decoder_lstm(decoder_embedding, initial_state=encoder_states)\n",
    "    \n",
    "    # Define decoder output layer\n",
    "    decoder_dense = Dense(vocab_size_output, activation='softmax')\n",
    "    decoder_outputs = decoder_dense(decoder_outputs)\n",
    "    \n",
    "    # Define the model\n",
    "    model = Model([encoder_inputs, decoder_inputs], decoder_outputs)\n",
    "    print(model.summary())\n",
    "    return model"
   ]
  },
  {
   "cell_type": "code",
   "execution_count": 46,
   "id": "537af5aa",
   "metadata": {
    "execution": {
     "iopub.execute_input": "2024-03-07T19:47:55.266349Z",
     "iopub.status.busy": "2024-03-07T19:47:55.265978Z",
     "iopub.status.idle": "2024-03-07T19:47:55.272235Z",
     "shell.execute_reply": "2024-03-07T19:47:55.271050Z"
    },
    "papermill": {
     "duration": 0.04096,
     "end_time": "2024-03-07T19:47:55.274417",
     "exception": false,
     "start_time": "2024-03-07T19:47:55.233457",
     "status": "completed"
    },
    "tags": []
   },
   "outputs": [
    {
     "name": "stdout",
     "output_type": "stream",
     "text": [
      "Vocabulary size for English: 56739\n",
      "Vocabulary size for Hindi: 75242\n"
     ]
    }
   ],
   "source": [
    "vocab_size_input = len(tok.word_index) + 1  # Add 1 for padding token\n",
    "#max_seq_length_input = max(len(str(sentence)) for sentence in data['English'])\n",
    "\n",
    "vocab_size_output = len(tok_hindi.word_index) + 1  # Add 1 for padding token\n",
    "#max_seq_length_output = max(len(str(sentence)) for sentence in data['Hindi'])\n",
    "\n",
    "print(\"Vocabulary size for English:\", vocab_size_input)\n",
    "#print(\"Maximum sequence length for English:\", max_seq_length_input)\n",
    "print(\"Vocabulary size for Hindi:\", vocab_size_output)\n",
    "#print(\"Maximum sequence length for Hindi:\", max_seq_length_output)\n"
   ]
  },
  {
   "cell_type": "code",
   "execution_count": 47,
   "id": "3c580ec3",
   "metadata": {
    "execution": {
     "iopub.execute_input": "2024-03-07T19:47:55.337306Z",
     "iopub.status.busy": "2024-03-07T19:47:55.337003Z",
     "iopub.status.idle": "2024-03-07T19:47:55.402028Z",
     "shell.execute_reply": "2024-03-07T19:47:55.400926Z"
    },
    "papermill": {
     "duration": 0.098456,
     "end_time": "2024-03-07T19:47:55.404105",
     "exception": false,
     "start_time": "2024-03-07T19:47:55.305649",
     "status": "completed"
    },
    "tags": []
   },
   "outputs": [
    {
     "name": "stdout",
     "output_type": "stream",
     "text": [
      "Maximum sequence length in combined english dataset:  218\n",
      "Maximum sequence length in combined hindi dataset:  134\n"
     ]
    }
   ],
   "source": [
    "def calculate_max_sequence_length(text):\n",
    "    # Concatenate x_train_seq and x_test_seq\n",
    "    combined_sequences = text\n",
    "    max_length_combined = max(len(sequence) for sequence in combined_sequences)\n",
    "\n",
    "    return max_length_combined\n",
    "\n",
    "max_seq_length_input = calculate_max_sequence_length(data['English'])\n",
    "print(\"Maximum sequence length in combined english dataset: \", max_seq_length_input)\n",
    "max_seq_length_output = calculate_max_sequence_length(data['Hindi']) - 1\n",
    "print(\"Maximum sequence length in combined hindi dataset: \", max_seq_length_output)"
   ]
  },
  {
   "cell_type": "code",
   "execution_count": 48,
   "id": "d525687b",
   "metadata": {
    "execution": {
     "iopub.execute_input": "2024-03-07T19:47:55.466526Z",
     "iopub.status.busy": "2024-03-07T19:47:55.466257Z",
     "iopub.status.idle": "2024-03-07T19:47:57.228041Z",
     "shell.execute_reply": "2024-03-07T19:47:57.227116Z"
    },
    "papermill": {
     "duration": 1.79541,
     "end_time": "2024-03-07T19:47:57.229988",
     "exception": false,
     "start_time": "2024-03-07T19:47:55.434578",
     "status": "completed"
    },
    "tags": []
   },
   "outputs": [
    {
     "data": {
      "text/html": [
       "<pre style=\"white-space:pre;overflow-x:auto;line-height:normal;font-family:Menlo,'DejaVu Sans Mono',consolas,'Courier New',monospace\"><span style=\"font-weight: bold\">Model: \"functional_1\"</span>\n",
       "</pre>\n"
      ],
      "text/plain": [
       "\u001b[1mModel: \"functional_1\"\u001b[0m\n"
      ]
     },
     "metadata": {},
     "output_type": "display_data"
    },
    {
     "data": {
      "text/html": [
       "<pre style=\"white-space:pre;overflow-x:auto;line-height:normal;font-family:Menlo,'DejaVu Sans Mono',consolas,'Courier New',monospace\">┏━━━━━━━━━━━━━━━━━━━━━┳━━━━━━━━━━━━━━━━━━━┳━━━━━━━━━━━━┳━━━━━━━━━━━━━━━━━━━┓\n",
       "┃<span style=\"font-weight: bold\"> Layer (type)        </span>┃<span style=\"font-weight: bold\"> Output Shape      </span>┃<span style=\"font-weight: bold\">    Param # </span>┃<span style=\"font-weight: bold\"> Connected to      </span>┃\n",
       "┡━━━━━━━━━━━━━━━━━━━━━╇━━━━━━━━━━━━━━━━━━━╇━━━━━━━━━━━━╇━━━━━━━━━━━━━━━━━━━┩\n",
       "│ input_layer         │ (<span style=\"color: #00d7ff; text-decoration-color: #00d7ff\">None</span>, <span style=\"color: #00af00; text-decoration-color: #00af00\">218</span>)       │          <span style=\"color: #00af00; text-decoration-color: #00af00\">0</span> │ -                 │\n",
       "│ (<span style=\"color: #0087ff; text-decoration-color: #0087ff\">InputLayer</span>)        │                   │            │                   │\n",
       "├─────────────────────┼───────────────────┼────────────┼───────────────────┤\n",
       "│ input_layer_1       │ (<span style=\"color: #00d7ff; text-decoration-color: #00d7ff\">None</span>, <span style=\"color: #00af00; text-decoration-color: #00af00\">134</span>)       │          <span style=\"color: #00af00; text-decoration-color: #00af00\">0</span> │ -                 │\n",
       "│ (<span style=\"color: #0087ff; text-decoration-color: #0087ff\">InputLayer</span>)        │                   │            │                   │\n",
       "├─────────────────────┼───────────────────┼────────────┼───────────────────┤\n",
       "│ embedding           │ (<span style=\"color: #00d7ff; text-decoration-color: #00d7ff\">None</span>, <span style=\"color: #00af00; text-decoration-color: #00af00\">218</span>, <span style=\"color: #00af00; text-decoration-color: #00af00\">100</span>)  │  <span style=\"color: #00af00; text-decoration-color: #00af00\">5,673,900</span> │ input_layer[<span style=\"color: #00af00; text-decoration-color: #00af00\">0</span>][<span style=\"color: #00af00; text-decoration-color: #00af00\">0</span>] │\n",
       "│ (<span style=\"color: #0087ff; text-decoration-color: #0087ff\">Embedding</span>)         │                   │            │                   │\n",
       "├─────────────────────┼───────────────────┼────────────┼───────────────────┤\n",
       "│ embedding_1         │ (<span style=\"color: #00d7ff; text-decoration-color: #00d7ff\">None</span>, <span style=\"color: #00af00; text-decoration-color: #00af00\">134</span>, <span style=\"color: #00af00; text-decoration-color: #00af00\">100</span>)  │  <span style=\"color: #00af00; text-decoration-color: #00af00\">7,524,200</span> │ input_layer_1[<span style=\"color: #00af00; text-decoration-color: #00af00\">0</span>]… │\n",
       "│ (<span style=\"color: #0087ff; text-decoration-color: #0087ff\">Embedding</span>)         │                   │            │                   │\n",
       "├─────────────────────┼───────────────────┼────────────┼───────────────────┤\n",
       "│ lstm (<span style=\"color: #0087ff; text-decoration-color: #0087ff\">LSTM</span>)         │ [(<span style=\"color: #00d7ff; text-decoration-color: #00d7ff\">None</span>, <span style=\"color: #00af00; text-decoration-color: #00af00\">256</span>),     │    <span style=\"color: #00af00; text-decoration-color: #00af00\">365,568</span> │ embedding[<span style=\"color: #00af00; text-decoration-color: #00af00\">0</span>][<span style=\"color: #00af00; text-decoration-color: #00af00\">0</span>]   │\n",
       "│                     │ (<span style=\"color: #00d7ff; text-decoration-color: #00d7ff\">None</span>, <span style=\"color: #00af00; text-decoration-color: #00af00\">256</span>),      │            │                   │\n",
       "│                     │ (<span style=\"color: #00d7ff; text-decoration-color: #00d7ff\">None</span>, <span style=\"color: #00af00; text-decoration-color: #00af00\">256</span>)]      │            │                   │\n",
       "├─────────────────────┼───────────────────┼────────────┼───────────────────┤\n",
       "│ lstm_1 (<span style=\"color: #0087ff; text-decoration-color: #0087ff\">LSTM</span>)       │ [(<span style=\"color: #00d7ff; text-decoration-color: #00d7ff\">None</span>, <span style=\"color: #00af00; text-decoration-color: #00af00\">134</span>,      │    <span style=\"color: #00af00; text-decoration-color: #00af00\">365,568</span> │ embedding_1[<span style=\"color: #00af00; text-decoration-color: #00af00\">0</span>][<span style=\"color: #00af00; text-decoration-color: #00af00\">0</span>… │\n",
       "│                     │ <span style=\"color: #00af00; text-decoration-color: #00af00\">256</span>), (<span style=\"color: #00d7ff; text-decoration-color: #00d7ff\">None</span>,      │            │ lstm[<span style=\"color: #00af00; text-decoration-color: #00af00\">0</span>][<span style=\"color: #00af00; text-decoration-color: #00af00\">1</span>],       │\n",
       "│                     │ <span style=\"color: #00af00; text-decoration-color: #00af00\">256</span>), (<span style=\"color: #00d7ff; text-decoration-color: #00d7ff\">None</span>,      │            │ lstm[<span style=\"color: #00af00; text-decoration-color: #00af00\">0</span>][<span style=\"color: #00af00; text-decoration-color: #00af00\">2</span>]        │\n",
       "│                     │ <span style=\"color: #00af00; text-decoration-color: #00af00\">256</span>)]             │            │                   │\n",
       "├─────────────────────┼───────────────────┼────────────┼───────────────────┤\n",
       "│ dense (<span style=\"color: #0087ff; text-decoration-color: #0087ff\">Dense</span>)       │ (<span style=\"color: #00d7ff; text-decoration-color: #00d7ff\">None</span>, <span style=\"color: #00af00; text-decoration-color: #00af00\">134</span>,       │ <span style=\"color: #00af00; text-decoration-color: #00af00\">19,337,194</span> │ lstm_1[<span style=\"color: #00af00; text-decoration-color: #00af00\">0</span>][<span style=\"color: #00af00; text-decoration-color: #00af00\">0</span>]      │\n",
       "│                     │ <span style=\"color: #00af00; text-decoration-color: #00af00\">75242</span>)            │            │                   │\n",
       "└─────────────────────┴───────────────────┴────────────┴───────────────────┘\n",
       "</pre>\n"
      ],
      "text/plain": [
       "┏━━━━━━━━━━━━━━━━━━━━━┳━━━━━━━━━━━━━━━━━━━┳━━━━━━━━━━━━┳━━━━━━━━━━━━━━━━━━━┓\n",
       "┃\u001b[1m \u001b[0m\u001b[1mLayer (type)       \u001b[0m\u001b[1m \u001b[0m┃\u001b[1m \u001b[0m\u001b[1mOutput Shape     \u001b[0m\u001b[1m \u001b[0m┃\u001b[1m \u001b[0m\u001b[1m   Param #\u001b[0m\u001b[1m \u001b[0m┃\u001b[1m \u001b[0m\u001b[1mConnected to     \u001b[0m\u001b[1m \u001b[0m┃\n",
       "┡━━━━━━━━━━━━━━━━━━━━━╇━━━━━━━━━━━━━━━━━━━╇━━━━━━━━━━━━╇━━━━━━━━━━━━━━━━━━━┩\n",
       "│ input_layer         │ (\u001b[38;5;45mNone\u001b[0m, \u001b[38;5;34m218\u001b[0m)       │          \u001b[38;5;34m0\u001b[0m │ -                 │\n",
       "│ (\u001b[38;5;33mInputLayer\u001b[0m)        │                   │            │                   │\n",
       "├─────────────────────┼───────────────────┼────────────┼───────────────────┤\n",
       "│ input_layer_1       │ (\u001b[38;5;45mNone\u001b[0m, \u001b[38;5;34m134\u001b[0m)       │          \u001b[38;5;34m0\u001b[0m │ -                 │\n",
       "│ (\u001b[38;5;33mInputLayer\u001b[0m)        │                   │            │                   │\n",
       "├─────────────────────┼───────────────────┼────────────┼───────────────────┤\n",
       "│ embedding           │ (\u001b[38;5;45mNone\u001b[0m, \u001b[38;5;34m218\u001b[0m, \u001b[38;5;34m100\u001b[0m)  │  \u001b[38;5;34m5,673,900\u001b[0m │ input_layer[\u001b[38;5;34m0\u001b[0m][\u001b[38;5;34m0\u001b[0m] │\n",
       "│ (\u001b[38;5;33mEmbedding\u001b[0m)         │                   │            │                   │\n",
       "├─────────────────────┼───────────────────┼────────────┼───────────────────┤\n",
       "│ embedding_1         │ (\u001b[38;5;45mNone\u001b[0m, \u001b[38;5;34m134\u001b[0m, \u001b[38;5;34m100\u001b[0m)  │  \u001b[38;5;34m7,524,200\u001b[0m │ input_layer_1[\u001b[38;5;34m0\u001b[0m]… │\n",
       "│ (\u001b[38;5;33mEmbedding\u001b[0m)         │                   │            │                   │\n",
       "├─────────────────────┼───────────────────┼────────────┼───────────────────┤\n",
       "│ lstm (\u001b[38;5;33mLSTM\u001b[0m)         │ [(\u001b[38;5;45mNone\u001b[0m, \u001b[38;5;34m256\u001b[0m),     │    \u001b[38;5;34m365,568\u001b[0m │ embedding[\u001b[38;5;34m0\u001b[0m][\u001b[38;5;34m0\u001b[0m]   │\n",
       "│                     │ (\u001b[38;5;45mNone\u001b[0m, \u001b[38;5;34m256\u001b[0m),      │            │                   │\n",
       "│                     │ (\u001b[38;5;45mNone\u001b[0m, \u001b[38;5;34m256\u001b[0m)]      │            │                   │\n",
       "├─────────────────────┼───────────────────┼────────────┼───────────────────┤\n",
       "│ lstm_1 (\u001b[38;5;33mLSTM\u001b[0m)       │ [(\u001b[38;5;45mNone\u001b[0m, \u001b[38;5;34m134\u001b[0m,      │    \u001b[38;5;34m365,568\u001b[0m │ embedding_1[\u001b[38;5;34m0\u001b[0m][\u001b[38;5;34m0\u001b[0m… │\n",
       "│                     │ \u001b[38;5;34m256\u001b[0m), (\u001b[38;5;45mNone\u001b[0m,      │            │ lstm[\u001b[38;5;34m0\u001b[0m][\u001b[38;5;34m1\u001b[0m],       │\n",
       "│                     │ \u001b[38;5;34m256\u001b[0m), (\u001b[38;5;45mNone\u001b[0m,      │            │ lstm[\u001b[38;5;34m0\u001b[0m][\u001b[38;5;34m2\u001b[0m]        │\n",
       "│                     │ \u001b[38;5;34m256\u001b[0m)]             │            │                   │\n",
       "├─────────────────────┼───────────────────┼────────────┼───────────────────┤\n",
       "│ dense (\u001b[38;5;33mDense\u001b[0m)       │ (\u001b[38;5;45mNone\u001b[0m, \u001b[38;5;34m134\u001b[0m,       │ \u001b[38;5;34m19,337,194\u001b[0m │ lstm_1[\u001b[38;5;34m0\u001b[0m][\u001b[38;5;34m0\u001b[0m]      │\n",
       "│                     │ \u001b[38;5;34m75242\u001b[0m)            │            │                   │\n",
       "└─────────────────────┴───────────────────┴────────────┴───────────────────┘\n"
      ]
     },
     "metadata": {},
     "output_type": "display_data"
    },
    {
     "data": {
      "text/html": [
       "<pre style=\"white-space:pre;overflow-x:auto;line-height:normal;font-family:Menlo,'DejaVu Sans Mono',consolas,'Courier New',monospace\"><span style=\"font-weight: bold\"> Total params: </span><span style=\"color: #00af00; text-decoration-color: #00af00\">33,266,430</span> (126.90 MB)\n",
       "</pre>\n"
      ],
      "text/plain": [
       "\u001b[1m Total params: \u001b[0m\u001b[38;5;34m33,266,430\u001b[0m (126.90 MB)\n"
      ]
     },
     "metadata": {},
     "output_type": "display_data"
    },
    {
     "data": {
      "text/html": [
       "<pre style=\"white-space:pre;overflow-x:auto;line-height:normal;font-family:Menlo,'DejaVu Sans Mono',consolas,'Courier New',monospace\"><span style=\"font-weight: bold\"> Trainable params: </span><span style=\"color: #00af00; text-decoration-color: #00af00\">33,266,430</span> (126.90 MB)\n",
       "</pre>\n"
      ],
      "text/plain": [
       "\u001b[1m Trainable params: \u001b[0m\u001b[38;5;34m33,266,430\u001b[0m (126.90 MB)\n"
      ]
     },
     "metadata": {},
     "output_type": "display_data"
    },
    {
     "data": {
      "text/html": [
       "<pre style=\"white-space:pre;overflow-x:auto;line-height:normal;font-family:Menlo,'DejaVu Sans Mono',consolas,'Courier New',monospace\"><span style=\"font-weight: bold\"> Non-trainable params: </span><span style=\"color: #00af00; text-decoration-color: #00af00\">0</span> (0.00 B)\n",
       "</pre>\n"
      ],
      "text/plain": [
       "\u001b[1m Non-trainable params: \u001b[0m\u001b[38;5;34m0\u001b[0m (0.00 B)\n"
      ]
     },
     "metadata": {},
     "output_type": "display_data"
    },
    {
     "name": "stdout",
     "output_type": "stream",
     "text": [
      "None\n"
     ]
    }
   ],
   "source": [
    "embedding_dim = 100  \n",
    "hidden_units = 256  \n",
    "batch_size = 64\n",
    "\n",
    "\n",
    "model = create_model(vocab_size_input, vocab_size_output, max_seq_length_input, max_seq_length_output, embedding_dim, hidden_units)\n",
    "\n",
    "model.compile(optimizer='adam', loss='sparse_categorical_crossentropy',metrics=['accuracy'])"
   ]
  },
  {
   "cell_type": "code",
   "execution_count": 49,
   "id": "074ad733",
   "metadata": {
    "execution": {
     "iopub.execute_input": "2024-03-07T19:47:57.294051Z",
     "iopub.status.busy": "2024-03-07T19:47:57.293727Z",
     "iopub.status.idle": "2024-03-07T22:53:49.892612Z",
     "shell.execute_reply": "2024-03-07T22:53:49.891602Z"
    },
    "papermill": {
     "duration": 11153.488653,
     "end_time": "2024-03-07T22:53:50.749867",
     "exception": false,
     "start_time": "2024-03-07T19:47:57.261214",
     "status": "completed"
    },
    "tags": []
   },
   "outputs": [
    {
     "name": "stdout",
     "output_type": "stream",
     "text": [
      "Epoch 1/6\n",
      "\u001b[1m1628/1628\u001b[0m \u001b[32m━━━━━━━━━━━━━━━━━━━━\u001b[0m\u001b[37m\u001b[0m \u001b[1m1819s\u001b[0m 1s/step - accuracy: 0.9479 - loss: 1.0266 - val_accuracy: 0.9545 - val_loss: 0.4437\n",
      "Epoch 2/6\n",
      "\u001b[1m1628/1628\u001b[0m \u001b[32m━━━━━━━━━━━━━━━━━━━━\u001b[0m\u001b[37m\u001b[0m \u001b[1m1837s\u001b[0m 1s/step - accuracy: 0.9545 - loss: 0.4355 - val_accuracy: 0.9546 - val_loss: 0.4331\n",
      "Epoch 3/6\n",
      "\u001b[1m1628/1628\u001b[0m \u001b[32m━━━━━━━━━━━━━━━━━━━━\u001b[0m\u001b[37m\u001b[0m \u001b[1m1890s\u001b[0m 1s/step - accuracy: 0.9549 - loss: 0.4139 - val_accuracy: 0.9548 - val_loss: 0.4171\n",
      "Epoch 4/6\n",
      "\u001b[1m1628/1628\u001b[0m \u001b[32m━━━━━━━━━━━━━━━━━━━━\u001b[0m\u001b[37m\u001b[0m \u001b[1m1886s\u001b[0m 1s/step - accuracy: 0.9552 - loss: 0.3870 - val_accuracy: 0.9555 - val_loss: 0.3959\n",
      "Epoch 5/6\n",
      "\u001b[1m1628/1628\u001b[0m \u001b[32m━━━━━━━━━━━━━━━━━━━━\u001b[0m\u001b[37m\u001b[0m \u001b[1m1856s\u001b[0m 1s/step - accuracy: 0.9563 - loss: 0.3556 - val_accuracy: 0.9567 - val_loss: 0.3818\n",
      "Epoch 6/6\n",
      "\u001b[1m1628/1628\u001b[0m \u001b[32m━━━━━━━━━━━━━━━━━━━━\u001b[0m\u001b[37m\u001b[0m \u001b[1m1864s\u001b[0m 1s/step - accuracy: 0.9582 - loss: 0.3254 - val_accuracy: 0.9581 - val_loss: 0.3710\n"
     ]
    }
   ],
   "source": [
    "from keras.callbacks import EarlyStopping, ModelCheckpoint\n",
    "\n",
    "# Define callbacks\n",
    "callbacks = [\n",
    "    EarlyStopping(patience=3, monitor='val_loss'),  # Stop training if validation loss stops improving for 3 epochs\n",
    "    ModelCheckpoint(filepath='model_weights.weights.h5', save_best_only=True, save_weights_only=True, monitor='val_loss')  # Save the model with the best validation loss\n",
    "]\n",
    "\n",
    "# Fit the model with callbacks\n",
    "history = model.fit(x=[x_train_main, y_train_main[:, :-1]],  # Exclude last token from decoder input\n",
    "                    y=y_train_main[:, 1:],  # Exclude first token from decoder target\n",
    "                    batch_size=batch_size,\n",
    "                    epochs=6,\n",
    "                    validation_data=([x_test_main, y_test_main[:, :-1]], y_test_main[:, 1:]),\n",
    "                    callbacks=callbacks)"
   ]
  },
  {
   "cell_type": "code",
   "execution_count": 50,
   "id": "02599871",
   "metadata": {
    "execution": {
     "iopub.execute_input": "2024-03-07T22:53:52.427868Z",
     "iopub.status.busy": "2024-03-07T22:53:52.427490Z",
     "iopub.status.idle": "2024-03-07T22:53:53.169105Z",
     "shell.execute_reply": "2024-03-07T22:53:53.168023Z"
    },
    "papermill": {
     "duration": 1.580489,
     "end_time": "2024-03-07T22:53:53.171221",
     "exception": false,
     "start_time": "2024-03-07T22:53:51.590732",
     "status": "completed"
    },
    "tags": []
   },
   "outputs": [
    {
     "name": "stdout",
     "output_type": "stream",
     "text": [
      "Model weights saved successfully.\n"
     ]
    }
   ],
   "source": [
    "\n",
    "weights_file_path = '/kaggle/working/model_weights_main.weights.h5'\n",
    "\n",
    "model.save_weights(weights_file_path)\n",
    "\n",
    "print(\"Model weights saved successfully.\")"
   ]
  },
  {
   "cell_type": "markdown",
   "id": "00fb1c84",
   "metadata": {
    "papermill": {
     "duration": 0.87246,
     "end_time": "2024-03-07T22:53:55.038628",
     "exception": false,
     "start_time": "2024-03-07T22:53:54.166168",
     "status": "completed"
    },
    "tags": []
   },
   "source": [
    "\n",
    "<div style=\"color:white; background-color:#5642C5; padding: 10px; border-radius: 15px; font-size: 150%; font-family: Verdana; text-align:center; -webkit-text-stroke-width: 1px; -webkit-text-stroke-color: black; text-shadow: 2px 2px 4px rgba(0, 0, 0, 0.7);\">\n",
    "    Model Training Graph \n",
    "</div>"
   ]
  },
  {
   "cell_type": "code",
   "execution_count": 51,
   "id": "5d17380a",
   "metadata": {
    "execution": {
     "iopub.execute_input": "2024-03-07T22:53:56.825739Z",
     "iopub.status.busy": "2024-03-07T22:53:56.825295Z",
     "iopub.status.idle": "2024-03-07T22:53:57.103878Z",
     "shell.execute_reply": "2024-03-07T22:53:57.102814Z"
    },
    "papermill": {
     "duration": 1.213311,
     "end_time": "2024-03-07T22:53:57.105955",
     "exception": false,
     "start_time": "2024-03-07T22:53:55.892644",
     "status": "completed"
    },
    "tags": []
   },
   "outputs": [
    {
     "data": {
      "image/png": "[encoded data removed]",
      "text/plain": [
       "<Figure size 640x480 with 1 Axes>"
      ]
     },
     "metadata": {},
     "output_type": "display_data"
    }
   ],
   "source": [
    "plt.plot(history.history['loss'])\n",
    "plt.plot(history.history['val_loss'])\n",
    "plt.title('Model loss')\n",
    "plt.ylabel('Loss')\n",
    "plt.xlabel('Epoch')\n",
    "plt.legend(['Train', 'Validation'], loc='upper left')\n",
    "plt.show()"
   ]
  },
  {
   "cell_type": "code",
   "execution_count": 52,
   "id": "165e932b",
   "metadata": {
    "execution": {
     "iopub.execute_input": "2024-03-07T22:53:58.765117Z",
     "iopub.status.busy": "2024-03-07T22:53:58.764351Z",
     "iopub.status.idle": "2024-03-07T22:53:59.046785Z",
     "shell.execute_reply": "2024-03-07T22:53:59.045850Z"
    },
    "papermill": {
     "duration": 1.115381,
     "end_time": "2024-03-07T22:53:59.048764",
     "exception": false,
     "start_time": "2024-03-07T22:53:57.933383",
     "status": "completed"
    },
    "tags": []
   },
   "outputs": [
    {
     "data": {
      "image/png": "[encoded data removed]",
      "text/plain": [
       "<Figure size 640x480 with 1 Axes>"
      ]
     },
     "metadata": {},
     "output_type": "display_data"
    }
   ],
   "source": [
    "plt.plot(history.history['accuracy'])\n",
    "plt.plot(history.history['val_accuracy'])\n",
    "plt.title('Model Accuracy')\n",
    "plt.ylabel('Accuracy')\n",
    "plt.xlabel('Epoch')\n",
    "plt.legend(['Train', 'Validation'], loc='upper left')\n",
    "plt.show()"
   ]
  },
  {
   "cell_type": "markdown",
   "id": "9c48875f",
   "metadata": {
    "papermill": {
     "duration": 0.896206,
     "end_time": "2024-03-07T22:54:00.774325",
     "exception": false,
     "start_time": "2024-03-07T22:53:59.878119",
     "status": "completed"
    },
    "tags": []
   },
   "source": [
    "\n",
    "<div style=\"color:white; background-color:#5642C5; padding: 10px; border-radius: 15px; font-size: 150%; font-family: Verdana; text-align:center; -webkit-text-stroke-width: 1px; -webkit-text-stroke-color: black; text-shadow: 2px 2px 4px rgba(0, 0, 0, 0.7);\">\n",
    "    Prediction \n",
    "</div>"
   ]
  },
  {
   "cell_type": "code",
   "execution_count": 53,
   "id": "d5513498",
   "metadata": {
    "execution": {
     "iopub.execute_input": "2024-03-07T22:54:02.459490Z",
     "iopub.status.busy": "2024-03-07T22:54:02.458559Z",
     "iopub.status.idle": "2024-03-07T22:54:02.784692Z",
     "shell.execute_reply": "2024-03-07T22:54:02.783583Z"
    },
    "papermill": {
     "duration": 1.161521,
     "end_time": "2024-03-07T22:54:02.787231",
     "exception": false,
     "start_time": "2024-03-07T22:54:01.625710",
     "status": "completed"
    },
    "tags": []
   },
   "outputs": [
    {
     "data": {
      "text/html": [
       "<pre style=\"white-space:pre;overflow-x:auto;line-height:normal;font-family:Menlo,'DejaVu Sans Mono',consolas,'Courier New',monospace\"><span style=\"font-weight: bold\">Model: \"functional_3\"</span>\n",
       "</pre>\n"
      ],
      "text/plain": [
       "\u001b[1mModel: \"functional_3\"\u001b[0m\n"
      ]
     },
     "metadata": {},
     "output_type": "display_data"
    },
    {
     "data": {
      "text/html": [
       "<pre style=\"white-space:pre;overflow-x:auto;line-height:normal;font-family:Menlo,'DejaVu Sans Mono',consolas,'Courier New',monospace\">┏━━━━━━━━━━━━━━━━━━━━━┳━━━━━━━━━━━━━━━━━━━┳━━━━━━━━━━━━┳━━━━━━━━━━━━━━━━━━━┓\n",
       "┃<span style=\"font-weight: bold\"> Layer (type)        </span>┃<span style=\"font-weight: bold\"> Output Shape      </span>┃<span style=\"font-weight: bold\">    Param # </span>┃<span style=\"font-weight: bold\"> Connected to      </span>┃\n",
       "┡━━━━━━━━━━━━━━━━━━━━━╇━━━━━━━━━━━━━━━━━━━╇━━━━━━━━━━━━╇━━━━━━━━━━━━━━━━━━━┩\n",
       "│ input_layer_2       │ (<span style=\"color: #00d7ff; text-decoration-color: #00d7ff\">None</span>, <span style=\"color: #00af00; text-decoration-color: #00af00\">218</span>)       │          <span style=\"color: #00af00; text-decoration-color: #00af00\">0</span> │ -                 │\n",
       "│ (<span style=\"color: #0087ff; text-decoration-color: #0087ff\">InputLayer</span>)        │                   │            │                   │\n",
       "├─────────────────────┼───────────────────┼────────────┼───────────────────┤\n",
       "│ input_layer_3       │ (<span style=\"color: #00d7ff; text-decoration-color: #00d7ff\">None</span>, <span style=\"color: #00af00; text-decoration-color: #00af00\">134</span>)       │          <span style=\"color: #00af00; text-decoration-color: #00af00\">0</span> │ -                 │\n",
       "│ (<span style=\"color: #0087ff; text-decoration-color: #0087ff\">InputLayer</span>)        │                   │            │                   │\n",
       "├─────────────────────┼───────────────────┼────────────┼───────────────────┤\n",
       "│ embedding_2         │ (<span style=\"color: #00d7ff; text-decoration-color: #00d7ff\">None</span>, <span style=\"color: #00af00; text-decoration-color: #00af00\">218</span>, <span style=\"color: #00af00; text-decoration-color: #00af00\">100</span>)  │  <span style=\"color: #00af00; text-decoration-color: #00af00\">5,673,900</span> │ input_layer_2[<span style=\"color: #00af00; text-decoration-color: #00af00\">0</span>]… │\n",
       "│ (<span style=\"color: #0087ff; text-decoration-color: #0087ff\">Embedding</span>)         │                   │            │                   │\n",
       "├─────────────────────┼───────────────────┼────────────┼───────────────────┤\n",
       "│ embedding_3         │ (<span style=\"color: #00d7ff; text-decoration-color: #00d7ff\">None</span>, <span style=\"color: #00af00; text-decoration-color: #00af00\">134</span>, <span style=\"color: #00af00; text-decoration-color: #00af00\">100</span>)  │  <span style=\"color: #00af00; text-decoration-color: #00af00\">7,524,200</span> │ input_layer_3[<span style=\"color: #00af00; text-decoration-color: #00af00\">0</span>]… │\n",
       "│ (<span style=\"color: #0087ff; text-decoration-color: #0087ff\">Embedding</span>)         │                   │            │                   │\n",
       "├─────────────────────┼───────────────────┼────────────┼───────────────────┤\n",
       "│ lstm_2 (<span style=\"color: #0087ff; text-decoration-color: #0087ff\">LSTM</span>)       │ [(<span style=\"color: #00d7ff; text-decoration-color: #00d7ff\">None</span>, <span style=\"color: #00af00; text-decoration-color: #00af00\">256</span>),     │    <span style=\"color: #00af00; text-decoration-color: #00af00\">365,568</span> │ embedding_2[<span style=\"color: #00af00; text-decoration-color: #00af00\">0</span>][<span style=\"color: #00af00; text-decoration-color: #00af00\">0</span>] │\n",
       "│                     │ (<span style=\"color: #00d7ff; text-decoration-color: #00d7ff\">None</span>, <span style=\"color: #00af00; text-decoration-color: #00af00\">256</span>),      │            │                   │\n",
       "│                     │ (<span style=\"color: #00d7ff; text-decoration-color: #00d7ff\">None</span>, <span style=\"color: #00af00; text-decoration-color: #00af00\">256</span>)]      │            │                   │\n",
       "├─────────────────────┼───────────────────┼────────────┼───────────────────┤\n",
       "│ lstm_3 (<span style=\"color: #0087ff; text-decoration-color: #0087ff\">LSTM</span>)       │ [(<span style=\"color: #00d7ff; text-decoration-color: #00d7ff\">None</span>, <span style=\"color: #00af00; text-decoration-color: #00af00\">134</span>,      │    <span style=\"color: #00af00; text-decoration-color: #00af00\">365,568</span> │ embedding_3[<span style=\"color: #00af00; text-decoration-color: #00af00\">0</span>][<span style=\"color: #00af00; text-decoration-color: #00af00\">0</span>… │\n",
       "│                     │ <span style=\"color: #00af00; text-decoration-color: #00af00\">256</span>), (<span style=\"color: #00d7ff; text-decoration-color: #00d7ff\">None</span>,      │            │ lstm_2[<span style=\"color: #00af00; text-decoration-color: #00af00\">0</span>][<span style=\"color: #00af00; text-decoration-color: #00af00\">1</span>],     │\n",
       "│                     │ <span style=\"color: #00af00; text-decoration-color: #00af00\">256</span>), (<span style=\"color: #00d7ff; text-decoration-color: #00d7ff\">None</span>,      │            │ lstm_2[<span style=\"color: #00af00; text-decoration-color: #00af00\">0</span>][<span style=\"color: #00af00; text-decoration-color: #00af00\">2</span>]      │\n",
       "│                     │ <span style=\"color: #00af00; text-decoration-color: #00af00\">256</span>)]             │            │                   │\n",
       "├─────────────────────┼───────────────────┼────────────┼───────────────────┤\n",
       "│ dense_1 (<span style=\"color: #0087ff; text-decoration-color: #0087ff\">Dense</span>)     │ (<span style=\"color: #00d7ff; text-decoration-color: #00d7ff\">None</span>, <span style=\"color: #00af00; text-decoration-color: #00af00\">134</span>,       │ <span style=\"color: #00af00; text-decoration-color: #00af00\">19,337,194</span> │ lstm_3[<span style=\"color: #00af00; text-decoration-color: #00af00\">0</span>][<span style=\"color: #00af00; text-decoration-color: #00af00\">0</span>]      │\n",
       "│                     │ <span style=\"color: #00af00; text-decoration-color: #00af00\">75242</span>)            │            │                   │\n",
       "└─────────────────────┴───────────────────┴────────────┴───────────────────┘\n",
       "</pre>\n"
      ],
      "text/plain": [
       "┏━━━━━━━━━━━━━━━━━━━━━┳━━━━━━━━━━━━━━━━━━━┳━━━━━━━━━━━━┳━━━━━━━━━━━━━━━━━━━┓\n",
       "┃\u001b[1m \u001b[0m\u001b[1mLayer (type)       \u001b[0m\u001b[1m \u001b[0m┃\u001b[1m \u001b[0m\u001b[1mOutput Shape     \u001b[0m\u001b[1m \u001b[0m┃\u001b[1m \u001b[0m\u001b[1m   Param #\u001b[0m\u001b[1m \u001b[0m┃\u001b[1m \u001b[0m\u001b[1mConnected to     \u001b[0m\u001b[1m \u001b[0m┃\n",
       "┡━━━━━━━━━━━━━━━━━━━━━╇━━━━━━━━━━━━━━━━━━━╇━━━━━━━━━━━━╇━━━━━━━━━━━━━━━━━━━┩\n",
       "│ input_layer_2       │ (\u001b[38;5;45mNone\u001b[0m, \u001b[38;5;34m218\u001b[0m)       │          \u001b[38;5;34m0\u001b[0m │ -                 │\n",
       "│ (\u001b[38;5;33mInputLayer\u001b[0m)        │                   │            │                   │\n",
       "├─────────────────────┼───────────────────┼────────────┼───────────────────┤\n",
       "│ input_layer_3       │ (\u001b[38;5;45mNone\u001b[0m, \u001b[38;5;34m134\u001b[0m)       │          \u001b[38;5;34m0\u001b[0m │ -                 │\n",
       "│ (\u001b[38;5;33mInputLayer\u001b[0m)        │                   │            │                   │\n",
       "├─────────────────────┼───────────────────┼────────────┼───────────────────┤\n",
       "│ embedding_2         │ (\u001b[38;5;45mNone\u001b[0m, \u001b[38;5;34m218\u001b[0m, \u001b[38;5;34m100\u001b[0m)  │  \u001b[38;5;34m5,673,900\u001b[0m │ input_layer_2[\u001b[38;5;34m0\u001b[0m]… │\n",
       "│ (\u001b[38;5;33mEmbedding\u001b[0m)         │                   │            │                   │\n",
       "├─────────────────────┼───────────────────┼────────────┼───────────────────┤\n",
       "│ embedding_3         │ (\u001b[38;5;45mNone\u001b[0m, \u001b[38;5;34m134\u001b[0m, \u001b[38;5;34m100\u001b[0m)  │  \u001b[38;5;34m7,524,200\u001b[0m │ input_layer_3[\u001b[38;5;34m0\u001b[0m]… │\n",
       "│ (\u001b[38;5;33mEmbedding\u001b[0m)         │                   │            │                   │\n",
       "├─────────────────────┼───────────────────┼────────────┼───────────────────┤\n",
       "│ lstm_2 (\u001b[38;5;33mLSTM\u001b[0m)       │ [(\u001b[38;5;45mNone\u001b[0m, \u001b[38;5;34m256\u001b[0m),     │    \u001b[38;5;34m365,568\u001b[0m │ embedding_2[\u001b[38;5;34m0\u001b[0m][\u001b[38;5;34m0\u001b[0m] │\n",
       "│                     │ (\u001b[38;5;45mNone\u001b[0m, \u001b[38;5;34m256\u001b[0m),      │            │                   │\n",
       "│                     │ (\u001b[38;5;45mNone\u001b[0m, \u001b[38;5;34m256\u001b[0m)]      │            │                   │\n",
       "├─────────────────────┼───────────────────┼────────────┼───────────────────┤\n",
       "│ lstm_3 (\u001b[38;5;33mLSTM\u001b[0m)       │ [(\u001b[38;5;45mNone\u001b[0m, \u001b[38;5;34m134\u001b[0m,      │    \u001b[38;5;34m365,568\u001b[0m │ embedding_3[\u001b[38;5;34m0\u001b[0m][\u001b[38;5;34m0\u001b[0m… │\n",
       "│                     │ \u001b[38;5;34m256\u001b[0m), (\u001b[38;5;45mNone\u001b[0m,      │            │ lstm_2[\u001b[38;5;34m0\u001b[0m][\u001b[38;5;34m1\u001b[0m],     │\n",
       "│                     │ \u001b[38;5;34m256\u001b[0m), (\u001b[38;5;45mNone\u001b[0m,      │            │ lstm_2[\u001b[38;5;34m0\u001b[0m][\u001b[38;5;34m2\u001b[0m]      │\n",
       "│                     │ \u001b[38;5;34m256\u001b[0m)]             │            │                   │\n",
       "├─────────────────────┼───────────────────┼────────────┼───────────────────┤\n",
       "│ dense_1 (\u001b[38;5;33mDense\u001b[0m)     │ (\u001b[38;5;45mNone\u001b[0m, \u001b[38;5;34m134\u001b[0m,       │ \u001b[38;5;34m19,337,194\u001b[0m │ lstm_3[\u001b[38;5;34m0\u001b[0m][\u001b[38;5;34m0\u001b[0m]      │\n",
       "│                     │ \u001b[38;5;34m75242\u001b[0m)            │            │                   │\n",
       "└─────────────────────┴───────────────────┴────────────┴───────────────────┘\n"
      ]
     },
     "metadata": {},
     "output_type": "display_data"
    },
    {
     "data": {
      "text/html": [
       "<pre style=\"white-space:pre;overflow-x:auto;line-height:normal;font-family:Menlo,'DejaVu Sans Mono',consolas,'Courier New',monospace\"><span style=\"font-weight: bold\"> Total params: </span><span style=\"color: #00af00; text-decoration-color: #00af00\">33,266,430</span> (126.90 MB)\n",
       "</pre>\n"
      ],
      "text/plain": [
       "\u001b[1m Total params: \u001b[0m\u001b[38;5;34m33,266,430\u001b[0m (126.90 MB)\n"
      ]
     },
     "metadata": {},
     "output_type": "display_data"
    },
    {
     "data": {
      "text/html": [
       "<pre style=\"white-space:pre;overflow-x:auto;line-height:normal;font-family:Menlo,'DejaVu Sans Mono',consolas,'Courier New',monospace\"><span style=\"font-weight: bold\"> Trainable params: </span><span style=\"color: #00af00; text-decoration-color: #00af00\">33,266,430</span> (126.90 MB)\n",
       "</pre>\n"
      ],
      "text/plain": [
       "\u001b[1m Trainable params: \u001b[0m\u001b[38;5;34m33,266,430\u001b[0m (126.90 MB)\n"
      ]
     },
     "metadata": {},
     "output_type": "display_data"
    },
    {
     "data": {
      "text/html": [
       "<pre style=\"white-space:pre;overflow-x:auto;line-height:normal;font-family:Menlo,'DejaVu Sans Mono',consolas,'Courier New',monospace\"><span style=\"font-weight: bold\"> Non-trainable params: </span><span style=\"color: #00af00; text-decoration-color: #00af00\">0</span> (0.00 B)\n",
       "</pre>\n"
      ],
      "text/plain": [
       "\u001b[1m Non-trainable params: \u001b[0m\u001b[38;5;34m0\u001b[0m (0.00 B)\n"
      ]
     },
     "metadata": {},
     "output_type": "display_data"
    },
    {
     "name": "stdout",
     "output_type": "stream",
     "text": [
      "None\n"
     ]
    }
   ],
   "source": [
    "model = create_model(vocab_size_input, vocab_size_output, max_seq_length_input, max_seq_length_output, embedding_dim, hidden_units)\n",
    "# Load the saved weights into the model\n",
    "model.load_weights('/kaggle/working/model_weights.weights.h5')"
   ]
  },
  {
   "cell_type": "code",
   "execution_count": 54,
   "id": "0521daa6",
   "metadata": {
    "execution": {
     "iopub.execute_input": "2024-03-07T22:54:04.542153Z",
     "iopub.status.busy": "2024-03-07T22:54:04.541778Z",
     "iopub.status.idle": "2024-03-07T22:54:18.380085Z",
     "shell.execute_reply": "2024-03-07T22:54:18.379038Z"
    },
    "papermill": {
     "duration": 14.757788,
     "end_time": "2024-03-07T22:54:18.382720",
     "exception": false,
     "start_time": "2024-03-07T22:54:03.624932",
     "status": "completed"
    },
    "tags": []
   },
   "outputs": [
    {
     "name": "stdout",
     "output_type": "stream",
     "text": [
      "\u001b[1m1/1\u001b[0m \u001b[32m━━━━━━━━━━━━━━━━━━━━\u001b[0m\u001b[37m\u001b[0m \u001b[1m0s\u001b[0m 207ms/step\n",
      "\u001b[1m1/1\u001b[0m \u001b[32m━━━━━━━━━━━━━━━━━━━━\u001b[0m\u001b[37m\u001b[0m \u001b[1m0s\u001b[0m 22ms/step\n",
      "\u001b[1m1/1\u001b[0m \u001b[32m━━━━━━━━━━━━━━━━━━━━\u001b[0m\u001b[37m\u001b[0m \u001b[1m0s\u001b[0m 21ms/step\n",
      "\u001b[1m1/1\u001b[0m \u001b[32m━━━━━━━━━━━━━━━━━━━━\u001b[0m\u001b[37m\u001b[0m \u001b[1m0s\u001b[0m 21ms/step\n",
      "\u001b[1m1/1\u001b[0m \u001b[32m━━━━━━━━━━━━━━━━━━━━\u001b[0m\u001b[37m\u001b[0m \u001b[1m0s\u001b[0m 21ms/step\n",
      "\u001b[1m1/1\u001b[0m \u001b[32m━━━━━━━━━━━━━━━━━━━━\u001b[0m\u001b[37m\u001b[0m \u001b[1m0s\u001b[0m 22ms/step\n",
      "\u001b[1m1/1\u001b[0m \u001b[32m━━━━━━━━━━━━━━━━━━━━\u001b[0m\u001b[37m\u001b[0m \u001b[1m0s\u001b[0m 22ms/step\n",
      "\u001b[1m1/1\u001b[0m \u001b[32m━━━━━━━━━━━━━━━━━━━━\u001b[0m\u001b[37m\u001b[0m \u001b[1m0s\u001b[0m 21ms/step\n",
      "\u001b[1m1/1\u001b[0m \u001b[32m━━━━━━━━━━━━━━━━━━━━\u001b[0m\u001b[37m\u001b[0m \u001b[1m0s\u001b[0m 21ms/step\n",
      "\u001b[1m1/1\u001b[0m \u001b[32m━━━━━━━━━━━━━━━━━━━━\u001b[0m\u001b[37m\u001b[0m \u001b[1m0s\u001b[0m 21ms/step\n",
      "\u001b[1m1/1\u001b[0m \u001b[32m━━━━━━━━━━━━━━━━━━━━\u001b[0m\u001b[37m\u001b[0m \u001b[1m0s\u001b[0m 23ms/step\n",
      "\u001b[1m1/1\u001b[0m \u001b[32m━━━━━━━━━━━━━━━━━━━━\u001b[0m\u001b[37m\u001b[0m \u001b[1m0s\u001b[0m 23ms/step\n",
      "\u001b[1m1/1\u001b[0m \u001b[32m━━━━━━━━━━━━━━━━━━━━\u001b[0m\u001b[37m\u001b[0m \u001b[1m0s\u001b[0m 22ms/step\n",
      "\u001b[1m1/1\u001b[0m \u001b[32m━━━━━━━━━━━━━━━━━━━━\u001b[0m\u001b[37m\u001b[0m \u001b[1m0s\u001b[0m 22ms/step\n",
      "\u001b[1m1/1\u001b[0m \u001b[32m━━━━━━━━━━━━━━━━━━━━\u001b[0m\u001b[37m\u001b[0m \u001b[1m0s\u001b[0m 21ms/step\n",
      "\u001b[1m1/1\u001b[0m \u001b[32m━━━━━━━━━━━━━━━━━━━━\u001b[0m\u001b[37m\u001b[0m \u001b[1m0s\u001b[0m 22ms/step\n",
      "\u001b[1m1/1\u001b[0m \u001b[32m━━━━━━━━━━━━━━━━━━━━\u001b[0m\u001b[37m\u001b[0m \u001b[1m0s\u001b[0m 23ms/step\n",
      "\u001b[1m1/1\u001b[0m \u001b[32m━━━━━━━━━━━━━━━━━━━━\u001b[0m\u001b[37m\u001b[0m \u001b[1m0s\u001b[0m 24ms/step\n",
      "\u001b[1m1/1\u001b[0m \u001b[32m━━━━━━━━━━━━━━━━━━━━\u001b[0m\u001b[37m\u001b[0m \u001b[1m0s\u001b[0m 22ms/step\n",
      "\u001b[1m1/1\u001b[0m \u001b[32m━━━━━━━━━━━━━━━━━━━━\u001b[0m\u001b[37m\u001b[0m \u001b[1m0s\u001b[0m 21ms/step\n",
      "\u001b[1m1/1\u001b[0m \u001b[32m━━━━━━━━━━━━━━━━━━━━\u001b[0m\u001b[37m\u001b[0m \u001b[1m0s\u001b[0m 22ms/step\n",
      "\u001b[1m1/1\u001b[0m \u001b[32m━━━━━━━━━━━━━━━━━━━━\u001b[0m\u001b[37m\u001b[0m \u001b[1m0s\u001b[0m 22ms/step\n",
      "\u001b[1m1/1\u001b[0m \u001b[32m━━━━━━━━━━━━━━━━━━━━\u001b[0m\u001b[37m\u001b[0m \u001b[1m0s\u001b[0m 24ms/step\n",
      "\u001b[1m1/1\u001b[0m \u001b[32m━━━━━━━━━━━━━━━━━━━━\u001b[0m\u001b[37m\u001b[0m \u001b[1m0s\u001b[0m 21ms/step\n",
      "\u001b[1m1/1\u001b[0m \u001b[32m━━━━━━━━━━━━━━━━━━━━\u001b[0m\u001b[37m\u001b[0m \u001b[1m0s\u001b[0m 22ms/step\n",
      "\u001b[1m1/1\u001b[0m \u001b[32m━━━━━━━━━━━━━━━━━━━━\u001b[0m\u001b[37m\u001b[0m \u001b[1m0s\u001b[0m 22ms/step\n",
      "\u001b[1m1/1\u001b[0m \u001b[32m━━━━━━━━━━━━━━━━━━━━\u001b[0m\u001b[37m\u001b[0m \u001b[1m0s\u001b[0m 21ms/step\n",
      "\u001b[1m1/1\u001b[0m \u001b[32m━━━━━━━━━━━━━━━━━━━━\u001b[0m\u001b[37m\u001b[0m \u001b[1m0s\u001b[0m 21ms/step\n",
      "\u001b[1m1/1\u001b[0m \u001b[32m━━━━━━━━━━━━━━━━━━━━\u001b[0m\u001b[37m\u001b[0m \u001b[1m0s\u001b[0m 22ms/step\n",
      "\u001b[1m1/1\u001b[0m \u001b[32m━━━━━━━━━━━━━━━━━━━━\u001b[0m\u001b[37m\u001b[0m \u001b[1m0s\u001b[0m 21ms/step\n",
      "\u001b[1m1/1\u001b[0m \u001b[32m━━━━━━━━━━━━━━━━━━━━\u001b[0m\u001b[37m\u001b[0m \u001b[1m0s\u001b[0m 23ms/step\n",
      "\u001b[1m1/1\u001b[0m \u001b[32m━━━━━━━━━━━━━━━━━━━━\u001b[0m\u001b[37m\u001b[0m \u001b[1m0s\u001b[0m 24ms/step\n",
      "\u001b[1m1/1\u001b[0m \u001b[32m━━━━━━━━━━━━━━━━━━━━\u001b[0m\u001b[37m\u001b[0m \u001b[1m0s\u001b[0m 21ms/step\n",
      "\u001b[1m1/1\u001b[0m \u001b[32m━━━━━━━━━━━━━━━━━━━━\u001b[0m\u001b[37m\u001b[0m \u001b[1m0s\u001b[0m 22ms/step\n",
      "\u001b[1m1/1\u001b[0m \u001b[32m━━━━━━━━━━━━━━━━━━━━\u001b[0m\u001b[37m\u001b[0m \u001b[1m0s\u001b[0m 21ms/step\n",
      "\u001b[1m1/1\u001b[0m \u001b[32m━━━━━━━━━━━━━━━━━━━━\u001b[0m\u001b[37m\u001b[0m \u001b[1m0s\u001b[0m 23ms/step\n",
      "\u001b[1m1/1\u001b[0m \u001b[32m━━━━━━━━━━━━━━━━━━━━\u001b[0m\u001b[37m\u001b[0m \u001b[1m0s\u001b[0m 24ms/step\n",
      "\u001b[1m1/1\u001b[0m \u001b[32m━━━━━━━━━━━━━━━━━━━━\u001b[0m\u001b[37m\u001b[0m \u001b[1m0s\u001b[0m 22ms/step\n",
      "\u001b[1m1/1\u001b[0m \u001b[32m━━━━━━━━━━━━━━━━━━━━\u001b[0m\u001b[37m\u001b[0m \u001b[1m0s\u001b[0m 21ms/step\n",
      "\u001b[1m1/1\u001b[0m \u001b[32m━━━━━━━━━━━━━━━━━━━━\u001b[0m\u001b[37m\u001b[0m \u001b[1m0s\u001b[0m 21ms/step\n",
      "\u001b[1m1/1\u001b[0m \u001b[32m━━━━━━━━━━━━━━━━━━━━\u001b[0m\u001b[37m\u001b[0m \u001b[1m0s\u001b[0m 33ms/step\n",
      "\u001b[1m1/1\u001b[0m \u001b[32m━━━━━━━━━━━━━━━━━━━━\u001b[0m\u001b[37m\u001b[0m \u001b[1m0s\u001b[0m 27ms/step\n",
      "\u001b[1m1/1\u001b[0m \u001b[32m━━━━━━━━━━━━━━━━━━━━\u001b[0m\u001b[37m\u001b[0m \u001b[1m0s\u001b[0m 30ms/step\n",
      "\u001b[1m1/1\u001b[0m \u001b[32m━━━━━━━━━━━━━━━━━━━━\u001b[0m\u001b[37m\u001b[0m \u001b[1m0s\u001b[0m 24ms/step\n",
      "\u001b[1m1/1\u001b[0m \u001b[32m━━━━━━━━━━━━━━━━━━━━\u001b[0m\u001b[37m\u001b[0m \u001b[1m0s\u001b[0m 23ms/step\n",
      "\u001b[1m1/1\u001b[0m \u001b[32m━━━━━━━━━━━━━━━━━━━━\u001b[0m\u001b[37m\u001b[0m \u001b[1m0s\u001b[0m 26ms/step\n",
      "\u001b[1m1/1\u001b[0m \u001b[32m━━━━━━━━━━━━━━━━━━━━\u001b[0m\u001b[37m\u001b[0m \u001b[1m0s\u001b[0m 26ms/step\n",
      "\u001b[1m1/1\u001b[0m \u001b[32m━━━━━━━━━━━━━━━━━━━━\u001b[0m\u001b[37m\u001b[0m \u001b[1m0s\u001b[0m 22ms/step\n",
      "\u001b[1m1/1\u001b[0m \u001b[32m━━━━━━━━━━━━━━━━━━━━\u001b[0m\u001b[37m\u001b[0m \u001b[1m0s\u001b[0m 21ms/step\n",
      "\u001b[1m1/1\u001b[0m \u001b[32m━━━━━━━━━━━━━━━━━━━━\u001b[0m\u001b[37m\u001b[0m \u001b[1m0s\u001b[0m 21ms/step\n",
      "\u001b[1m1/1\u001b[0m \u001b[32m━━━━━━━━━━━━━━━━━━━━\u001b[0m\u001b[37m\u001b[0m \u001b[1m0s\u001b[0m 23ms/step\n",
      "\u001b[1m1/1\u001b[0m \u001b[32m━━━━━━━━━━━━━━━━━━━━\u001b[0m\u001b[37m\u001b[0m \u001b[1m0s\u001b[0m 24ms/step\n",
      "\u001b[1m1/1\u001b[0m \u001b[32m━━━━━━━━━━━━━━━━━━━━\u001b[0m\u001b[37m\u001b[0m \u001b[1m0s\u001b[0m 25ms/step\n",
      "\u001b[1m1/1\u001b[0m \u001b[32m━━━━━━━━━━━━━━━━━━━━\u001b[0m\u001b[37m\u001b[0m \u001b[1m0s\u001b[0m 24ms/step\n",
      "\u001b[1m1/1\u001b[0m \u001b[32m━━━━━━━━━━━━━━━━━━━━\u001b[0m\u001b[37m\u001b[0m \u001b[1m0s\u001b[0m 22ms/step\n",
      "\u001b[1m1/1\u001b[0m \u001b[32m━━━━━━━━━━━━━━━━━━━━\u001b[0m\u001b[37m\u001b[0m \u001b[1m0s\u001b[0m 21ms/step\n",
      "\u001b[1m1/1\u001b[0m \u001b[32m━━━━━━━━━━━━━━━━━━━━\u001b[0m\u001b[37m\u001b[0m \u001b[1m0s\u001b[0m 23ms/step\n",
      "\u001b[1m1/1\u001b[0m \u001b[32m━━━━━━━━━━━━━━━━━━━━\u001b[0m\u001b[37m\u001b[0m \u001b[1m0s\u001b[0m 23ms/step\n",
      "\u001b[1m1/1\u001b[0m \u001b[32m━━━━━━━━━━━━━━━━━━━━\u001b[0m\u001b[37m\u001b[0m \u001b[1m0s\u001b[0m 23ms/step\n",
      "\u001b[1m1/1\u001b[0m \u001b[32m━━━━━━━━━━━━━━━━━━━━\u001b[0m\u001b[37m\u001b[0m \u001b[1m0s\u001b[0m 22ms/step\n",
      "\u001b[1m1/1\u001b[0m \u001b[32m━━━━━━━━━━━━━━━━━━━━\u001b[0m\u001b[37m\u001b[0m \u001b[1m0s\u001b[0m 21ms/step\n",
      "\u001b[1m1/1\u001b[0m \u001b[32m━━━━━━━━━━━━━━━━━━━━\u001b[0m\u001b[37m\u001b[0m \u001b[1m0s\u001b[0m 23ms/step\n",
      "\u001b[1m1/1\u001b[0m \u001b[32m━━━━━━━━━━━━━━━━━━━━\u001b[0m\u001b[37m\u001b[0m \u001b[1m0s\u001b[0m 28ms/step\n",
      "\u001b[1m1/1\u001b[0m \u001b[32m━━━━━━━━━━━━━━━━━━━━\u001b[0m\u001b[37m\u001b[0m \u001b[1m0s\u001b[0m 32ms/step\n",
      "\u001b[1m1/1\u001b[0m \u001b[32m━━━━━━━━━━━━━━━━━━━━\u001b[0m\u001b[37m\u001b[0m \u001b[1m0s\u001b[0m 22ms/step\n",
      "\u001b[1m1/1\u001b[0m \u001b[32m━━━━━━━━━━━━━━━━━━━━\u001b[0m\u001b[37m\u001b[0m \u001b[1m0s\u001b[0m 23ms/step\n",
      "\u001b[1m1/1\u001b[0m \u001b[32m━━━━━━━━━━━━━━━━━━━━\u001b[0m\u001b[37m\u001b[0m \u001b[1m0s\u001b[0m 22ms/step\n",
      "\u001b[1m1/1\u001b[0m \u001b[32m━━━━━━━━━━━━━━━━━━━━\u001b[0m\u001b[37m\u001b[0m \u001b[1m0s\u001b[0m 24ms/step\n",
      "\u001b[1m1/1\u001b[0m \u001b[32m━━━━━━━━━━━━━━━━━━━━\u001b[0m\u001b[37m\u001b[0m \u001b[1m0s\u001b[0m 23ms/step\n",
      "\u001b[1m1/1\u001b[0m \u001b[32m━━━━━━━━━━━━━━━━━━━━\u001b[0m\u001b[37m\u001b[0m \u001b[1m0s\u001b[0m 21ms/step\n",
      "\u001b[1m1/1\u001b[0m \u001b[32m━━━━━━━━━━━━━━━━━━━━\u001b[0m\u001b[37m\u001b[0m \u001b[1m0s\u001b[0m 21ms/step\n",
      "\u001b[1m1/1\u001b[0m \u001b[32m━━━━━━━━━━━━━━━━━━━━\u001b[0m\u001b[37m\u001b[0m \u001b[1m0s\u001b[0m 20ms/step\n",
      "\u001b[1m1/1\u001b[0m \u001b[32m━━━━━━━━━━━━━━━━━━━━\u001b[0m\u001b[37m\u001b[0m \u001b[1m0s\u001b[0m 23ms/step\n",
      "\u001b[1m1/1\u001b[0m \u001b[32m━━━━━━━━━━━━━━━━━━━━\u001b[0m\u001b[37m\u001b[0m \u001b[1m0s\u001b[0m 23ms/step\n",
      "\u001b[1m1/1\u001b[0m \u001b[32m━━━━━━━━━━━━━━━━━━━━\u001b[0m\u001b[37m\u001b[0m \u001b[1m0s\u001b[0m 21ms/step\n",
      "\u001b[1m1/1\u001b[0m \u001b[32m━━━━━━━━━━━━━━━━━━━━\u001b[0m\u001b[37m\u001b[0m \u001b[1m0s\u001b[0m 22ms/step\n",
      "\u001b[1m1/1\u001b[0m \u001b[32m━━━━━━━━━━━━━━━━━━━━\u001b[0m\u001b[37m\u001b[0m \u001b[1m0s\u001b[0m 21ms/step\n",
      "\u001b[1m1/1\u001b[0m \u001b[32m━━━━━━━━━━━━━━━━━━━━\u001b[0m\u001b[37m\u001b[0m \u001b[1m0s\u001b[0m 21ms/step\n",
      "\u001b[1m1/1\u001b[0m \u001b[32m━━━━━━━━━━━━━━━━━━━━\u001b[0m\u001b[37m\u001b[0m \u001b[1m0s\u001b[0m 23ms/step\n",
      "\u001b[1m1/1\u001b[0m \u001b[32m━━━━━━━━━━━━━━━━━━━━\u001b[0m\u001b[37m\u001b[0m \u001b[1m0s\u001b[0m 24ms/step\n",
      "\u001b[1m1/1\u001b[0m \u001b[32m━━━━━━━━━━━━━━━━━━━━\u001b[0m\u001b[37m\u001b[0m \u001b[1m0s\u001b[0m 22ms/step\n",
      "\u001b[1m1/1\u001b[0m \u001b[32m━━━━━━━━━━━━━━━━━━━━\u001b[0m\u001b[37m\u001b[0m \u001b[1m0s\u001b[0m 21ms/step\n",
      "\u001b[1m1/1\u001b[0m \u001b[32m━━━━━━━━━━━━━━━━━━━━\u001b[0m\u001b[37m\u001b[0m \u001b[1m0s\u001b[0m 21ms/step\n",
      "\u001b[1m1/1\u001b[0m \u001b[32m━━━━━━━━━━━━━━━━━━━━\u001b[0m\u001b[37m\u001b[0m \u001b[1m0s\u001b[0m 23ms/step\n",
      "\u001b[1m1/1\u001b[0m \u001b[32m━━━━━━━━━━━━━━━━━━━━\u001b[0m\u001b[37m\u001b[0m \u001b[1m0s\u001b[0m 23ms/step\n",
      "\u001b[1m1/1\u001b[0m \u001b[32m━━━━━━━━━━━━━━━━━━━━\u001b[0m\u001b[37m\u001b[0m \u001b[1m0s\u001b[0m 23ms/step\n",
      "\u001b[1m1/1\u001b[0m \u001b[32m━━━━━━━━━━━━━━━━━━━━\u001b[0m\u001b[37m\u001b[0m \u001b[1m0s\u001b[0m 22ms/step\n",
      "\u001b[1m1/1\u001b[0m \u001b[32m━━━━━━━━━━━━━━━━━━━━\u001b[0m\u001b[37m\u001b[0m \u001b[1m0s\u001b[0m 22ms/step\n",
      "\u001b[1m1/1\u001b[0m \u001b[32m━━━━━━━━━━━━━━━━━━━━\u001b[0m\u001b[37m\u001b[0m \u001b[1m0s\u001b[0m 21ms/step\n",
      "\u001b[1m1/1\u001b[0m \u001b[32m━━━━━━━━━━━━━━━━━━━━\u001b[0m\u001b[37m\u001b[0m \u001b[1m0s\u001b[0m 24ms/step\n",
      "\u001b[1m1/1\u001b[0m \u001b[32m━━━━━━━━━━━━━━━━━━━━\u001b[0m\u001b[37m\u001b[0m \u001b[1m0s\u001b[0m 23ms/step\n",
      "\u001b[1m1/1\u001b[0m \u001b[32m━━━━━━━━━━━━━━━━━━━━\u001b[0m\u001b[37m\u001b[0m \u001b[1m0s\u001b[0m 22ms/step\n",
      "\u001b[1m1/1\u001b[0m \u001b[32m━━━━━━━━━━━━━━━━━━━━\u001b[0m\u001b[37m\u001b[0m \u001b[1m0s\u001b[0m 21ms/step\n",
      "\u001b[1m1/1\u001b[0m \u001b[32m━━━━━━━━━━━━━━━━━━━━\u001b[0m\u001b[37m\u001b[0m \u001b[1m0s\u001b[0m 21ms/step\n",
      "\u001b[1m1/1\u001b[0m \u001b[32m━━━━━━━━━━━━━━━━━━━━\u001b[0m\u001b[37m\u001b[0m \u001b[1m0s\u001b[0m 21ms/step\n",
      "\u001b[1m1/1\u001b[0m \u001b[32m━━━━━━━━━━━━━━━━━━━━\u001b[0m\u001b[37m\u001b[0m \u001b[1m0s\u001b[0m 24ms/step\n",
      "\u001b[1m1/1\u001b[0m \u001b[32m━━━━━━━━━━━━━━━━━━━━\u001b[0m\u001b[37m\u001b[0m \u001b[1m0s\u001b[0m 22ms/step\n",
      "\u001b[1m1/1\u001b[0m \u001b[32m━━━━━━━━━━━━━━━━━━━━\u001b[0m\u001b[37m\u001b[0m \u001b[1m0s\u001b[0m 22ms/step\n",
      "\u001b[1m1/1\u001b[0m \u001b[32m━━━━━━━━━━━━━━━━━━━━\u001b[0m\u001b[37m\u001b[0m \u001b[1m0s\u001b[0m 22ms/step\n",
      "\u001b[1m1/1\u001b[0m \u001b[32m━━━━━━━━━━━━━━━━━━━━\u001b[0m\u001b[37m\u001b[0m \u001b[1m0s\u001b[0m 21ms/step\n"
     ]
    }
   ],
   "source": [
    "# Perform prediction for the first 200 rows one sample at a time\n",
    "num_samples = min(100,len(x_test_main)) # Limit to the first 200 rows\n",
    "predictions = []\n",
    "\n",
    "for i in range(num_samples):\n",
    "    single_x_test = x_test_main[i:i+1]\n",
    "    single_y_test = y_test_main[i:i+1, :-1]  # Exclude last token\n",
    "    single_prediction = model.predict([single_x_test, single_y_test])\n",
    "    predictions.append(single_prediction)\n",
    "\n",
    "# Concatenate predictions\n",
    "predictions = np.concatenate(predictions, axis=0)"
   ]
  },
  {
   "cell_type": "code",
   "execution_count": 55,
   "id": "3d2fe97f",
   "metadata": {
    "execution": {
     "iopub.execute_input": "2024-03-07T22:54:20.111053Z",
     "iopub.status.busy": "2024-03-07T22:54:20.110642Z",
     "iopub.status.idle": "2024-03-07T22:54:20.117560Z",
     "shell.execute_reply": "2024-03-07T22:54:20.116697Z"
    },
    "papermill": {
     "duration": 0.87992,
     "end_time": "2024-03-07T22:54:20.119524",
     "exception": false,
     "start_time": "2024-03-07T22:54:19.239604",
     "status": "completed"
    },
    "tags": []
   },
   "outputs": [
    {
     "data": {
      "text/plain": [
       "'def decode_prediction(prediction, tokenizer):\\n    # Get the index of the token with the highest probability for each time step\\n    token_indices = np.argmax(prediction, axis=-1)\\n    # Convert token indices to words using the tokenizer, handling out-of-vocabulary indices\\n    words = [tokenizer.index_word.get(index, \\'<UNK>\\') for index in token_indices if index != 0]  # Exclude padding token\\n    # Join the words into a single sentence\\n    sentence = \\' \\'.join(words)\\n    return sentence\\n\\n# Decode each prediction and print the corresponding Hindi sentences\\nfor i, prediction in enumerate(predictions):\\n    decoded_sentence = decode_prediction(prediction,tok_hindi)\\n    print(f\"Predicted Hindi sentence {i+1}: {decoded_sentence}\")\\n'"
      ]
     },
     "execution_count": 55,
     "metadata": {},
     "output_type": "execute_result"
    }
   ],
   "source": [
    "\"\"\"def decode_prediction(prediction, tokenizer):\n",
    "    # Get the index of the token with the highest probability for each time step\n",
    "    token_indices = np.argmax(prediction, axis=-1)\n",
    "    # Convert token indices to words using the tokenizer, handling out-of-vocabulary indices\n",
    "    words = [tokenizer.index_word.get(index, '<UNK>') for index in token_indices if index != 0]  # Exclude padding token\n",
    "    # Join the words into a single sentence\n",
    "    sentence = ' '.join(words)\n",
    "    return sentence\n",
    "\n",
    "# Decode each prediction and print the corresponding Hindi sentences\n",
    "for i, prediction in enumerate(predictions):\n",
    "    decoded_sentence = decode_prediction(prediction,tok_hindi)\n",
    "    print(f\"Predicted Hindi sentence {i+1}: {decoded_sentence}\")\n",
    "\"\"\""
   ]
  },
  {
   "cell_type": "code",
   "execution_count": 56,
   "id": "ca8ddfaf",
   "metadata": {
    "execution": {
     "iopub.execute_input": "2024-03-07T22:54:21.911515Z",
     "iopub.status.busy": "2024-03-07T22:54:21.911122Z",
     "iopub.status.idle": "2024-03-07T22:54:21.915640Z",
     "shell.execute_reply": "2024-03-07T22:54:21.914729Z"
    },
    "papermill": {
     "duration": 0.86695,
     "end_time": "2024-03-07T22:54:21.917967",
     "exception": false,
     "start_time": "2024-03-07T22:54:21.051017",
     "status": "completed"
    },
    "tags": []
   },
   "outputs": [],
   "source": [
    "#from nltk.translate.bleu_score import corpus_bleu\n",
    "# Convert numpy arrays to lists\n",
    "#filtered_predictions_lists = [pred.tolist() for pred in filtered_predictions]\n",
    "\n",
    "# Compute BLEU score\n",
    "#bleu_score = corpus_bleu([[ref] for ref in reference_translations[:len(filtered_predictions)]],decoded_sentence)\n",
    "#print(\"BLEU Score:\", bleu_score)"
   ]
  },
  {
   "cell_type": "markdown",
   "metadata": {},
   "source": [
    "![](https://img.freepik.com/free-vector/thank-you-lettering-with-curls_1262-6964.jpg)"
   ]
  }
 ],
 "metadata": {
  "kaggle": {
   "accelerator": "nvidiaTeslaT4",
   "dataSources": [
    {
     "datasetId": 2502545,
     "sourceId": 4246862,
     "sourceType": "datasetVersion"
    },
    {
     "datasetId": 4536739,
     "sourceId": 7758028,
     "sourceType": "datasetVersion"
    }
   ],
   "dockerImageVersionId": 30664,
   "isGpuEnabled": true,
   "isInternetEnabled": true,
   "language": "python",
   "sourceType": "notebook"
  },
  "kernelspec": {
   "display_name": "Python 3",
   "language": "python",
   "name": "python3"
  },
  "language_info": {
   "codemirror_mode": {
    "name": "ipython",
    "version": 3
   },
   "file_extension": ".py",
   "mimetype": "text/x-python",
   "name": "python",
   "nbconvert_exporter": "python",
   "pygments_lexer": "ipython3",
   "version": "3.10.13"
  },
  "papermill": {
   "default_parameters": {},
   "duration": 11406.01015,
   "end_time": "2024-03-07T22:54:25.971601",
   "environment_variables": {},
   "exception": null,
   "input_path": "__notebook__.ipynb",
   "output_path": "__notebook__.ipynb",
   "parameters": {},
   "start_time": "2024-03-07T19:44:19.961451",
   "version": "2.5.0"
  }
 },
 "nbformat": 4,
 "nbformat_minor": 5
}
